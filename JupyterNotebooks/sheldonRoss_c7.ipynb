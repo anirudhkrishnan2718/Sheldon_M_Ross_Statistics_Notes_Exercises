{
 "cells": [
  {
   "cell_type": "code",
   "execution_count": 2,
   "id": "6bfa6ded-3805-47e7-bf5b-0c01b49b3a91",
   "metadata": {},
   "outputs": [
    {
     "name": "stdout",
     "output_type": "stream",
     "text": [
      "numpy version is 1.20.3\n",
      "pandas version is 1.3.1\n"
     ]
    }
   ],
   "source": [
    "import numpy as np\n",
    "import pandas as pd\n",
    "import string\n",
    "import calendar\n",
    "import re\n",
    "import math\n",
    "import sympy\n",
    "import matplotlib.pyplot as plt\n",
    "\n",
    "from fractions import Fraction\n",
    "from scipy import stats\n",
    "\n",
    "\n",
    "print(f\"numpy version is {np.__version__}\")\n",
    "print(f\"pandas version is {pd.__version__}\")"
   ]
  },
  {
   "cell_type": "code",
   "execution_count": 79,
   "id": "fc10b4e8-4275-4686-9ac6-f18fb670cf3a",
   "metadata": {},
   "outputs": [],
   "source": [
    "df6 = pd.read_csv('floods.txt', delimiter=' ', header = None, names = ['Year', 'Discharge'], thousands=',')\n",
    "df6['LogD'] = np.log(df6['Discharge'])"
   ]
  },
  {
   "cell_type": "code",
   "execution_count": 80,
   "id": "c0d252fb-4674-403e-b236-e9ce5332b977",
   "metadata": {},
   "outputs": [
    {
     "name": "stdout",
     "output_type": "stream",
     "text": [
      "9.80042185423242 18041.354144329936 8.593013211862917 0.51901465633867\n"
     ]
    }
   ],
   "source": [
    "m6 = df6['LogD'].mean()\n",
    "s6 = df6['LogD'].std()\n",
    "y6 = m6 + stats.norm.ppf(0.99)*s6\n",
    "x6 = math.pow(math.e, y6)\n",
    "print(y6, x6, m6, s6)"
   ]
  },
  {
   "cell_type": "code",
   "execution_count": 90,
   "id": "801e872d-c303-4580-a56e-9bbf7d55d381",
   "metadata": {},
   "outputs": [
    {
     "name": "stdout",
     "output_type": "stream",
     "text": [
      "45.55999609313505\n"
     ]
    }
   ],
   "source": [
    "df7 = pd.DataFrame(np.log(np.array([42,28,53,57,67,39,35,50,44,39])))\n",
    "m7 = df7[0].mean()\n",
    "v7 = df7[0].var()\n",
    "print(math.exp(m7 + 0.5*v7))"
   ]
  },
  {
   "cell_type": "code",
   "execution_count": 112,
   "id": "714efd70-d88b-493f-b9df-26a238eff501",
   "metadata": {},
   "outputs": [
    {
     "name": "stdout",
     "output_type": "stream",
     "text": [
      "3.1502 0.11519458842342563\n",
      "3.035005411576574 3.2653945884234257\n"
     ]
    }
   ],
   "source": [
    "df8 = pd.DataFrame(np.array([3.142, 3.163, 3.155, 3.150, 3.141]))\n",
    "m8 = df8[0].mean()\n",
    "v8 = df8[0].std()\n",
    "i8 = 0.1*stats.norm.ppf(1 - 0.01/2) / math.sqrt(5)\n",
    "j8 = 0.1*2.58 / math.sqrt(5)\n",
    "print(m8, i8)\n",
    "print((m8-i8), (m8+i8))"
   ]
  },
  {
   "cell_type": "code",
   "execution_count": 46,
   "id": "d0c6f869-b0cd-468e-8bcf-aeeb8abb4601",
   "metadata": {},
   "outputs": [
    {
     "name": "stdout",
     "output_type": "stream",
     "text": [
      "11.566666666666666 2.4667709827581628\n",
      "9.099895683908503 14.03343764942483\n",
      "2.070179467507196 9.496487199159471 13.636846134173862\n"
     ]
    }
   ],
   "source": [
    "df9 = pd.DataFrame(np.array([14,8,12,9,5,22,15,12,16,7,10,9,15,15,12,9,11,16,8,7,15,13,9,5,18,14,10,13,7,11]))\n",
    "m9 = df9[0].mean()\n",
    "v9 = df9[0].std()\n",
    "i9 = v9*stats.norm.ppf(1 - 0.05/2) / math.sqrt(10)\n",
    "k9 = v9*stats.norm.ppf(1 - 0.05) / math.sqrt(10)\n",
    "j9 = 0.1*2.58 / math.sqrt(5)\n",
    "print(m9, i9)\n",
    "print((m9-i9), (m9+i9))\n",
    "print(k9, m9-k9, m9+k9)"
   ]
  },
  {
   "cell_type": "code",
   "execution_count": 120,
   "id": "1ab98419-e48a-4d59-a633-5db0725fe7d8",
   "metadata": {},
   "outputs": [
    {
     "name": "stdout",
     "output_type": "stream",
     "text": [
      "74.6 2.0652051093946264\n",
      "72.53479489060537 76.66520510939462\n"
     ]
    }
   ],
   "source": [
    "m10 = 4\n",
    "i10 = 1*stats.norm.ppf(1 - 0.1/2) / math.sqrt()\n",
    "print(m10, i10)\n",
    "print((m10-i10), (m10+i10))"
   ]
  },
  {
   "cell_type": "code",
   "execution_count": 123,
   "id": "a29fa1c4-b6bc-49e9-be49-c0e7cd035132",
   "metadata": {},
   "outputs": [
    {
     "name": "stdout",
     "output_type": "stream",
     "text": [
      "1.2 0.10403743971334876\n",
      "1.0959625602866512 1.3040374397133487\n"
     ]
    }
   ],
   "source": [
    "m11 = 1.2\n",
    "i11 = 0.2*stats.norm.ppf(1 - 0.01) / math.sqrt(20)\n",
    "print(m11, i11)\n",
    "print((m11-i11), (m11+i11))"
   ]
  },
  {
   "cell_type": "code",
   "execution_count": 61,
   "id": "3f18254d-305d-4f84-80bc-4267d32801bb",
   "metadata": {},
   "outputs": [
    {
     "name": "stdout",
     "output_type": "stream",
     "text": [
      "2.5 0.5075999312204516\n",
      "1.9924000687795484 3.0075999312204518\n"
     ]
    }
   ],
   "source": [
    "m12 = 2.5\n",
    "s12 = 2.12\n",
    "numsMan = 30\n",
    "i12 = s12*stats.t.ppf(1 - 0.2/2, numsMan - 1)  / math.sqrt(numsMan)\n",
    "print(m12, i12)\n",
    "print((m12-i12), (m12+i12))"
   ]
  },
  {
   "cell_type": "code",
   "execution_count": 161,
   "id": "88f62959-c7cf-4d0b-94d4-d4a611c23bb7",
   "metadata": {},
   "outputs": [
    {
     "name": "stdout",
     "output_type": "stream",
     "text": [
      "133.22222222222223 4.308936881192598 10.212769144300248\n",
      "128.91328534102962 137.53115910341484\n"
     ]
    }
   ],
   "source": [
    "df17 = pd.read_csv('LeadMelt.txt', delimiter=',', header = None).T\n",
    "m17 = df17[0].mean()\n",
    "v17 = df17[0].std()\n",
    "i17 = v17*stats.t.ppf(1 - 0.1/2, 17) / math.sqrt(17)\n",
    "#i17 = v17*1.96 / math.sqrt(17)\n",
    "print(m17, i17, v17)\n",
    "print((m17-i17), (m17+i17))"
   ]
  },
  {
   "cell_type": "code",
   "execution_count": 53,
   "id": "b6ae0bb4-0104-4cee-b371-4efe192d1ce7",
   "metadata": {},
   "outputs": [
    {
     "name": "stdout",
     "output_type": "stream",
     "text": [
      "Mean 4.7250000000000005 Interval 0.6006735676008826 StdDev 0.3774917217635376\n",
      "Lower 4.124326432399118 Higher 5.325673567600883\n"
     ]
    }
   ],
   "source": [
    "#df26 = pd.read_csv('stepsWalked.txt', thousands = ',', header = None, delimiter = ', ').T\n",
    "#e26 = pd.DataFrame(df26.to_numpy().flatten())\n",
    "df26 = pd.DataFrame(np.array([5.2, 4.6, 4.3, 4.8]))\n",
    "m26 = df26[0].mean()\n",
    "v26 = df26[0].std()\n",
    "num = 4\n",
    "i26 = v26*stats.t.ppf(1 - 0.05/2, num - 1) / math.sqrt(num)\n",
    "print('Mean', m26, 'Interval', i26, 'StdDev', v26)\n",
    "print('Lower', (m26-i26), 'Higher', (m26+i26))"
   ]
  },
  {
   "cell_type": "code",
   "execution_count": 45,
   "id": "bee19098-8d51-417f-8c19-fd8797aafdfe",
   "metadata": {},
   "outputs": [],
   "source": [
    "exp = np.array([])\n",
    "for m in range(1, 6):\n",
    "    samples = np.array([])\n",
    "    for i in range(10**m):\n",
    "        nums = 0\n",
    "        running_sum = 0\n",
    "        while running_sum < 1:\n",
    "            running_sum += stats.uniform.rvs()\n",
    "            nums += 1\n",
    "        samples = np.append(samples, nums)\n",
    "    exp = np.append(exp, np.mean(samples))"
   ]
  },
  {
   "cell_type": "code",
   "execution_count": 47,
   "id": "81396bdd",
   "metadata": {
    "scrolled": false
   },
   "outputs": [
    {
     "name": "stdout",
     "output_type": "stream",
     "text": [
      "(10, 2.7) (100, 2.58) (1000, 2.685) (10000, 2.725) (100000, 2.71776)\n"
     ]
    }
   ],
   "source": [
    "xVals = np.array([10**k for k in range(1, 7)])\n",
    "print(*list(zip(xVals, exp)))"
   ]
  },
  {
   "cell_type": "markdown",
   "id": "fd1c8944",
   "metadata": {},
   "source": [
    "#### Import a list and calculate prediction interval for next item"
   ]
  },
  {
   "cell_type": "code",
   "execution_count": 60,
   "id": "4053e76f",
   "metadata": {},
   "outputs": [
    {
     "name": "stdout",
     "output_type": "stream",
     "text": [
      "Mean 4.7250000000000005 Interval 1.343146929442889 StdDev 0.3774917217635376\n",
      "Lower 3.3818530705571117 Higher 6.068146929442889\n"
     ]
    }
   ],
   "source": [
    "df27 = pd.DataFrame(np.array([5.2, 4.6, 4.3, 4.8]))\n",
    "m27 = df27[0].mean()\n",
    "v27 = df27[0].std()\n",
    "num = df27.shape[0]\n",
    "i27 = v27*math.sqrt(1 + 1/num)*stats.t.ppf(1 - 0.05/2, num-1)\n",
    "print('Mean', m27, 'Interval', i27, 'StdDev', v27)\n",
    "print('Lower', m27-i27, 'Higher', m27+i27)"
   ]
  },
  {
   "cell_type": "markdown",
   "id": "a1c25bdf",
   "metadata": {},
   "source": [
    "#### Import a list and calculate prediction interval for variance with unknown mean"
   ]
  },
  {
   "cell_type": "code",
   "execution_count": 77,
   "id": "7a9b0453",
   "metadata": {},
   "outputs": [
    {
     "name": "stdout",
     "output_type": "stream",
     "text": [
      "Mean 3.1783750000000004 StdDev 0.008052284502815798 Variance 6.483928571428745e-05 Num 8\n",
      "Lower 3.2264908538771405e-05 Higher 0.00020941473181273687\n",
      "Lower 0.00568022081778265 Higher 0.014471168985701773\n"
     ]
    }
   ],
   "source": [
    "df28 = pd.DataFrame(np.array([3.166,3.192,3.175,3.180,3.182,3.171,3.184,3.177]))\n",
    "#df28 = pd.DataFrame(np.loadtxt('floods.txt').flatten().T)\n",
    "m28 = df28[0].mean()\n",
    "v28 = df28[0].std()\n",
    "num28 = df28.shape[0]\n",
    "h28 = (num28 - 1) * v28 * v28 / (stats.chi2.ppf(1 - 0.1/2, num28 - 1))\n",
    "l28 = (num28 - 1) * v28 * v28 / (stats.chi2.ppf(0.1/2, num28 - 1))\n",
    "\n",
    "print('Mean', m28, 'StdDev', v28, 'Variance', v28*v28, 'Num', num28)\n",
    "print('Lower', h28, 'Higher', l28)\n",
    "print('Lower', math.sqrt(h28), 'Higher', math.sqrt(l28))"
   ]
  },
  {
   "cell_type": "markdown",
   "id": "be032657",
   "metadata": {},
   "source": [
    "#### difference in means of two normal dist wth common variance"
   ]
  },
  {
   "cell_type": "code",
   "execution_count": 101,
   "id": "4667c725",
   "metadata": {},
   "outputs": [
    {
     "name": "stdout",
     "output_type": "stream",
     "text": [
      "S_p 45.41126879237502 \n",
      "xbar - ybar -16.5\n",
      "Interval 58.45691424614121\n",
      "Lower -74.95691424614121 Higher 41.95691424614121\n"
     ]
    }
   ],
   "source": [
    "df41 = pd.read_csv('studyHours.txt', header = None, delimiter = ' ')\n",
    "#df28 = pd.DataFrame(np.loadtxt('floods.txt').flatten().T)\n",
    "m41 = df41[0].mean() - df41[1].mean()\n",
    "pooled_var = ((df41.shape[0] - 1)*df41[0].var() + (df41.shape[0] - 1)*df41[1].var()) / (df41.shape[0] + df41.shape[0] - 2)\n",
    "v41 = df41[0].std()\n",
    "num41 = df41.shape[0]\n",
    "\n",
    "\n",
    "i41 = math.sqrt(pooled_var * (1/df41.shape[0] + 1/df41.shape[0]))*stats.t.ppf(1 - 0.01/2, df41.shape[0] + df41.shape[0] - 2)\n",
    "\n",
    "print('S_p', math.sqrt(pooled_var), '\\nxbar - ybar', m41)\n",
    "print('Interval', i41)\n",
    "print('Lower', m41-i41, 'Higher', m41+i41)"
   ]
  },
  {
   "cell_type": "code",
   "execution_count": 97,
   "id": "d22832a8",
   "metadata": {},
   "outputs": [
    {
     "name": "stdout",
     "output_type": "stream",
     "text": [
      "S_p 2.1547290184283368 \n",
      "xbar - ybar -10\n",
      "Interval 1.120518643486838\n",
      "Lower -11.120518643486838 Higher -8.879481356513162\n"
     ]
    }
   ],
   "source": [
    "numA, numB = 36, 64\n",
    "meanA, meanB = 120, 130\n",
    "varA, varB = 4, 5\n",
    "\n",
    "varP = ((numA-1)*varA + (numB - 1)*varB) / (numA + numB - 2)\n",
    "# variances equal but unknown\n",
    "# i42 = math.sqrt(varP * (1/numA + 1/numB))*stats.t.ppf(1 - 0.01/2, numA + numB - 2)\n",
    "# variances differenct but known\n",
    "i42 = math.sqrt(varA/numA + varB/numB)*stats.norm.ppf(1 - 0.01/2)\n",
    "print('S_p', math.sqrt(varP), '\\nxbar - ybar', meanA - meanB)\n",
    "print('Interval', i42)\n",
    "print('Lower', meanA - meanB-i42, 'Higher', meanA - meanB+i42)"
   ]
  },
  {
   "cell_type": "markdown",
   "id": "9e6aa71f",
   "metadata": {},
   "source": [
    "#### ratio of variances when means are known. normal distributions."
   ]
  },
  {
   "cell_type": "code",
   "execution_count": 10,
   "id": "23c05424",
   "metadata": {},
   "outputs": [
    {
     "name": "stdout",
     "output_type": "stream",
     "text": [
      "0.02867419994621923 0.5804594867922475\n"
     ]
    }
   ],
   "source": [
    "dfA = pd.DataFrame(np.array([0.46, 0.62, 0.37, 0.40, 0.44, 0.58, 0.48, 0.53]))\n",
    "dfB = pd.DataFrame(np.array([0.82, 0.61, 0.89, 0.51, 0.33, 0.48, 0.23, 0.25, 0.67, 0.88]))\n",
    "\n",
    "var_est_A = dfA[0].var()\n",
    "var_est_B = dfB[0].var()\n",
    "\n",
    "highVal = (var_est_A / var_est_B) * stats.f.ppf(1 - 0.05/2, dfB.shape[0] - 1, dfA.shape[0] - 1)\n",
    "lowVal = (var_est_A / var_est_B) * stats.f.ppf(0.05/2, dfB.shape[0] - 1, dfA.shape[0] - 1)\n",
    "\n",
    "print(lowVal, highVal)"
   ]
  },
  {
   "cell_type": "code",
   "execution_count": 7,
   "id": "de4e219b",
   "metadata": {},
   "outputs": [
    {
     "data": {
      "text/plain": [
       "0    0.00655\n",
       "dtype: float64"
      ]
     },
     "execution_count": 7,
     "metadata": {},
     "output_type": "execute_result"
    }
   ],
   "source": [
    "var_est_A"
   ]
  },
  {
   "cell_type": "markdown",
   "id": "e12c8dc3",
   "metadata": {},
   "source": [
    "#### bernoulli parameter estimation "
   ]
  },
  {
   "cell_type": "code",
   "execution_count": 29,
   "id": "a934e3f4",
   "metadata": {},
   "outputs": [
    {
     "name": "stdout",
     "output_type": "stream",
     "text": [
      "Mean 0.17 Interval 0.08738525643503985\n",
      "Lower 0.08261474356496017 Higher 0.25738525643503984\n"
     ]
    }
   ],
   "source": [
    "pHat = 67/100\n",
    "numTot = 100\n",
    "i42 = math.sqrt(pHat * (1 - pHat) / numTot)*stats.norm.ppf(1 - 0.01)\n",
    "\n",
    "print('Mean', pHat, 'Interval', i42)\n",
    "print('Lower', pHat-i42, 'Higher', pHat+i42)"
   ]
  },
  {
   "cell_type": "code",
   "execution_count": 34,
   "id": "60099508",
   "metadata": {},
   "outputs": [
    {
     "data": {
      "text/plain": [
       "2400.9117629338284"
      ]
     },
     "execution_count": 34,
     "metadata": {},
     "output_type": "execute_result"
    }
   ],
   "source": [
    "stats.norm.ppf(1 - 0.05/2) ** 2 * (0.5 * (1-0.5)) / (0.02**2)"
   ]
  },
  {
   "cell_type": "markdown",
   "id": "a226fcc2",
   "metadata": {},
   "source": [
    "#### Exponential RV mean estimation"
   ]
  },
  {
   "cell_type": "code",
   "execution_count": 37,
   "id": "d45a03f7",
   "metadata": {},
   "outputs": [
    {
     "name": "stdout",
     "output_type": "stream",
     "text": [
      "intLow 22.922320223047826 intHigh 66.35448482553214\n"
     ]
    }
   ],
   "source": [
    "numT = 10\n",
    "thetaHat = 36\n",
    "\n",
    "intLow = 2 * thetaHat * numT / stats.chi2.ppf(1 - 0.1/2, 2*numT)\n",
    "intHigh = 2 * thetaHat * numT / stats.chi2.ppf(0.1/2, 2*numT)\n",
    "\n",
    "print('intLow', intLow, 'intHigh', intHigh)"
   ]
  },
  {
   "cell_type": "code",
   "execution_count": 39,
   "id": "d675d0d7",
   "metadata": {},
   "outputs": [
    {
     "data": {
      "text/plain": [
       "0.7142857142857143"
      ]
     },
     "execution_count": 39,
     "metadata": {},
     "output_type": "execute_result"
    }
   ],
   "source": [
    "4/5.6"
   ]
  },
  {
   "cell_type": "code",
   "execution_count": 46,
   "id": "3cf44f63",
   "metadata": {},
   "outputs": [
    {
     "name": "stdout",
     "output_type": "stream",
     "text": [
      "182.57369011800037 185.0667593202019\n",
      "183.82022471910113 1.2465346011007652\n"
     ]
    }
   ],
   "source": [
    "a = 20*4\n",
    "b = 9\n",
    "\n",
    "z = (182*a + 200*b)/(a+b)\n",
    "y = (4*9)/(a+b)\n",
    "i = math.sqrt(y) * stats.norm.ppf(1 - 0.05/2)\n",
    "print(z-i, z+i)\n",
    "print(z, i)"
   ]
  },
  {
   "cell_type": "code",
   "execution_count": null,
   "id": "ee5d9c12",
   "metadata": {},
   "outputs": [],
   "source": []
  },
  {
   "cell_type": "code",
   "execution_count": null,
   "id": "2a5cfaf7",
   "metadata": {},
   "outputs": [],
   "source": []
  }
 ],
 "metadata": {
  "kernelspec": {
   "display_name": "Python 3",
   "language": "python",
   "name": "python3"
  },
  "language_info": {
   "codemirror_mode": {
    "name": "ipython",
    "version": 3
   },
   "file_extension": ".py",
   "mimetype": "text/x-python",
   "name": "python",
   "nbconvert_exporter": "python",
   "pygments_lexer": "ipython3",
   "version": "3.8.3"
  }
 },
 "nbformat": 4,
 "nbformat_minor": 5
}
