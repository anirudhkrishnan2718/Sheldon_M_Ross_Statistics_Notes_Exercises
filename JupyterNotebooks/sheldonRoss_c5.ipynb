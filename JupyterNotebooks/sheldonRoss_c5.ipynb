{
 "cells": [
  {
   "cell_type": "code",
   "execution_count": 1,
   "id": "4c3c2c0d-17dd-4473-88f3-f94c18b3ff64",
   "metadata": {},
   "outputs": [
    {
     "name": "stdout",
     "output_type": "stream",
     "text": [
      "numpy version is 1.20.3\n",
      "pandas version is 1.3.1\n"
     ]
    }
   ],
   "source": [
    "import numpy as np\n",
    "import pandas as pd\n",
    "import string\n",
    "import calendar\n",
    "import re\n",
    "import math\n",
    "import sympy\n",
    "\n",
    "from fractions import Fraction\n",
    "from scipy import stats\n",
    "\n",
    "\n",
    "print(f\"numpy version is {np.__version__}\")\n",
    "print(f\"pandas version is {pd.__version__}\")"
   ]
  },
  {
   "cell_type": "code",
   "execution_count": 3,
   "id": "259d330f-d1b5-41dc-bc9f-d5d8cc53b399",
   "metadata": {},
   "outputs": [],
   "source": [
    "b = stats.binom(15, 0.7)"
   ]
  },
  {
   "cell_type": "code",
   "execution_count": 13,
   "id": "4e4c2d2c-70f6-48ec-85a3-da0a235a64bb",
   "metadata": {},
   "outputs": [
    {
     "data": {
      "text/plain": [
       "Fraction(1, 1024)"
      ]
     },
     "execution_count": 13,
     "metadata": {},
     "output_type": "execute_result"
    }
   ],
   "source": [
    "Fraction(b.pmf()).limit_denominator()"
   ]
  },
  {
   "cell_type": "code",
   "execution_count": 23,
   "id": "666a8a4c-3033-42de-95b8-48ed3f99bbdc",
   "metadata": {},
   "outputs": [
    {
     "name": "stdout",
     "output_type": "stream",
     "text": [
      "( 0 , 0.0 ) ( 1 , 0.0 ) ( 2 , 0.0 ) ( 3 , 0.0001 ) ( 4 , 0.0006 ) ( 5 , 0.003 ) ( 6 , 0.0116 ) ( 7 , 0.0348 ) ( 8 , 0.0811 ) ( 9 , 0.1472 ) ( 10 , 0.2061 ) ( 11 , 0.2186 ) ( 12 , 0.17 ) ( 13 , 0.0916 ) ( 14 , 0.0305 ) ( 15 , 0.0047 ) "
     ]
    }
   ],
   "source": [
    "for i in np.arange(0, 16, 1):\n",
    "    print('(',i,',',stats.binom.pmf(i, 15, 0.7).round(4), ')', end = ' ')"
   ]
  },
  {
   "cell_type": "code",
   "execution_count": 28,
   "id": "17a2e624-e1f1-4ff9-898b-8f8d0d36c6ee",
   "metadata": {},
   "outputs": [
    {
     "name": "stdout",
     "output_type": "stream",
     "text": [
      "( 0 , 0.0498 ) ( 1 , 0.1494 ) ( 2 , 0.224 ) ( 3 , 0.224 ) ( 4 , 0.168 ) ( 5 , 0.1008 ) ( 6 , 0.0504 ) ( 7 , 0.0216 ) ( 8 , 0.0081 ) ( 9 , 0.0027 ) ( 10 , 0.0008 ) "
     ]
    }
   ],
   "source": [
    "for i in np.arange(0, 11, 1):\n",
    "    print('(',i,',',stats.poisson.pmf(i, 3).round(4), ')', end = ' ')"
   ]
  },
  {
   "cell_type": "code",
   "execution_count": 2,
   "id": "f90a1ec4-cdc1-455b-8c4f-715553a2dddf",
   "metadata": {},
   "outputs": [
    {
     "data": {
      "text/plain": [
       "0.3989422804014327"
      ]
     },
     "execution_count": 2,
     "metadata": {},
     "output_type": "execute_result"
    }
   ],
   "source": [
    "math.sqrt(0.5/math.pi)"
   ]
  },
  {
   "cell_type": "code",
   "execution_count": 9,
   "id": "e7900d47-2b97-49e7-afd6-cdf68907dd7a",
   "metadata": {},
   "outputs": [
    {
     "name": "stdout",
     "output_type": "stream",
     "text": [
      "0.15865525393145707\n"
     ]
    }
   ],
   "source": [
    "print(1 - stats.norm.cdf(1))"
   ]
  },
  {
   "cell_type": "code",
   "execution_count": 19,
   "id": "8637d9b1-0f53-4679-9837-bc452214fd33",
   "metadata": {},
   "outputs": [
    {
     "data": {
      "text/plain": [
       "1307674368000"
      ]
     },
     "execution_count": 19,
     "metadata": {},
     "output_type": "execute_result"
    }
   ],
   "source": [
    "math.factorial(15)"
   ]
  },
  {
   "cell_type": "code",
   "execution_count": 2,
   "id": "12011d04-5735-4e60-8df6-053e558632f9",
   "metadata": {},
   "outputs": [
    {
     "name": "stdout",
     "output_type": "stream",
     "text": [
      "0.8208\n"
     ]
    }
   ],
   "source": [
    "a1 = stats.binom.pmf(0, 4, 0.6) + stats.binom.pmf(1, 4, 0.6)\n",
    "print(1 - a1)"
   ]
  },
  {
   "cell_type": "code",
   "execution_count": 4,
   "id": "deea53cb-f16a-4d63-91de-834597589646",
   "metadata": {},
   "outputs": [
    {
     "name": "stdout",
     "output_type": "stream",
     "text": [
      "0.05792000000000008\n"
     ]
    }
   ],
   "source": [
    "a2 = stats.binom.pmf(0, 5, 0.2) + stats.binom.pmf(1, 5, 0.2) + stats.binom.pmf(2, 5, 0.2)\n",
    "print(1 - a2)"
   ]
  },
  {
   "cell_type": "code",
   "execution_count": 5,
   "id": "da7efd9f-16e7-41d0-a30c-1487abf829a1",
   "metadata": {},
   "outputs": [
    {
     "name": "stdout",
     "output_type": "stream",
     "text": [
      "0.26682793200000016\n"
     ]
    }
   ],
   "source": [
    "a3 = stats.binom.pmf(7, 10, 0.7)\n",
    "print(a3)"
   ]
  },
  {
   "cell_type": "code",
   "execution_count": 7,
   "id": "04c8b196-004c-42ff-9005-c7d9de31c67f",
   "metadata": {},
   "outputs": [
    {
     "name": "stdout",
     "output_type": "stream",
     "text": [
      "27/64\n"
     ]
    }
   ],
   "source": [
    "a4 = stats.binom.pmf(3, 4, 0.75)\n",
    "print(Fraction(a4).limit_denominator())"
   ]
  },
  {
   "cell_type": "code",
   "execution_count": 36,
   "id": "56b3b3a1-499c-4d65-b999-be542dcf402d",
   "metadata": {},
   "outputs": [
    {
     "data": {
      "text/latex": [
       "$\\displaystyle 3 x^{4} - 8 x^{3} + 6 x^{2}$"
      ],
      "text/plain": [
       "3*x**4 - 8*x**3 + 6*x**2"
      ]
     },
     "execution_count": 36,
     "metadata": {},
     "output_type": "execute_result"
    }
   ],
   "source": [
    "x = sympy.symbols('x')\n",
    "sympy.expand(6*(x**2)*((1-x)**2) + 4*(x**3)*(1-x) + x**4)\n"
   ]
  },
  {
   "cell_type": "code",
   "execution_count": 37,
   "id": "fb8f1a49-9535-45b7-ba87-ea5f14fb8cd7",
   "metadata": {},
   "outputs": [
    {
     "data": {
      "text/latex": [
       "$\\displaystyle x \\left(x - 1\\right)^{2} \\left(3 x - 2\\right)$"
      ],
      "text/plain": [
       "x*(x - 1)**2*(3*x - 2)"
      ]
     },
     "execution_count": 37,
     "metadata": {},
     "output_type": "execute_result"
    }
   ],
   "source": [
    "sympy.factor(3*x**4 - 8*x**3 + 7*x**2 - 2*x)"
   ]
  },
  {
   "cell_type": "code",
   "execution_count": 45,
   "id": "1934750c-e0f0-4323-bd7e-c6a7ae9a762c",
   "metadata": {},
   "outputs": [
    {
     "name": "stdout",
     "output_type": "stream",
     "text": [
      "0.03675690900000004\n"
     ]
    }
   ],
   "source": [
    "a5 = stats.binom.pmf(4, 10, 0.7)\n",
    "print(a5)"
   ]
  },
  {
   "cell_type": "code",
   "execution_count": 60,
   "id": "718af419-f203-4d79-8089-e50bf2160452",
   "metadata": {},
   "outputs": [
    {
     "name": "stdout",
     "output_type": "stream",
     "text": [
      "\\begin{tabular}{lrrrrr}\n",
      "\\toprule\n",
      "{} &     n &    p &    X &  Poisson &  Binomial \\\\\n",
      "\\midrule\n",
      "0 &  10.0 &  0.1 &  2.0 &   0.1839 &    0.1937 \\\\\n",
      "1 &  10.0 &  0.1 &  0.0 &   0.3679 &    0.3487 \\\\\n",
      "2 &   9.0 &  0.2 &  4.0 &   0.0723 &    0.0661 \\\\\n",
      "\\bottomrule\n",
      "\\end{tabular}\n",
      "\n"
     ]
    }
   ],
   "source": [
    "a10 = [10, 0.1, 2, stats.poisson.pmf(2, 1), stats.binom.pmf(2, 10, 0.1)]\n",
    "b10 = [10, 0.1, 0, stats.poisson.pmf(0, 1), stats.binom.pmf(0, 10, 0.1)]\n",
    "c10 = [9, 0.2, 4, stats.poisson.pmf(4, 1.8), stats.binom.pmf(4, 9, 0.2)]\n",
    "df10 = pd.DataFrame(np.array([a10, b10, c10]).round(4), columns = ['n', 'p', 'X', 'Poisson', 'Binomial'])\n",
    "print(df10.to_latex())"
   ]
  },
  {
   "cell_type": "code",
   "execution_count": 68,
   "id": "615ba2a3-964a-4731-a28f-9a7441364972",
   "metadata": {},
   "outputs": [
    {
     "name": "stdout",
     "output_type": "stream",
     "text": [
      "0.1353352832366127\n",
      "0.049787068367863944\n"
     ]
    }
   ],
   "source": [
    "a11 = stats.poisson.pmf(0, 2)\n",
    "b11 = stats.poisson.pmf(0, 3)\n",
    "print(a11)\n",
    "print(b11)"
   ]
  },
  {
   "cell_type": "code",
   "execution_count": 69,
   "id": "b92e9677-5ec3-4695-97f9-da000dd643a6",
   "metadata": {},
   "outputs": [
    {
     "data": {
      "text/plain": [
       "0.890768227426964"
      ]
     },
     "execution_count": 69,
     "metadata": {},
     "output_type": "execute_result"
    }
   ],
   "source": [
    "(0.75*a11) / (0.75*a11 + 0.25*b11)"
   ]
  },
  {
   "cell_type": "code",
   "execution_count": 72,
   "id": "0876c391-5212-4dae-9bbe-d0743055ad6e",
   "metadata": {},
   "outputs": [
    {
     "name": "stdout",
     "output_type": "stream",
     "text": [
      "0.23178116908221125\n",
      "0.025659282842335016\n"
     ]
    }
   ],
   "source": [
    "a13 = stats.poisson.cdf(129, 121.5)\n",
    "print(1 - a13)\n",
    "b13 = stats.poisson.cdf(100, 121.5)\n",
    "print(b13)"
   ]
  },
  {
   "cell_type": "code",
   "execution_count": 73,
   "id": "5fbf63fe-b279-4916-b190-48410367fc78",
   "metadata": {},
   "outputs": [
    {
     "data": {
      "text/plain": [
       "0.4514572980608733"
      ]
     },
     "execution_count": 73,
     "metadata": {},
     "output_type": "execute_result"
    }
   ],
   "source": [
    "p14 = 1/365\n",
    "1 - pow((1 - p14*p14), 80000)"
   ]
  },
  {
   "cell_type": "code",
   "execution_count": 81,
   "id": "83649869-9b15-40f4-9eeb-3549baa74bf8",
   "metadata": {},
   "outputs": [
    {
     "data": {
      "text/plain": [
       "1.0"
      ]
     },
     "execution_count": 81,
     "metadata": {},
     "output_type": "execute_result"
    }
   ],
   "source": [
    "1 - pow(math.e, -p14*80000)"
   ]
  },
  {
   "cell_type": "code",
   "execution_count": 88,
   "id": "607345da-4b78-4f05-887d-bee4c3db2f04",
   "metadata": {},
   "outputs": [
    {
     "data": {
      "text/plain": [
       "0.018315638888734186"
      ]
     },
     "execution_count": 88,
     "metadata": {},
     "output_type": "execute_result"
    }
   ],
   "source": [
    "pow(math.e, -4)"
   ]
  },
  {
   "cell_type": "code",
   "execution_count": 89,
   "id": "575289b1-616a-4fa4-83bd-7e45d654c4ad",
   "metadata": {},
   "outputs": [
    {
     "data": {
      "text/plain": [
       "0.015572935129947743"
      ]
     },
     "execution_count": 89,
     "metadata": {},
     "output_type": "execute_result"
    }
   ],
   "source": [
    "stats.binom.pmf(0, 52, 1/13)"
   ]
  },
  {
   "cell_type": "code",
   "execution_count": 94,
   "id": "5968bf89-d745-4c59-9a93-925f83df67d5",
   "metadata": {},
   "outputs": [
    {
     "data": {
      "text/plain": [
       "0.018926833450050418"
      ]
     },
     "execution_count": 94,
     "metadata": {},
     "output_type": "execute_result"
    }
   ],
   "source": [
    "1 - (stats.binom.pmf(0, 1000, 0.001) + stats.binom.pmf(1, 1000, 0.001) + stats.binom.pmf(2, 1000, 0.001) + stats.binom.pmf(3, 1000, 0.001))"
   ]
  },
  {
   "cell_type": "code",
   "execution_count": 95,
   "id": "d78d34b2-64b1-4779-8cf4-d859eba50525",
   "metadata": {},
   "outputs": [
    {
     "data": {
      "text/plain": [
       "0.01898815687615385"
      ]
     },
     "execution_count": 95,
     "metadata": {},
     "output_type": "execute_result"
    }
   ],
   "source": [
    "1 - (2+0.5+1/6)*math.pow(math.e, -1)"
   ]
  },
  {
   "cell_type": "code",
   "execution_count": 99,
   "id": "ced955ae-f0cd-4c1f-9b4e-5d42ceebcf69",
   "metadata": {},
   "outputs": [
    {
     "name": "stdout",
     "output_type": "stream",
     "text": [
      "0.3630494342076579\n"
     ]
    }
   ],
   "source": [
    "[a18, b18, c18] = [100, 20, 10]\n",
    "p18 = stats.hypergeom.pmf(0, a18, b18, c18) + stats.hypergeom.pmf(1, a18, b18, c18)\n",
    "print(p18)"
   ]
  },
  {
   "cell_type": "code",
   "execution_count": 103,
   "id": "801d3e94-5a8a-400e-8f00-b5ba08a3fe7e",
   "metadata": {},
   "outputs": [
    {
     "data": {
      "text/plain": [
       "Fraction(21, 1292)"
      ]
     },
     "execution_count": 103,
     "metadata": {},
     "output_type": "execute_result"
    }
   ],
   "source": [
    "Fraction(math.comb(10, 5) / math.comb(20, 5)).limit_denominator()"
   ]
  },
  {
   "cell_type": "code",
   "execution_count": 137,
   "id": "e8f0ca61-d927-4c5a-b99a-647cade6c797",
   "metadata": {},
   "outputs": [
    {
     "name": "stdout",
     "output_type": "stream",
     "text": [
      "\\begin{tabular}{rr}\n",
      "\\toprule\n",
      "  0 &        1 \\\\\n",
      "\\midrule\n",
      "0.0 & 0.016254 \\\\\n",
      "1.0 & 0.135449 \\\\\n",
      "2.0 & 0.348297 \\\\\n",
      "3.0 & 0.348297 \\\\\n",
      "4.0 & 0.135449 \\\\\n",
      "5.0 & 0.016254 \\\\\n",
      "\\bottomrule\n",
      "\\end{tabular}\n",
      "\n"
     ]
    }
   ],
   "source": [
    "x = np.array([0])\n",
    "Px = np.array([math.comb(10, 5) / math.comb(20, 5)])\n",
    "for i in range(1, 6):\n",
    "    x = np.append(x, i)\n",
    "    factor = (11-i)*(6-i)/(i*(5+i))\n",
    "    Px = np.append(Px, factor * Px[-1])\n",
    "    \n",
    "\n",
    "df19 = pd.DataFrame(np.array([x, Px]).T)\n",
    "print(df19.to_latex(index = False))"
   ]
  },
  {
   "cell_type": "code",
   "execution_count": 138,
   "id": "d5bd9fae-b8be-4135-a85e-c89d54534ce2",
   "metadata": {},
   "outputs": [
    {
     "name": "stdout",
     "output_type": "stream",
     "text": [
      "0.9641908149678271\n"
     ]
    }
   ],
   "source": [
    "print(stats.hypergeom.cdf(10, 60, 30, 15))"
   ]
  },
  {
   "cell_type": "code",
   "execution_count": 144,
   "id": "b88ea670-ccbe-4d27-b742-9c4f23c90e09",
   "metadata": {},
   "outputs": [
    {
     "data": {
      "text/plain": [
       "0.42157023045754516"
      ]
     },
     "execution_count": 144,
     "metadata": {},
     "output_type": "execute_result"
    }
   ],
   "source": [
    "pow(stats.norm.cdf(1), 5)"
   ]
  },
  {
   "cell_type": "code",
   "execution_count": 146,
   "id": "79a441ed-30ab-4909-8861-b70c7a33e438",
   "metadata": {},
   "outputs": [
    {
     "data": {
      "text/plain": [
       "0.004450368968234035"
      ]
     },
     "execution_count": 146,
     "metadata": {},
     "output_type": "execute_result"
    }
   ],
   "source": [
    "z24 = 1 - stats.norm.cdf(1.4)\n",
    "10 * (z24)**3 * (1-z24)**2"
   ]
  },
  {
   "cell_type": "code",
   "execution_count": 149,
   "id": "687e3791-a2d2-404c-8a89-63b000f3e41f",
   "metadata": {},
   "outputs": [
    {
     "name": "stdout",
     "output_type": "stream",
     "text": [
      "0.006209665325776159\n"
     ]
    },
    {
     "data": {
      "text/plain": [
       "0.00022849524983804606"
      ]
     },
     "execution_count": 149,
     "metadata": {},
     "output_type": "execute_result"
    }
   ],
   "source": [
    "z25 = c\n",
    "print(z25)\n",
    "6 * (z25)**2 * (1-z25)**2"
   ]
  },
  {
   "cell_type": "code",
   "execution_count": 151,
   "id": "ba2f9575-c2e9-4058-bee6-ed917b132243",
   "metadata": {},
   "outputs": [
    {
     "data": {
      "text/plain": [
       "0.4781203353511161"
      ]
     },
     "execution_count": 151,
     "metadata": {},
     "output_type": "execute_result"
    }
   ],
   "source": [
    "math.pow(stats.norm.cdf(0.5), 2)"
   ]
  },
  {
   "cell_type": "code",
   "execution_count": 152,
   "id": "ee7ac292-887c-4a02-aec4-6afbd5dcc74f",
   "metadata": {},
   "outputs": [
    {
     "data": {
      "text/plain": [
       "0.23975006109347674"
      ]
     },
     "execution_count": 152,
     "metadata": {},
     "output_type": "execute_result"
    }
   ],
   "source": [
    "1 - stats.norm.cdf(1/math.sqrt(2))"
   ]
  },
  {
   "cell_type": "code",
   "execution_count": 3,
   "id": "b2a4f994-d659-4c10-a3c6-5fa8c0cd0bfb",
   "metadata": {},
   "outputs": [
    {
     "data": {
      "text/plain": [
       "0.04550026389635842"
      ]
     },
     "execution_count": 3,
     "metadata": {},
     "output_type": "execute_result"
    }
   ],
   "source": [
    "2*(1 - stats.norm.cdf(0.01/0.005))"
   ]
  },
  {
   "cell_type": "code",
   "execution_count": 8,
   "id": "7b08bd3c-5bcc-4646-9a76-9449001d0e02",
   "metadata": {},
   "outputs": [],
   "source": [
    "s32 = 7e4/stats.norm.ppf(0.75)"
   ]
  },
  {
   "cell_type": "code",
   "execution_count": 9,
   "id": "e1c58965-3844-4704-9797-f5724e61ba99",
   "metadata": {},
   "outputs": [
    {
     "data": {
      "text/plain": [
       "0.1466373557354459"
      ]
     },
     "execution_count": 9,
     "metadata": {},
     "output_type": "execute_result"
    }
   ],
   "source": [
    "stats.norm.cdf(50000/s32) - stats.norm.cdf(10000/s32)"
   ]
  },
  {
   "cell_type": "code",
   "execution_count": 30,
   "id": "4730fa21-8ed0-421c-8d4a-777612b1f65c",
   "metadata": {},
   "outputs": [
    {
     "data": {
      "text/plain": [
       "0.10564977366685535"
      ]
     },
     "execution_count": 30,
     "metadata": {},
     "output_type": "execute_result"
    }
   ],
   "source": [
    "1 - stats.norm.cdf((4*66-4*64.5)/(2.4*math.sqrt(4)))"
   ]
  },
  {
   "cell_type": "code",
   "execution_count": 46,
   "id": "f4c2f72a-9a5a-4c64-aeb1-2364d37d24ef",
   "metadata": {},
   "outputs": [
    {
     "data": {
      "text/plain": [
       "0.36787944117144233"
      ]
     },
     "execution_count": 46,
     "metadata": {},
     "output_type": "execute_result"
    }
   ],
   "source": [
    "1 - stats.expon.cdf(20, scale = 20)"
   ]
  },
  {
   "cell_type": "code",
   "execution_count": 50,
   "id": "fdd69cea-dcfe-4751-a510-c42559bed5de",
   "metadata": {},
   "outputs": [
    {
     "data": {
      "text/plain": [
       "0.023517745856009114"
      ]
     },
     "execution_count": 50,
     "metadata": {},
     "output_type": "execute_result"
    }
   ],
   "source": [
    "math.pow(math.e, -3.75)"
   ]
  },
  {
   "cell_type": "code",
   "execution_count": 52,
   "id": "db9f75d8-5bc0-4c05-9cbe-644e6ba89707",
   "metadata": {},
   "outputs": [
    {
     "name": "stdout",
     "output_type": "stream",
     "text": [
      "0.4860992244329329\n"
     ]
    }
   ],
   "source": [
    "a41 = (stats.poisson.pmf(2, 2.5))*(1 - stats.poisson.cdf(1, 1.25))\n",
    "b41 = (stats.poisson.pmf(3, 2.5))*(1 - stats.poisson.cdf(0, 1.25))\n",
    "c41 = (1 - stats.poisson.cdf(3, 2.5))\n",
    "print(a41+b41 + c41)"
   ]
  },
  {
   "cell_type": "code",
   "execution_count": 54,
   "id": "469d6435-a661-4a5e-a13d-b14759e7fdc6",
   "metadata": {},
   "outputs": [
    {
     "data": {
      "text/plain": [
       "0.6352687596280221"
      ]
     },
     "execution_count": 54,
     "metadata": {},
     "output_type": "execute_result"
    }
   ],
   "source": [
    "stats.chi2.cdf(9, 6) - stats.chi2.cdf(3, 6)"
   ]
  },
  {
   "cell_type": "code",
   "execution_count": 55,
   "id": "0cd2d115-faea-4009-a9b7-b45bc294323e",
   "metadata": {},
   "outputs": [
    {
     "data": {
      "text/plain": [
       "0.3504852123233613"
      ]
     },
     "execution_count": 55,
     "metadata": {},
     "output_type": "execute_result"
    }
   ],
   "source": [
    "1 - stats.chi2.cdf(10, 9)"
   ]
  },
  {
   "cell_type": "code",
   "execution_count": 58,
   "id": "521ed56c-6967-40e4-8506-cb680025f8cc",
   "metadata": {},
   "outputs": [
    {
     "data": {
      "text/plain": [
       "0.6534064929126657"
      ]
     },
     "execution_count": 58,
     "metadata": {},
     "output_type": "execute_result"
    }
   ],
   "source": [
    "stats.t.cdf(1, 8) - stats.t.cdf(-1, 8)"
   ]
  },
  {
   "cell_type": "code",
   "execution_count": null,
   "id": "fd5c9012-e59c-497a-aa6c-377d82b7e0ff",
   "metadata": {},
   "outputs": [],
   "source": []
  }
 ],
 "metadata": {
  "kernelspec": {
   "display_name": "Python 3",
   "language": "python",
   "name": "python3"
  },
  "language_info": {
   "codemirror_mode": {
    "name": "ipython",
    "version": 3
   },
   "file_extension": ".py",
   "mimetype": "text/x-python",
   "name": "python",
   "nbconvert_exporter": "python",
   "pygments_lexer": "ipython3",
   "version": "3.8.3"
  }
 },
 "nbformat": 4,
 "nbformat_minor": 5
}
