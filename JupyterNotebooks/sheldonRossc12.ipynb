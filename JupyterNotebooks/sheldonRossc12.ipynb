{
 "cells": [
  {
   "cell_type": "code",
   "execution_count": 2,
   "metadata": {},
   "outputs": [
    {
     "name": "stdout",
     "output_type": "stream",
     "text": [
      "numpy version is 1.20.3\n",
      "pandas version is 1.3.2\n"
     ]
    }
   ],
   "source": [
    "import numpy as np\n",
    "import pandas as pd\n",
    "import string\n",
    "import calendar\n",
    "import re\n",
    "import math\n",
    "import sympy\n",
    "import matplotlib.pyplot as plt\n",
    "import pprint\n",
    "import itertools\n",
    "\n",
    "from fractions import Fraction\n",
    "from scipy import stats\n",
    "from scipy import special\n",
    "\n",
    "\n",
    "print(f\"numpy version is {np.__version__}\")\n",
    "print(f\"pandas version is {pd.__version__}\")\n"
   ]
  },
  {
   "cell_type": "markdown",
   "metadata": {},
   "source": [
    "### WIlcoxon signed rank test - recursive p-value"
   ]
  },
  {
   "cell_type": "code",
   "execution_count": 25,
   "metadata": {},
   "outputs": [],
   "source": [
    "def wilcoxon_pval(k, i):\n",
    "    if k == 1:\n",
    "        if i < 0:\n",
    "            return 0\n",
    "        elif i == 0:\n",
    "            return 1/2\n",
    "        elif i >= 1:\n",
    "            return 1\n",
    "    elif k > 1:\n",
    "        if i < 0:\n",
    "            return 0\n",
    "        else:\n",
    "            return 0.5 * (wilcoxon_pval(k-1, i-k) + wilcoxon_pval(k-1, i))\n",
    "        \n",
    "def wilcoxon_ranked_sum_pval(n, m, k):\n",
    "    if (n < 0) or (m < 0):\n",
    "        return 0\n",
    "    else:\n",
    "        if (n == 1 and m == 0):\n",
    "            if k <= 0:\n",
    "                return 0\n",
    "            else:\n",
    "                return 1\n",
    "        elif (n == 0 and m == 1):\n",
    "            if k < 0:\n",
    "                return 0\n",
    "            else:\n",
    "                return 1\n",
    "        else:\n",
    "            return (n/(n+m)) * wilcoxon_ranked_sum_pval(n-1, m, k-n-m) + (m/(n+m)) * wilcoxon_ranked_sum_pval(n, m-1, k)\n",
    "        \n",
    "def runs_test_discrete_CDF(n, m, k):\n",
    "    all_PMFS = np.array([])\n",
    "    for i in range(1, k+1):\n",
    "        if i % 2 == 0:\n",
    "            j               = max(int(i/2), 0)\n",
    "            even_PMF        = 2 * math.comb(m-1, j-1) * math.comb(n-1, j-1) / math.comb(m+n, n)\n",
    "            all_PMFS        = np.hstack((all_PMFS, even_PMF))\n",
    "        else:\n",
    "            j               = max(int((i-1)/2), 0)\n",
    "            odd_PMF         = (math.comb(m-1, max(0, j-1)) * math.comb(n-1, j) + math.comb(m-1, j) * math.comb(n-1, max(0, j-1)))  / math.comb(m+n, n)\n",
    "            all_PMFS        = np.hstack((all_PMFS, odd_PMF))\n",
    "            \n",
    "    return all_PMFS.sum()"
   ]
  },
  {
   "cell_type": "markdown",
   "metadata": {},
   "source": [
    "### Sign test"
   ]
  },
  {
   "cell_type": "code",
   "execution_count": 65,
   "metadata": {},
   "outputs": [],
   "source": [
    "sig         = 5\n",
    "tailed      = 0\n",
    "\n",
    "# manual data entry\n",
    "# n           = 200\n",
    "# mu          = 120\n",
    "\n",
    "# paired data as rows\n",
    "# rawSign     = np.loadtxt('sign_test.txt', delimiter=' ')\n",
    "# n           = rawSign.shape[1]\n",
    "# mu          = np.count_nonzero((rawSign[0] - rawSign[1]) <= 0)\n",
    "\n",
    "# paired data as columns\n",
    "rawSign     = pd.read_csv('sign_test.txt', delimiter=' ', header = None)\n",
    "n           = rawSign.shape[0]\n",
    "mu          = np.count_nonzero((rawSign.iloc[:, 0] - rawSign.iloc[:, 1]) <= 0)\n",
    "\n",
    "# unpaired data\n",
    "# rawSign     = np.loadtxt('sign_test.txt', delimiter=',').flatten()\n",
    "# n           = rawSign.shape[0]\n",
    "# mu          = np.count_nonzero(rawSign<= 124.4)\n",
    "\n",
    "# note the mu-1 in the argument since this is a discrete distribution\n",
    "\n",
    "if tailed == 0:         #two-tailed\n",
    "    pVal        = 2 * min(stats.binom.cdf(mu, n, 1/2), 1 - stats.binom.cdf(mu-1, n, 1/2))\n",
    "elif tailed == -1:      # reject if greater\n",
    "    pVal        = stats.binom.cdf(mu, n, 1/2)\n",
    "else:                   # reject if smaller\n",
    "    pVal        = 1 - stats.binom.cdf(mu-1, n, 1/2)\n",
    "\n",
    "hypo        = 'rejected' if pVal < (0.01 * sig) else 'accepted'"
   ]
  },
  {
   "cell_type": "markdown",
   "metadata": {},
   "source": [
    "#### output as table"
   ]
  },
  {
   "cell_type": "code",
   "execution_count": 66,
   "metadata": {},
   "outputs": [
    {
     "name": "stdout",
     "output_type": "stream",
     "text": [
      "\\begin{table}[H]\n",
      "\\centering\n",
      "\\begin{tabular}{@{}lr@{}}\n",
      "\\toprule\n",
      "\\multicolumn{2}{c}{\\texttt{Sign Test}} \\\\\n",
      "\\midrule\n",
      "Observations ($n$)         &         6 \\\\\n",
      "Test statistic ($\\nu$)     &         2 \\\\\n",
      "$p$ value \\%               &     68.75 \\\\\n",
      "Significance ($\\alpha$) \\% &      5.00 \\\\\n",
      "null hypothesis ($H_0$)    &  accepted \\\\\n",
      "\\bottomrule\n",
      "\\end{tabular}\n",
      "\n",
      "\\end{table}\n",
      "\\bigskip\n"
     ]
    }
   ],
   "source": [
    "outDict     ={'Observations ($n$)'                : '{:d}'.format(n),\n",
    "            'Test statistic ($\\\\nu$)'                : '{:d}'.format(mu),\n",
    "            '$p$ value \\%'                  : '{:.2f}'.format(100 * pVal),\n",
    "            'Significance ($\\\\alpha$) \\%'   : '{:.2f}'.format(sig),\n",
    "            'null hypothesis ($H_0$)'       : hypo\n",
    "            }\n",
    "dfb = pd.DataFrame.from_dict(outDict, orient='index', columns = ['Value'])\n",
    "\n",
    "s4          = dfb.to_latex(escape=False, column_format='@{}lr@{}')\n",
    "s4          = s4.replace('{} &     Value', '\\multicolumn{2}{c}{\\\\texttt{Sign Test}}')\n",
    "\n",
    "print('\\\\begin{table}[H]')\n",
    "print('\\\\centering')\n",
    "print(s4)\n",
    "print('\\\\end{table}')\n",
    "print('\\\\bigskip')"
   ]
  },
  {
   "cell_type": "markdown",
   "metadata": {},
   "source": [
    "### Wilcoxon signed rank test"
   ]
  },
  {
   "cell_type": "code",
   "execution_count": 67,
   "metadata": {},
   "outputs": [],
   "source": [
    "sig         = 5\n",
    "\n",
    "# one-column \n",
    "# rawData     = np.loadtxt('wilcoxon_signed_rank.txt', delimiter= ' ')\n",
    "# n           = rawData.shape[0]\n",
    "# m_0         = 0\n",
    "# Ij          = (rawData[np.argsort(abs(rawData - m_0))] < m_0).astype(int)\n",
    "\n",
    "\n",
    "# paired data as columns\n",
    "rawSign    = pd.read_csv('wilcoxon_signed_rank.txt', delimiter=' ', header = None)\n",
    "n           = rawSign.shape[0]\n",
    "m_0         = 0\n",
    "rawData     = (rawSign.iloc[:, 0] - rawSign.iloc[:, 1]).to_numpy()\n",
    "\n",
    "Ij          = (rawData[np.argsort(abs(rawData - m_0))] < m_0).astype(int)\n",
    "t           = np.multiply(Ij, np.arange(1, n + 1)).sum()\n",
    "TS          = min(t, -t + 0.5 * (n + 1) * n)\n",
    "pVal        = 2 * wilcoxon_pval(n, TS)\n",
    "# note the mu-1 in the argument since this is a discrete distribution\n",
    "\n",
    "# if tailed == 0:         #two-tailed\n",
    "#     pVal        = 2 * min(stats.binom.cdf(mu, n, 1/2), 1 - stats.binom.cdf(mu-1, n, 1/2))\n",
    "# elif tailed == -1:      # reject if greater\n",
    "#     pVal        = stats.binom.cdf(mu, n, 1/2)\n",
    "# else:                   # reject if smaller\n",
    "#     pVal        = 1 - stats.binom.cdf(mu-1, n, 1/2)\n",
    "\n",
    "hypo        = 'rejected' if pVal < (0.01 * sig) else 'accepted'\n"
   ]
  },
  {
   "cell_type": "markdown",
   "metadata": {},
   "source": [
    "#### output contingency table and summary"
   ]
  },
  {
   "cell_type": "code",
   "execution_count": 68,
   "metadata": {},
   "outputs": [
    {
     "name": "stdout",
     "output_type": "stream",
     "text": [
      "\\begin{table}[H]\n",
      "\\centering\n",
      "\\begin{tabular}{@{}lr@{}}\n",
      "\\toprule\n",
      "\\multicolumn{2}{c}{\\texttt{Wilcoxon Signed Rank Test}} \\\\\n",
      "\\midrule\n",
      "Observations ($n$)         &         6 \\\\\n",
      "Test statistic             &         5 \\\\\n",
      "$p$ value \\%               &     31.25 \\\\\n",
      "Significance ($\\alpha$) \\% &      5.00 \\\\\n",
      "null hypothesis ($H_0$)    &  accepted \\\\\n",
      "\\bottomrule\n",
      "\\end{tabular}\n",
      "\n",
      "\\end{table}\n",
      "\\bigskip\n"
     ]
    }
   ],
   "source": [
    "outDict     ={'Observations ($n$)'          : '{:d}'.format(n),\n",
    "            'Test statistic '               : '{:d}'.format(int(TS)),\n",
    "            '$p$ value \\%'                  : '{:.2f}'.format(100 * pVal),\n",
    "            'Significance ($\\\\alpha$) \\%'   : '{:.2f}'.format(sig),\n",
    "            'null hypothesis ($H_0$)'       : hypo\n",
    "            }\n",
    "dfb = pd.DataFrame.from_dict(outDict, orient='index', columns = ['Value'])\n",
    "\n",
    "s4          = dfb.to_latex(escape=False, column_format='@{}lr@{}')\n",
    "s4          = s4.replace('{} &     Value', '\\multicolumn{2}{c}{\\\\texttt{Wilcoxon Signed Rank Test}}')\n",
    "\n",
    "print('\\\\begin{table}[H]')\n",
    "print('\\\\centering')\n",
    "print(s4)\n",
    "print('\\\\end{table}')\n",
    "print('\\\\bigskip')"
   ]
  },
  {
   "cell_type": "markdown",
   "metadata": {},
   "source": [
    "### Wilcoxon rank sum test"
   ]
  },
  {
   "cell_type": "code",
   "execution_count": 82,
   "metadata": {},
   "outputs": [],
   "source": [
    "sig         = 5\n",
    "rawData     = pd.read_table('wilcoxon_ranked_sum.txt', sep = ',', header = None, )\n",
    "n           = rawData.shape[0]\n",
    "\n",
    "X           = rawData.loc[0].dropna().to_numpy()\n",
    "Y           = rawData.loc[1].dropna().to_numpy()\n",
    "n,m         = X.shape[0], Y.shape[0]\n",
    "A           = np.sort(np.hstack((X, Y)))\n",
    "ranks       = np.array([1]) + np.where(np.in1d(A, X))\n",
    "\n",
    "TS          = ranks.sum()\n",
    "# pVal        = 2 * min(wilcoxon_ranked_sum_pval(n, m, TS), 1 - wilcoxon_ranked_sum_pval(n, m, TS - 1))\n",
    "pVal        = 100.00\n",
    "\n",
    "# approximate p value using normal distribution\n",
    "mu              = 0.5 * n * (n+m+1)\n",
    "var             = (n*m*(n+m+1)) / 12\n",
    "runs_prob       = stats.norm(loc = mu, scale = math.sqrt(var))\n",
    "pVal_approx     = 2 * min(runs_prob.cdf(TS), 1 - runs_prob.cdf(TS))\n",
    "\n",
    "hypo        = 'rejected' if pVal < (0.01 * sig) else 'accepted'"
   ]
  },
  {
   "cell_type": "markdown",
   "metadata": {},
   "source": [
    "#### output contingency table and summary"
   ]
  },
  {
   "cell_type": "code",
   "execution_count": 83,
   "metadata": {},
   "outputs": [
    {
     "name": "stdout",
     "output_type": "stream",
     "text": [
      "\\begin{table}[H]\n",
      "\\centering\n",
      "\\begin{tabular}{@{}lr@{}}\n",
      "\\toprule\n",
      "\\multicolumn{2}{c}{\\texttt{Wilcoxon Rank Sum Test}} \\\\\n",
      "\\midrule\n",
      "Observations ($n$)         &        23 \\\\\n",
      "Comparisons ($m$)          &         9 \\\\\n",
      "Test statistic             &       369 \\\\\n",
      "$p$ value \\%               &  10000.00 \\\\\n",
      "$p$ value approx \\%        &     65.99 \\\\\n",
      "Significance ($\\alpha$) \\% &      5.00 \\\\\n",
      "null hypothesis ($H_0$)    &  accepted \\\\\n",
      "\\bottomrule\n",
      "\\end{tabular}\n",
      "\n",
      "\\end{table}\n",
      "\\bigskip\n"
     ]
    }
   ],
   "source": [
    "outDict     ={'Observations ($n$)'          : '{:d}'.format(n),\n",
    "              'Comparisons ($m$)'           : '{:d}'.format(m),\n",
    "            'Test statistic '               : '{:d}'.format(TS),\n",
    "            '$p$ value \\%'                  : '{:.2f}'.format(100 * pVal),\n",
    "            '$p$ value approx \\%'           : '{:.2f}'.format(100 * pVal_approx),\n",
    "            'Significance ($\\\\alpha$) \\%'   : '{:.2f}'.format(sig),\n",
    "            'null hypothesis ($H_0$)'       : hypo\n",
    "            }\n",
    "dfb = pd.DataFrame.from_dict(outDict, orient='index', columns = ['Value'])\n",
    "\n",
    "s4          = dfb.to_latex(escape=False, column_format='@{}lr@{}')\n",
    "s4          = s4.replace('{} &     Value', '\\multicolumn{2}{c}{\\\\texttt{Wilcoxon Rank Sum Test}}')\n",
    "\n",
    "print('\\\\begin{table}[H]')\n",
    "print('\\\\centering')\n",
    "print(s4)\n",
    "print('\\\\end{table}')\n",
    "print('\\\\bigskip')"
   ]
  },
  {
   "cell_type": "markdown",
   "metadata": {},
   "source": [
    "### Kruskal-Wallis test"
   ]
  },
  {
   "cell_type": "code",
   "execution_count": 84,
   "metadata": {},
   "outputs": [],
   "source": [
    "sig         = 5\n",
    "\n",
    "rawDataKW       = pd.read_table('Kruskal_Wallis.txt', sep = ',', index_col = 0, header = None)\n",
    "rawDataKW       = rawDataKW.transpose()\n",
    "\n",
    "all_Vals        = np.array([])\n",
    "all_n           = np.array([])\n",
    "ranks           = np.array([])\n",
    "for i in rawDataKW.iteritems():\n",
    "    all_Vals        = np.hstack((all_Vals, i[1].dropna().to_numpy()))\n",
    "    all_n           = np.hstack((all_n, i[1].dropna().to_numpy().shape[0]))\n",
    "    \n",
    "all_Vals_sorted = np.sort(all_Vals)\n",
    "\n",
    "for j in rawDataKW.iteritems():\n",
    "    curRank     = (np.array([1]) + np.where(np.in1d(all_Vals_sorted, j[1].dropna().to_numpy()))).sum()\n",
    "    ranks       = np.hstack((ranks, curRank))\n",
    "\n",
    "N               = int(all_n.sum())\n",
    "\n",
    "TS              = (np.divide(np.multiply(ranks, ranks), all_n)).sum()\n",
    "TS_chisq        = (12 / (N * (N+1))) * TS - 3 * (N+1)\n",
    "pVal            = 1 - stats.chi2.cdf(TS_chisq, rawDataKW.columns.shape[0] - 1)\n",
    "hypo        = 'rejected' if pVal < (0.01 * sig) else 'accepted'\n"
   ]
  },
  {
   "cell_type": "markdown",
   "metadata": {},
   "source": [
    "#### output summary"
   ]
  },
  {
   "cell_type": "code",
   "execution_count": 85,
   "metadata": {},
   "outputs": [
    {
     "name": "stdout",
     "output_type": "stream",
     "text": [
      "\\begin{table}[H]\n",
      "\\centering\n",
      "\\begin{tabular}{@{}lr@{}}\n",
      "\\toprule\n",
      "\\multicolumn{2}{c}{\\texttt{Wilcoxon Rank Sum Test}} \\\\\n",
      "\\midrule\n",
      "Observations ($N$)         &        30 \\\\\n",
      "Populations ($k$)          &         3 \\\\\n",
      "Test statistic             &    110.25 \\\\\n",
      "$p$ value \\%               &      0.00 \\\\\n",
      "Significance ($\\alpha$) \\% &      5.00 \\\\\n",
      "null hypothesis ($H_0$)    &  rejected \\\\\n",
      "\\bottomrule\n",
      "\\end{tabular}\n",
      "\n",
      "\\end{table}\n",
      "\\bigskip\n"
     ]
    }
   ],
   "source": [
    "outDict     ={'Observations ($N$)'          : '{:d}'.format(N),\n",
    "            'Populations ($k$)'             : '{:d}'.format(rawDataKW.columns.shape[0]),\n",
    "            'Test statistic '               : '{:.2f}'.format(TS_chisq),\n",
    "            '$p$ value \\%'                  : '{:.2f}'.format(100 * pVal),\n",
    "            'Significance ($\\\\alpha$) \\%'   : '{:.2f}'.format(sig),\n",
    "            'null hypothesis ($H_0$)'       : hypo\n",
    "            }\n",
    "dfb = pd.DataFrame.from_dict(outDict, orient='index', columns = ['Value'])\n",
    "\n",
    "s4          = dfb.to_latex(escape=False, column_format='@{}lr@{}')\n",
    "s4          = s4.replace('{} &     Value', '\\multicolumn{2}{c}{\\\\texttt{Wilcoxon Rank Sum Test}}')\n",
    "\n",
    "print('\\\\begin{table}[H]')\n",
    "print('\\\\centering')\n",
    "print(s4)\n",
    "print('\\\\end{table}')\n",
    "print('\\\\bigskip')"
   ]
  },
  {
   "cell_type": "markdown",
   "metadata": {},
   "source": [
    "### runs test for non-randomness"
   ]
  },
  {
   "cell_type": "code",
   "execution_count": 113,
   "metadata": {},
   "outputs": [],
   "source": [
    "sig             = 5\n",
    "\n",
    "# given actual raw data\n",
    "runData         = np.loadtxt('runs_test.txt', delimiter=' ', dtype='int')\n",
    "sample_med      = np.median(runData)\n",
    "binarized       = (runData == 1).astype(int).astype(str)\n",
    "raw_runs        = ''.join(binarized)\n",
    "\n",
    "\n",
    "# given failure locations only\n",
    "# fLoc            = np.loadtxt('runs_test.txt', delimiter=',', dtype='int')\n",
    "# nTotal          = 50\n",
    "# binarized       = np.ones((50))\n",
    "# binarized[fLoc] = 0\n",
    "# binarized       = binarized.astype(int).astype(str)\n",
    "# raw_runs        = ''.join(binarized)\n",
    "\n",
    "\n",
    "grouped         = [list(g) for k, g in itertools.groupby(raw_runs)]\n",
    "\n",
    "num_runs        = len(grouped)\n",
    "m,n             = np.count_nonzero(binarized == '0'), np.count_nonzero(binarized == '1')\n",
    "# manual data entry\n",
    "# num_runs, m, n  = 70, 60, 60\n",
    "\n",
    "# exact p value\n",
    "pVal            = 2 * min(runs_test_discrete_CDF(m,n,num_runs), 1 - runs_test_discrete_CDF(m,n,num_runs - 1))\n",
    "\n",
    "# approximate p value using normal distribution\n",
    "mu              = 1 + (2*m*n) / (m+n)\n",
    "var             = (2*m*n * (2*m*n - (m+n))) / ((m+n)*(m+n)*(m+n-1))\n",
    "runs_prob       = stats.norm(loc = mu, scale = math.sqrt(var))\n",
    "pVal_approx     = 2 * min(runs_prob.cdf(num_runs), 1 - runs_prob.cdf(num_runs))\n",
    "\n",
    "hypo        = 'rejected' if pVal < (0.01 * sig) else 'accepted'"
   ]
  },
  {
   "cell_type": "markdown",
   "metadata": {},
   "source": [
    "#### output tables"
   ]
  },
  {
   "cell_type": "code",
   "execution_count": 114,
   "metadata": {},
   "outputs": [
    {
     "name": "stdout",
     "output_type": "stream",
     "text": [
      "\\begin{table}[H]\n",
      "\\centering\n",
      "\\begin{tabular}{@{}lr@{}}\n",
      "\\toprule\n",
      "\\multicolumn{2}{c}{\\texttt{Runs test for randomness}} \\\\\n",
      "\\midrule\n",
      "Observations ($N$)         &        50 \\\\\n",
      "Runs ($k$)                 &        36 \\\\\n",
      "Failures ($m$)             &        32 \\\\\n",
      "Successes ($n$)            &        18 \\\\\n",
      "$p$ value \\%               &      0.01 \\\\\n",
      "$p$ value approx \\%        &      0.02 \\\\\n",
      "Significance ($\\alpha$) \\% &      5.00 \\\\\n",
      "null hypothesis ($H_0$)    &  rejected \\\\\n",
      "\\bottomrule\n",
      "\\end{tabular}\n",
      "\n",
      "\\end{table}\n",
      "\\bigskip\n"
     ]
    }
   ],
   "source": [
    "outDict     ={'Observations ($N$)'          : '{:d}'.format(m+n),\n",
    "            'Runs ($k$)'                    : '{:d}'.format(num_runs),\n",
    "            'Failures ($m$) '               : '{:d}'.format(m),\n",
    "            'Successes ($n$) '              : '{:d}'.format(n),\n",
    "            '$p$ value \\%'                  : '{:.2f}'.format(100 * pVal),\n",
    "            '$p$ value approx \\%'           : '{:.2f}'.format(100 * pVal_approx),\n",
    "            'Significance ($\\\\alpha$) \\%'   : '{:.2f}'.format(sig),\n",
    "            'null hypothesis ($H_0$)'       : hypo\n",
    "            }\n",
    "dfb = pd.DataFrame.from_dict(outDict, orient='index', columns = ['Value'])\n",
    "\n",
    "s4          = dfb.to_latex(escape=False, column_format='@{}lr@{}')\n",
    "s4          = s4.replace('{} &     Value', '\\multicolumn{2}{c}{\\\\texttt{Runs test for randomness}}')\n",
    "\n",
    "print('\\\\begin{table}[H]')\n",
    "print('\\\\centering')\n",
    "print(s4)\n",
    "print('\\\\end{table}')\n",
    "print('\\\\bigskip')"
   ]
  },
  {
   "cell_type": "code",
   "execution_count": 269,
   "metadata": {},
   "outputs": [
    {
     "data": {
      "text/plain": [
       "array([False, False, False, False,  True,  True, False, False,  True])"
      ]
     },
     "execution_count": 269,
     "metadata": {},
     "output_type": "execute_result"
    }
   ],
   "source": [
    "(rawSign[0] - rawSign[1]) <= 0\n"
   ]
  },
  {
   "cell_type": "code",
   "execution_count": 9,
   "metadata": {},
   "outputs": [],
   "source": []
  },
  {
   "cell_type": "code",
   "execution_count": 6,
   "metadata": {},
   "outputs": [
    {
     "data": {
      "text/plain": [
       "array([[ 1. , 24.2, 23.5],\n",
       "       [ 2. , 30.4, 29.6],\n",
       "       [ 3. , 32.7, 32.3],\n",
       "       [ 4. , 19.8, 17.6],\n",
       "       [ 5. , 25. , 25.3],\n",
       "       [ 6. , 24.9, 25.4],\n",
       "       [ 7. , 22.2, 20.6],\n",
       "       [ 8. , 21.5, 20.7]])"
      ]
     },
     "execution_count": 6,
     "metadata": {},
     "output_type": "execute_result"
    }
   ],
   "source": [
    "n"
   ]
  }
 ],
 "metadata": {
  "interpreter": {
   "hash": "73e03da126b73bfff3642ec5261d56fa25c444ea595de51041687efaa60dda41"
  },
  "kernelspec": {
   "display_name": "Python 3.8.3 64-bit ('base': conda)",
   "name": "python3"
  },
  "language_info": {
   "codemirror_mode": {
    "name": "ipython",
    "version": 3
   },
   "file_extension": ".py",
   "mimetype": "text/x-python",
   "name": "python",
   "nbconvert_exporter": "python",
   "pygments_lexer": "ipython3",
   "version": "3.8.3"
  },
  "orig_nbformat": 4
 },
 "nbformat": 4,
 "nbformat_minor": 2
}
