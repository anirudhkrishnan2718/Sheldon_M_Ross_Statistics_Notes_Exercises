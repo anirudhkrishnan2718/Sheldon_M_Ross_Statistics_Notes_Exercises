{
 "cells": [
  {
   "cell_type": "code",
   "execution_count": 7,
   "id": "6050975e-067f-459b-8c9f-9b5e10c0aa06",
   "metadata": {},
   "outputs": [
    {
     "name": "stdout",
     "output_type": "stream",
     "text": [
      "0.45969125214408235\n"
     ]
    }
   ],
   "source": [
    "a = 0.268*0.3\n",
    "b = 0.135*0.7\n",
    "print(a / (a + b))"
   ]
  },
  {
   "cell_type": "code",
   "execution_count": 3,
   "id": "37ab6991-ae4b-47d2-bf37-a35aa1073998",
   "metadata": {},
   "outputs": [
    {
     "name": "stdout",
     "output_type": "stream",
     "text": [
      "0.8224462954844366\n"
     ]
    }
   ],
   "source": [
    "print(a / (a + b))"
   ]
  },
  {
   "cell_type": "code",
   "execution_count": 4,
   "id": "bfe46684-dac6-4013-b9dc-972b941912f4",
   "metadata": {},
   "outputs": [
    {
     "data": {
      "text/plain": [
       "0.732"
      ]
     },
     "execution_count": 4,
     "metadata": {},
     "output_type": "execute_result"
    }
   ],
   "source": [
    "1-0.268"
   ]
  },
  {
   "cell_type": "code",
   "execution_count": 5,
   "id": "7ab96f89-b77f-4ca9-9e8a-b1af2e1595e4",
   "metadata": {},
   "outputs": [
    {
     "data": {
      "text/plain": [
       "0.865"
      ]
     },
     "execution_count": 5,
     "metadata": {},
     "output_type": "execute_result"
    }
   ],
   "source": [
    "1-0.135"
   ]
  },
  {
   "cell_type": "code",
   "execution_count": 8,
   "id": "b4702b1e-5f5c-4919-8d73-c5e3ab455d06",
   "metadata": {},
   "outputs": [
    {
     "name": "stdout",
     "output_type": "stream",
     "text": [
      "0.26614955762937825\n"
     ]
    }
   ],
   "source": [
    "a1 = 0.732*0.3\n",
    "b1 = 0.865*0.7\n",
    "print(a1 / (a1 + b1))"
   ]
  },
  {
   "cell_type": "code",
   "execution_count": 9,
   "id": "000b9f92-c7fc-46c0-aa6e-dd32ad1260d0",
   "metadata": {},
   "outputs": [
    {
     "data": {
      "text/plain": [
       "0.175"
      ]
     },
     "execution_count": 9,
     "metadata": {},
     "output_type": "execute_result"
    }
   ],
   "source": [
    "0.05*0.2+0.15*0.5+0.3*0.3"
   ]
  },
  {
   "cell_type": "code",
   "execution_count": 10,
   "id": "c3112452-19db-4af6-bb8d-f4c03a25bb37",
   "metadata": {},
   "outputs": [
    {
     "name": "stdout",
     "output_type": "stream",
     "text": [
      "0.23030303030303031\n"
     ]
    }
   ],
   "source": [
    "a2 = 0.95*0.2\n",
    "b2 = 0.85*0.5\n",
    "c2 = 0.7*0.3\n",
    "print(a2 / (a2 + b2 + c2))"
   ]
  },
  {
   "cell_type": "code",
   "execution_count": 11,
   "id": "2e284778-b041-4f8b-8f5c-dfdd0c0ca6e9",
   "metadata": {},
   "outputs": [
    {
     "name": "stdout",
     "output_type": "stream",
     "text": [
      "0.5151515151515151\n"
     ]
    }
   ],
   "source": [
    "print(b2 / (a2 + b2 + c2))"
   ]
  },
  {
   "cell_type": "code",
   "execution_count": 12,
   "id": "5a371f02-31ea-4d71-abba-9bca96992a12",
   "metadata": {},
   "outputs": [
    {
     "name": "stdout",
     "output_type": "stream",
     "text": [
      "0.15517241379310345\n"
     ]
    }
   ],
   "source": [
    "a3 = 0.9*0.02\n",
    "b3 = 0.1*0.98\n",
    "print(a3 / (a3 + b3))"
   ]
  },
  {
   "cell_type": "code",
   "execution_count": 13,
   "id": "a4ab6355-4c0d-4756-828b-462b6b97b503",
   "metadata": {},
   "outputs": [
    {
     "data": {
      "text/plain": [
       "0.15517241379310345"
      ]
     },
     "execution_count": 13,
     "metadata": {},
     "output_type": "execute_result"
    }
   ],
   "source": [
    "18/116"
   ]
  },
  {
   "cell_type": "code",
   "execution_count": 14,
   "id": "f73b310b-a757-41f1-ae4f-75cb70dc387f",
   "metadata": {},
   "outputs": [
    {
     "data": {
      "text/plain": [
       "0.22909090909090907"
      ]
     },
     "execution_count": 14,
     "metadata": {},
     "output_type": "execute_result"
    }
   ],
   "source": [
    "0.063*0.12/0.033"
   ]
  },
  {
   "cell_type": "code",
   "execution_count": null,
   "id": "7bd0978f-eafb-4882-b8ea-5034a69d4c13",
   "metadata": {},
   "outputs": [],
   "source": []
  }
 ],
 "metadata": {
  "kernelspec": {
   "display_name": "Python 3",
   "language": "python",
   "name": "python3"
  },
  "language_info": {
   "codemirror_mode": {
    "name": "ipython",
    "version": 3
   },
   "file_extension": ".py",
   "mimetype": "text/x-python",
   "name": "python",
   "nbconvert_exporter": "python",
   "pygments_lexer": "ipython3",
   "version": "3.8.3"
  }
 },
 "nbformat": 4,
 "nbformat_minor": 5
}
