{
 "cells": [
  {
   "cell_type": "code",
   "execution_count": 1,
   "metadata": {},
   "outputs": [
    {
     "name": "stdout",
     "output_type": "stream",
     "text": [
      "numpy version is 1.20.3\n",
      "pandas version is 1.3.2\n"
     ]
    }
   ],
   "source": [
    "import numpy as np\n",
    "import pandas as pd\n",
    "import string\n",
    "import calendar\n",
    "import re\n",
    "import math\n",
    "import sympy\n",
    "import matplotlib.pyplot as plt\n",
    "import pprint\n",
    "import itertools\n",
    "\n",
    "from fractions import Fraction\n",
    "from scipy import stats\n",
    "from scipy import special\n",
    "\n",
    "\n",
    "print(f\"numpy version is {np.__version__}\")\n",
    "print(f\"pandas version is {pd.__version__}\")\n"
   ]
  },
  {
   "cell_type": "markdown",
   "metadata": {},
   "source": [
    "### $\\overline{x}$ control chart"
   ]
  },
  {
   "cell_type": "code",
   "execution_count": 122,
   "metadata": {},
   "outputs": [],
   "source": [
    "rawD        = pd.DataFrame(np.loadtxt('xBar_control_chart.txt', delimiter=' ', usecols=[1, 3]).flatten(order='F'), columns=['xBar'])\n",
    "k           = rawD.shape[0]\n",
    "n           = 5\n",
    "\n",
    "# historic data\n",
    "mu          = 35\n",
    "sigma       = 3\n",
    "LCL, UCL    = mu - 3*sigma/math.sqrt(n), mu + 3*sigma/math.sqrt(n)\n",
    "\n",
    "violators   = rawD.loc[(rawD['xBar'] > UCL) | (rawD['xBar'] < LCL)]\n",
    "inControl   = rawD.loc[(rawD['xBar'] < UCL) & (rawD['xBar'] > LCL)]\n",
    "\n",
    "# strings of coordinates for scatter plot\n",
    "\n",
    "coords_1     = list(zip(inControl.index + 1, inControl['xBar']))\n",
    "cd_str_1     = ' '.join(map(str, coords_1))\n",
    "\n",
    "coords_2     = list(zip(violators.index + 1, violators['xBar']))\n",
    "cd_str_2     = ' '.join(map(str, coords_2))"
   ]
  },
  {
   "cell_type": "markdown",
   "metadata": {},
   "source": [
    "### $\\overline{x}$ control chart using estimated $\\mu, \\sigma$"
   ]
  },
  {
   "cell_type": "code",
   "execution_count": 81,
   "metadata": {},
   "outputs": [
    {
     "name": "stdout",
     "output_type": "stream",
     "text": [
      "Sample grand mean : 19.4 and Sample stddev : 1.7865909502268398\n",
      "LCL = 17.211881896435052 and UCL = 21.588118103564945\n",
      "Net probability of aprroval = 0.9711552257659718\n"
     ]
    }
   ],
   "source": [
    "# calculated data\n",
    "\n",
    "k_init          = 50\n",
    "n               = 6\n",
    "cn              = math.sqrt(2/(n-1)) * special.gamma(n/2) / special.gamma(n/2 - 1/2)\n",
    "sample_mean     = 970 / k_init\n",
    "sample_std      = 85 / k_init\n",
    "\n",
    "\n",
    "\n",
    "mu_est          = sample_mean\n",
    "sigma_est       = sample_std / cn\n",
    "\n",
    "print(f'Sample grand mean : {mu_est} and Sample stddev : {sigma_est}')\n",
    "\n",
    "LCL, UCL        = mu_est - 3*sigma_est/math.sqrt(n), mu_est + 3*sigma_est/math.sqrt(n)\n",
    "# LCL, UCL        = max(sigma_est * cn - 3*sigma_est * math.sqrt(1 - cn*cn), 0), sigma_est * cn + 3*sigma_est * math.sqrt(1 - cn*cn)\n",
    "print(f'LCL = {LCL} and UCL = {UCL}')\n",
    "\n",
    "process_ulim, process_llim      = 19+4, 19-4\n",
    "active_dist     = stats.norm(loc = mu_est, scale=sigma_est)\n",
    "pass_prob       = active_dist.cdf(process_ulim) - active_dist.cdf(process_llim)\n",
    "print(f'Net probability of aprroval = {pass_prob}')\n",
    "\n",
    "# print(active_dist.cdf(400))\n"
   ]
  },
  {
   "cell_type": "markdown",
   "metadata": {},
   "source": [
    "### preprocess raw data and write file"
   ]
  },
  {
   "cell_type": "code",
   "execution_count": 71,
   "metadata": {},
   "outputs": [],
   "source": [
    "rawD            = pd.read_csv('control_chart_rawData.txt', delimiter = ' ', header = None)\n",
    "rawD.iloc[:, 1:]   = rawD.iloc[:, 1:] * 0.01 + 0.25\n",
    "rawD_means      = rawD.iloc[:, 1:].mean(axis = 1)\n",
    "rawD_std        = rawD.iloc[:, 1:].std(axis = 1)\n",
    "\n",
    "\n",
    "save_rawD       = pd.DataFrame({'Subgroup' : rawD.iloc[:, 0], 'xBar' : rawD_means, 'S' : rawD_std})\n",
    "save_rawD.to_csv('xBar_control_chart.txt', header = False, sep = ' ', index = False)"
   ]
  },
  {
   "cell_type": "markdown",
   "metadata": {},
   "source": [
    "### iterative $\\overline{x}$ or S control chart"
   ]
  },
  {
   "cell_type": "code",
   "execution_count": 77,
   "metadata": {},
   "outputs": [
    {
     "name": "stdout",
     "output_type": "stream",
     "text": [
      "0.2514666666666667 0.0114071587748027\n",
      "LCL = 0.23616235719631148 and UCL = 0.26677097613702194\n"
     ]
    }
   ],
   "source": [
    "rawNP           = pd.DataFrame(np.reshape(np.loadtxt('xBar_control_chart.txt', delimiter=' '), (-1, 3), order='C'), columns=['Subgroup', 'xBar', 'S'])\n",
    "rawNP           = rawNP.sort_values(by = ['Subgroup'])\n",
    "\n",
    "# trimming violators iteratively\n",
    "# rawNP           = rawNP[~((rawNP.Subgroup == 10.0) | (rawNP.Subgroup == 15.0))]\n",
    "\n",
    "k_init          = rawNP.shape[0]\n",
    "n               = 5\n",
    "cn              = math.sqrt(2/(n-1)) * special.gamma(n/2) / special.gamma(n/2 - 1/2)\n",
    "\n",
    "mu_est          = rawNP['xBar'].mean()\n",
    "sigma_est       = rawNP['S'].mean() / cn\n",
    "print(mu_est, sigma_est)\n",
    "\n",
    "# probability of approval within range\n",
    "\n",
    "# process_ulim, process_llim      = 35.3+10, 35.3-10\n",
    "# active_dist     = stats.norm(loc = mu_est, scale=sigma_est)\n",
    "# pass_prob       = active_dist.cdf(process_ulim) - active_dist.cdf(process_llim)\n",
    "# print(f'Net probability of aprroval = {pass_prob}')\n",
    "\n",
    "# X bar control chart\n",
    "\n",
    "LCL, UCL        = mu_est - 3*sigma_est/math.sqrt(n), mu_est + 3*sigma_est/math.sqrt(n)\n",
    "print(f'LCL = {LCL} and UCL = {UCL}')\n",
    "violators       = rawNP.loc[(rawNP['xBar'] > UCL) | (rawNP['xBar'] < LCL)]\n",
    "inControl       = rawNP.loc[(rawNP['xBar'] < UCL) & (rawNP['xBar'] > LCL)]\n",
    "coords_1     = list(zip(inControl['Subgroup'], inControl['xBar']))\n",
    "cd_str_1     = ' '.join(map(str, coords_1))\n",
    "\n",
    "coords_2     = list(zip(violators['Subgroup'], violators['xBar']))\n",
    "cd_str_2     = ' '.join(map(str, coords_2))\n",
    "\n",
    "# S control chart\n",
    "\n",
    "# LCL, UCL        = max(sigma_est * cn - 3*sigma_est * math.sqrt(1 - cn*cn), 0), sigma_est * cn + 3*sigma_est * math.sqrt(1 - cn*cn)\n",
    "# print(f'LCL = {LCL} and UCL = {UCL}')\n",
    "# violators       = rawNP.loc[(rawNP['S'] > UCL) | (rawNP['S'] < LCL)]\n",
    "# inControl       = rawNP.loc[(rawNP['S'] < UCL) & (rawNP['S'] > LCL)]\n",
    "# coords_1     = list(zip(inControl['Subgroup'], inControl['S']))\n",
    "# cd_str_1     = ' '.join(map(str, coords_1))\n",
    "# coords_2     = list(zip(violators['Subgroup'], violators['S']))\n",
    "# cd_str_2     = ' '.join(map(str, coords_2))\n",
    "\n",
    "\n"
   ]
  },
  {
   "cell_type": "markdown",
   "metadata": {},
   "source": [
    "#### print figure"
   ]
  },
  {
   "cell_type": "code",
   "execution_count": 90,
   "metadata": {},
   "outputs": [
    {
     "name": "stdout",
     "output_type": "stream",
     "text": [
      "\\begin{figure}[H] \n",
      " \t \\centering \n",
      " \t \\begin{tikzpicture} \n",
      " \t \t \\begin{axis}[width = 0.75\\textwidth, xlabel = Subgroup, ylabel = $\\overline{x}$ , grid = both, grid style = {dotted, gray}] \n",
      " \t \t \\addplot[only marks, color = blue] plot coordinates{(1.0, 0.2604) (2.0, 0.2572) (3.0, 0.25739999999999996) (4.0, 0.2448) (5.0, 0.2502) (6.0, 0.25379999999999997) (7.0, 0.25060000000000004) (8.0, 0.25) (9.0, 0.2492) (10.0, 0.2502) (11.0, 0.25759999999999994) (12.0, 0.2452) (13.0, 0.2444) (14.0, 0.2448) (15.0, 0.25620000000000004)}; \n",
      " \t \t \\addplot[only marks, color = red, mark size = 2pt] plot coordinates{}; \n",
      " \t \t \\addplot[mark = none, line width = 1pt, color = ForestGreen, domain = 0:51]{17.21} node[above, pos = 0.5] {\\texttt{LCL = 17.2119}}; \n",
      " \t \t \\addplot[mark = none, line width = 1pt, color = ForestGreen, domain = 0:51]{21.59} node[below, pos = 0.5] {\\texttt{UCL = 21.5881}}; \n",
      " \t \t \\end{axis} \n",
      " \t \\end{tikzpicture} \n",
      " \\end{figure}\n"
     ]
    }
   ],
   "source": [
    "before          = '\\\\begin{figure}[H] \\n \\t \\\\centering \\n \\t \\\\begin{tikzpicture} \\n \\t \\t \\\\begin{axis}[width = 0.75\\\\textwidth, xlabel = Subgroup, ylabel = $\\\\overline{x}$ , grid = both, grid style = {dotted, gray}]'\n",
    "after           = '\\t \\t \\\\end{axis} \\n \\t \\\\end{tikzpicture} \\n \\\\end{figure}'\n",
    "str_scatter     = '\\t \\t \\\\addplot[only marks, color = blue] plot coordinates{' + cd_str_1 +'};'\n",
    "str_viol        = '\\t \\t \\\\addplot[only marks, color = red, mark size = 2pt] plot coordinates{' + cd_str_2 +'};'\n",
    "UCL_line        = '\\t \\t \\\\addplot[mark = none, line width = 1pt, color = ForestGreen, domain = 0:' + str(k_init+1) + ']{' + str(round(UCL, 2)) + '} node[below, pos = 0.5] {\\\\texttt{UCL = ' + str(round(UCL, 4)) +'}};'\n",
    "LCL_line        = '\\t \\t \\\\addplot[mark = none, line width = 1pt, color = ForestGreen, domain = 0:' + str(k_init+1) + ']{' + str(round(LCL, 2)) + '} node[above, pos = 0.5] {\\\\texttt{LCL = ' + str(round(LCL, 4)) +'}};'\n",
    "\n",
    "print(before,'\\n',str_scatter, '\\n',str_viol, '\\n',LCL_line, '\\n',UCL_line, '\\n', after)"
   ]
  },
  {
   "cell_type": "markdown",
   "metadata": {},
   "source": [
    "#### detecting shifts in mean"
   ]
  },
  {
   "cell_type": "code",
   "execution_count": 33,
   "metadata": {},
   "outputs": [
    {
     "name": "stdout",
     "output_type": "stream",
     "text": [
      "Probability of detection is 0.9721902360648702\n",
      "Mean number of subgroups needed = 1.0286052697337253\n"
     ]
    }
   ],
   "source": [
    "old_mu          = 431\n",
    "old_sigma       = 24.42\n",
    "n               = 4\n",
    "a               = 60\n",
    "\n",
    "p_detect        = 1 - stats.norm.cdf(3 - a * math.sqrt(n) / old_sigma)\n",
    "print(f'Probability of detection is {p_detect}')\n",
    "print(f'Mean number of subgroups needed = {1/p_detect}')"
   ]
  },
  {
   "cell_type": "markdown",
   "metadata": {},
   "source": [
    "### control charts for fraction defective"
   ]
  },
  {
   "cell_type": "code",
   "execution_count": 109,
   "metadata": {},
   "outputs": [
    {
     "name": "stdout",
     "output_type": "stream",
     "text": [
      "LCL = 0 and UCL = 0.1484735486908886, F_bar = 0.07128397065897066\n"
     ]
    }
   ],
   "source": [
    "# numDef          = pd.DataFrame(np.reshape(np.loadtxt('num_def_control_chart.txt', delimiter=' '), (-1, 2), order='C'), columns=['Subgroup', 'Defects'], dtype = int)\n",
    "numDef          = pd.DataFrame(np.reshape(np.loadtxt('num_def_control_chart.txt', delimiter=' '), (-1, 3), order='C'), columns=['Subgroup', 'n', 'Defects'], dtype = int)\n",
    "\n",
    "numDef          = numDef.sort_values(by = ['Subgroup'])\n",
    "\n",
    "k_def           = numDef.shape[0]\n",
    "numDef['Def_Frac']  = numDef['Defects'] / numDef['n']\n",
    "\n",
    "# trimming violators iteratively\n",
    "# numDef           = numDef[~((numDef.Subgroup == 10.0) | (numDef.Subgroup == 15.0))]\n",
    "\n",
    "F_bar           = numDef['Def_Frac'].mean()\n",
    "UCL, LCL        = F_bar + 3*math.sqrt(F_bar * (1 - F_bar) / n), max(0, F_bar - 3*math.sqrt(F_bar * (1 - F_bar)))\n",
    "\n",
    "print(f'LCL = {LCL} and UCL = {UCL}, F_bar = {F_bar}')\n",
    "violators       = numDef.loc[(numDef['Def_Frac'] > UCL) | (numDef['Def_Frac'] < LCL)]\n",
    "inControl       = numDef.loc[(numDef['Def_Frac'] < UCL) & (numDef['Def_Frac'] > LCL)]\n",
    "coords_1     = list(zip(inControl['Subgroup'], inControl['Def_Frac']))\n",
    "cd_str_1     = ' '.join(map(str, coords_1))\n",
    "\n",
    "coords_2     = list(zip(violators['Subgroup'], violators['Def_Frac']))\n",
    "cd_str_2     = ' '.join(map(str, coords_2))\n"
   ]
  },
  {
   "cell_type": "markdown",
   "metadata": {},
   "source": [
    "#### print figures"
   ]
  },
  {
   "cell_type": "code",
   "execution_count": 108,
   "metadata": {},
   "outputs": [
    {
     "name": "stdout",
     "output_type": "stream",
     "text": [
      "\\begin{figure}[H] \n",
      " \t \\centering \n",
      " \t \\begin{tikzpicture} \n",
      " \t \t \\begin{axis}[ylabel near ticks, width = 0.75\\textwidth, xlabel = Subgroup, ylabel = $F$ , grid = both, grid style = {dotted, gray}] \n",
      " \t \t \\addplot[only marks, color = blue] plot coordinates{(1, 0.0625) (2, 0.06363636363636363) (3, 0.044444444444444446) (4, 0.1125) (5, 0.12) (6, 0.1111111111111111) (7, 0.05) (8, 0.04285714285714286) (9, 0.0625) (10, 0.06666666666666667) (11, 0.05555555555555555) (12, 0.06363636363636363)}; \n",
      " \t \t \\addplot[only marks, color = red, mark size = 2pt] plot coordinates{}; \n",
      " \t \t \\addplot[mark = none, line width = 1pt, color = ForestGreen, domain = 0:13]{0} node[above, pos = 0.5] {\\texttt{LCL = 0}}; \n",
      " \t \t \\addplot[mark = none, line width = 1pt, color = ForestGreen, domain = 0:13]{0.15} node[below, pos = 0.5] {\\texttt{UCL = 0.1485}}; \n",
      " \t \t \\end{axis} \n",
      " \t \\end{tikzpicture} \n",
      " \\end{figure}\n"
     ]
    }
   ],
   "source": [
    "before          = '\\\\begin{figure}[H] \\n \\t \\\\centering \\n \\t \\\\begin{tikzpicture} \\n \\t \\t \\\\begin{axis}[ylabel near ticks, width = 0.75\\\\textwidth, xlabel = Subgroup, ylabel = $F$ , grid = both, grid style = {dotted, gray}]'\n",
    "after           = '\\t \\t \\\\end{axis} \\n \\t \\\\end{tikzpicture} \\n \\\\end{figure}'\n",
    "str_scatter     = '\\t \\t \\\\addplot[only marks, color = blue] plot coordinates{' + cd_str_1 +'};'\n",
    "str_viol        = '\\t \\t \\\\addplot[only marks, color = red, mark size = 2pt] plot coordinates{' + cd_str_2 +'};'\n",
    "LCL_line        = '\\t \\t \\\\addplot[mark = none, line width = 1pt, color = ForestGreen, domain = 0:' + str(k_def+1) + ']{' + str(round(LCL, 2)) + '} node[above, pos = 0.5] {\\\\texttt{LCL = ' + str(round(LCL, 4)) +'}};'\n",
    "UCL_line        = '\\t \\t \\\\addplot[mark = none, line width = 1pt, color = ForestGreen, domain = 0:' + str(k_def+1) + ']{' + str(round(UCL, 2)) + '} node[below, pos = 0.5] {\\\\texttt{UCL = ' + str(round(UCL, 4)) +'}};'\n",
    "\n",
    "print(before,'\\n',str_scatter, '\\n',str_viol, '\\n',LCL_line, '\\n',UCL_line, '\\n', after)"
   ]
  },
  {
   "cell_type": "markdown",
   "metadata": {},
   "source": [
    "#### detecting shifts in mean"
   ]
  },
  {
   "cell_type": "code",
   "execution_count": 113,
   "metadata": {},
   "outputs": [
    {
     "name": "stdout",
     "output_type": "stream",
     "text": [
      "LCL = 6.583592135001261 and UCL = 33.41640786499874\n",
      "Upper Probability of detection is 0.8590457278988749\n",
      "Lower Probability of detection is 8.251441617311019e-12\n"
     ]
    }
   ],
   "source": [
    "old_p           = 0.04\n",
    "n               = 500\n",
    "new_p           = 0.08\n",
    "PoisMean        = n*old_p\n",
    "\n",
    "UCL, LCL        = PoisMean + 3 * math.sqrt(PoisMean), PoisMean - 3 * math.sqrt(PoisMean)\n",
    "print(f'LCL = {LCL} and UCL = {UCL}')\n",
    "\n",
    "p_detect_high        = 1 - stats.binom.cdf(UCL, n, new_p)\n",
    "print(f'Upper Probability of detection is {p_detect_high}')\n",
    "p_detect_low        = stats.binom.cdf(LCL, n, new_p)\n",
    "print(f'Lower Probability of detection is {p_detect_low}')\n"
   ]
  },
  {
   "cell_type": "markdown",
   "metadata": {},
   "source": [
    "### number defective - Poisson approx"
   ]
  },
  {
   "cell_type": "code",
   "execution_count": 146,
   "metadata": {},
   "outputs": [
    {
     "name": "stdout",
     "output_type": "stream",
     "text": [
      "LCL = -2.112486080160912 and UCL = 9.112486080160913\n"
     ]
    }
   ],
   "source": [
    "all_def         = pd.DataFrame(np.reshape(np.loadtxt('num_def_control_chart.txt', delimiter=' '), (-1, 2), order='C'), columns=['Subgroup', 'Defects'], dtype = int)\n",
    "numDef          = numDef.sort_values(by = ['Subgroup'])\n",
    "k_def           = all_def.shape[0]\n",
    "# trimming step\n",
    "all_def           = all_def[~((all_def.Subgroup == 14) | (all_def.Subgroup == 14))]\n",
    "\n",
    "\n",
    "Xbar_est        = all_def['Defects'].mean()\n",
    "\n",
    "UCL, LCL        = Xbar_est + 3 * math.sqrt(Xbar_est), Xbar_est - 3 * math.sqrt(Xbar_est)\n",
    "print(f'LCL = {LCL} and UCL = {UCL}')\n",
    "\n",
    "violators       = all_def.loc[(all_def['Defects'] > UCL) | (all_def['Defects'] < LCL)]\n",
    "inControl       = all_def.loc[(all_def['Defects'] < UCL) & (all_def['Defects'] > LCL)]\n",
    "coords_1     = list(zip(inControl['Subgroup'], inControl['Defects']))\n",
    "cd_str_1     = ' '.join(map(str, coords_1))\n",
    "\n",
    "coords_2     = list(zip(violators['Subgroup'], violators['Defects']))\n",
    "cd_str_2     = ' '.join(map(str, coords_2))\n"
   ]
  },
  {
   "cell_type": "code",
   "execution_count": 147,
   "metadata": {},
   "outputs": [
    {
     "name": "stdout",
     "output_type": "stream",
     "text": [
      "\\begin{figure}[H] \n",
      " \t \\centering \n",
      " \t \\begin{tikzpicture} \n",
      " \t \t \\begin{axis}[ylabel near ticks, width = 0.75\\textwidth, xlabel = Subgroup, ylabel = $X$ , grid = both, grid style = {dotted, gray}] \n",
      " \t \t \\addplot[only marks, color = blue] plot coordinates{(1.0, 2.0) (2.0, 3.0) (15.0, 2.0) (3.0, 4.0) (16.0, 2.0) (4.0, 3.0) (17.0, 6.0) (5.0, 1.0) (18.0, 5.0) (6.0, 2.0) (19.0, 4.0) (7.0, 5.0) (20.0, 6.0) (8.0, 0.0) (21.0, 3.0) (9.0, 2.0) (22.0, 7.0) (10.0, 5.0) (23.0, 0.0) (11.0, 1.0) (24.0, 2.0) (12.0, 7.0) (25.0, 4.0) (13.0, 8.0)}; \n",
      " \t \t \\addplot[only marks, color = red, mark size = 2pt] plot coordinates{}; \n",
      " \t \t \\addplot[mark = none, line width = 1pt, color = ForestGreen, domain = 0:27]{-2.11} node[above, pos = 0.5] {\\texttt{LCL = -2.1125}}; \n",
      " \t \t \\addplot[mark = none, line width = 1pt, color = ForestGreen, domain = 0:27]{9.11} node[below, pos = 0.5] {\\texttt{UCL = 9.1125}}; \n",
      " \t \t \\end{axis} \n",
      " \t \\end{tikzpicture} \n",
      " \\end{figure}\n"
     ]
    }
   ],
   "source": [
    "before          = '\\\\begin{figure}[H] \\n \\t \\\\centering \\n \\t \\\\begin{tikzpicture} \\n \\t \\t \\\\begin{axis}[ylabel near ticks, width = 0.75\\\\textwidth, xlabel = Subgroup, ylabel = $X$ , grid = both, grid style = {dotted, gray}]'\n",
    "after           = '\\t \\t \\\\end{axis} \\n \\t \\\\end{tikzpicture} \\n \\\\end{figure}'\n",
    "str_scatter     = '\\t \\t \\\\addplot[only marks, color = blue] plot coordinates{' + cd_str_1 +'};'\n",
    "str_viol        = '\\t \\t \\\\addplot[only marks, color = red, mark size = 2pt] plot coordinates{' + cd_str_2 +'};'\n",
    "LCL_line        = '\\t \\t \\\\addplot[mark = none, line width = 1pt, color = ForestGreen, domain = 0:' + str(k_def+1) + ']{' + str(round(LCL, 2)) + '} node[above, pos = 0.5] {\\\\texttt{LCL = ' + str(round(LCL, 4)) +'}};'\n",
    "UCL_line        = '\\t \\t \\\\addplot[mark = none, line width = 1pt, color = ForestGreen, domain = 0:' + str(k_def+1) + ']{' + str(round(UCL, 2)) + '} node[below, pos = 0.5] {\\\\texttt{UCL = ' + str(round(UCL, 4)) +'}};'\n",
    "\n",
    "print(before,'\\n',str_scatter, '\\n',str_viol, '\\n',LCL_line, '\\n',UCL_line, '\\n', after)"
   ]
  },
  {
   "cell_type": "markdown",
   "metadata": {},
   "source": [
    "### drifts in population mean"
   ]
  },
  {
   "cell_type": "markdown",
   "metadata": {},
   "source": [
    "#### moving average"
   ]
  },
  {
   "cell_type": "code",
   "execution_count": 27,
   "metadata": {},
   "outputs": [
    {
     "name": "stdout",
     "output_type": "stream",
     "text": [
      "\\begin{figure}[H] \n",
      " \t \\centering \n",
      " \t \\begin{tikzpicture} \n",
      " \t \t \\begin{axis}[ylabel near ticks, width = 0.75\\textwidth, xlabel = Subgroup, ylabel = $M_t$ , grid = both, grid style = {dotted, gray}] \n",
      " \t \t \\addplot[only marks, color = blue] plot coordinates{(1, 50.79806) (2, 48.50609) (3, 49.62337) (4, 49.78696) (5, 50.59259) (6, 50.60655) (7, 50.71859) (8, 50.83533) (9, 51.00508)}; \n",
      " \t \t \\addplot[only marks, color = red, mark size = 2pt] plot coordinates{(10, 52.05022) (11, 52.2036) (12, 52.79759) (13, 52.85237) (14, 52.82834) (15, 52.69814) (16, 52.6002) (17, 52.58531) (18, 52.41748) (19, 51.79759) (20, 51.44783)}; \n",
      " \t \t \\addplot[mark = none, smooth, line width = 1pt, color = ForestGreen, domain = 0:21] plot coordinates{(1, 46.64589803375031) (2, 47.628291754873715) (3, 48.06350832689629) (4, 48.32294901687516) (5, 48.5) (6, 48.63069360623709) (7, 48.73226861790722) (8, 48.81414587743686) (9, 48.81414587743686) (10, 48.81414587743686) (11, 48.81414587743686) (12, 48.81414587743686) (13, 48.81414587743686) (14, 48.81414587743686) (15, 48.81414587743686) (16, 48.81414587743686) (17, 48.81414587743686) (18, 48.81414587743686) (19, 48.81414587743686) (20, 48.81414587743686)} node[above, pos = 0.75] {\\texttt{LCL = 48.8141}}; \n",
      " \t \t \\addplot[mark = none, smooth, line width = 1pt, color = ForestGreen, domain = 0:21] plot coordinates{(1, 53.35410196624969) (2, 52.371708245126285) (3, 51.93649167310371) (4, 51.67705098312484) (5, 51.5) (6, 51.36930639376291) (7, 51.26773138209278) (8, 51.18585412256314) (9, 51.18585412256314) (10, 51.18585412256314) (11, 51.18585412256314) (12, 51.18585412256314) (13, 51.18585412256314) (14, 51.18585412256314) (15, 51.18585412256314) (16, 51.18585412256314) (17, 51.18585412256314) (18, 51.18585412256314) (19, 51.18585412256314) (20, 51.18585412256314)} node[below, pos = 0.75] {\\texttt{UCL = 51.1859}}; \n",
      " \t \t \\end{axis} \n",
      " \t \\end{tikzpicture} \n",
      " \\end{figure}\n"
     ]
    }
   ],
   "source": [
    "movAv               = pd.DataFrame(np.reshape(np.loadtxt('moving_average.txt', delimiter=' '), (-1, 2), order='C'), columns=['Xt_bar', 'Mt']).dropna()\n",
    "k,n                 = 8, 4\n",
    "meanP, stdP         = 50, math.sqrt(5)\n",
    "\n",
    "# movAv           = movAv[~((movAv.index == 2) | (movAv.index == 4))]\n",
    "\n",
    "\n",
    "movAv['Mt_UCL'], movAv['Mt_LCL']    = movAv['Xt_bar'] * 0, movAv['Xt_bar'] * 0\n",
    "k_def               = movAv.shape[0]\n",
    "\n",
    "for i in range(k_def):\n",
    "    if i < k:\n",
    "        movAv['Mt_UCL'][i]      = meanP + 3 * stdP / math.sqrt(n * (i+1))\n",
    "        movAv['Mt_LCL'][i]      = meanP - 3 * stdP / math.sqrt(n * (i+1))\n",
    "    else:\n",
    "        movAv['Mt_UCL'][i]      = meanP + 3 * stdP / math.sqrt(n * k)\n",
    "        movAv['Mt_LCL'][i]      = meanP - 3 * stdP / math.sqrt(n * k)\n",
    "\n",
    "violators       = movAv.loc[(movAv['Mt'] > movAv['Mt_UCL']) | (movAv['Mt'] < movAv['Mt_LCL'])]\n",
    "inControl       = movAv.loc[(movAv['Mt'] < movAv['Mt_UCL']) & (movAv['Mt'] > movAv['Mt_LCL'])]\n",
    "\n",
    "coords_1     = list(zip(inControl.index + 1, inControl['Mt']))\n",
    "cd_str_1     = ' '.join(map(str, coords_1))\n",
    "\n",
    "coords_2     = list(zip(violators.index + 1, violators['Mt']))\n",
    "cd_str_2     = ' '.join(map(str, coords_2))\n",
    "\n",
    "coords_3     = list(zip(movAv.index +1, movAv['Mt_LCL']))\n",
    "cd_str_3     = ' '.join(map(str, coords_3))\n",
    "\n",
    "coords_4     = list(zip(movAv.index +1, movAv['Mt_UCL']))\n",
    "cd_str_4     = ' '.join(map(str, coords_4))\n",
    "\n",
    "\n",
    "before          = '\\\\begin{figure}[H] \\n \\t \\\\centering \\n \\t \\\\begin{tikzpicture} \\n \\t \\t \\\\begin{axis}[ylabel near ticks, width = 0.75\\\\textwidth, xlabel = Subgroup, ylabel = $M_t$ , grid = both, grid style = {dotted, gray}]'\n",
    "after           = '\\t \\t \\\\end{axis} \\n \\t \\\\end{tikzpicture} \\n \\\\end{figure}'\n",
    "str_scatter     = '\\t \\t \\\\addplot[only marks, color = blue] plot coordinates{' + cd_str_1 +'};'\n",
    "str_viol        = '\\t \\t \\\\addplot[only marks, color = red, mark size = 2pt] plot coordinates{' + cd_str_2 +'};'\n",
    "LCL_line        = '\\t \\t \\\\addplot[mark = none, smooth, line width = 1pt, color = ForestGreen, domain = 0:' + str(k_def+1) + '] plot coordinates{' + cd_str_3 + '} node[above, pos = 0.75] {\\\\texttt{LCL = ' + str(round(movAv.Mt_LCL[k+1], 4)) +'}};'\n",
    "UCL_line        = '\\t \\t \\\\addplot[mark = none, smooth, line width = 1pt, color = ForestGreen, domain = 0:' + str(k_def+1) + '] plot coordinates{' + cd_str_4 + '} node[below, pos = 0.75] {\\\\texttt{UCL = ' + str(round(movAv.Mt_UCL[k+1], 4)) +'}};'\n",
    "\n",
    "print(before,'\\n',str_scatter, '\\n',str_viol, '\\n',LCL_line, '\\n',UCL_line, '\\n', after)"
   ]
  },
  {
   "cell_type": "markdown",
   "metadata": {},
   "source": [
    "#### exponentially weighted moving average"
   ]
  },
  {
   "cell_type": "code",
   "execution_count": 31,
   "metadata": {},
   "outputs": [
    {
     "name": "stdout",
     "output_type": "stream",
     "text": [
      "LCL = 48.81414587743686 and UCL = 51.18585412256314\n",
      "\\begin{figure}[H] \n",
      " \t \\centering \n",
      " \t \\begin{tikzpicture} \n",
      " \t \t \\begin{axis}[ylabel near ticks, width = 0.75\\textwidth, xlabel = Subgroup, ylabel = $W_t$ , grid = both, grid style = {dotted, gray}] \n",
      " \t \t \\addplot[only marks, color = blue] plot coordinates{(1, 50.0) (2, 49.15869555555556) (3, 49.75852543209877) (4, 49.87389978052127) (5, 50.74972649596099) (6, 50.733420607969656) (7, 50.8795115839764) (8, 51.05127789864831)}; \n",
      " \t \t \\addplot[only marks, color = red, mark size = 2pt] plot coordinates{(9, 51.29678725450424) (10, 52.025330086836625) (11, 52.26080562309515) (12, 52.876111040185116) (13, 53.18217080903287) (14, 52.58258840702557) (15, 52.08629764990878) (16, 51.81577817215127) (17, 51.86492746722877) (18, 52.168843585622376) (19, 51.27040723326185) (20, 51.483992292536996)}; \n",
      " \t \t \\addplot[mark = none, line width = 1pt, color = ForestGreen, domain = 0:21]{48.81} node[above, pos = 0.5] {\\texttt{LCL = 48.8141}}; \n",
      " \t \t \\addplot[mark = none, line width = 1pt, color = ForestGreen, domain = 0:21]{51.19} node[below, pos = 0.5] {\\texttt{UCL = 51.1859}}; \n",
      " \t \t \\end{axis} \n",
      " \t \\end{tikzpicture} \n",
      " \\end{figure}\n"
     ]
    }
   ],
   "source": [
    "movAv               = pd.DataFrame(np.reshape(np.loadtxt('moving_average.txt', delimiter=' '), (-1, 2), order='C'), columns=['Xt_bar', 'Mt']).dropna()\n",
    "k,n                 = 8, 4\n",
    "meanP, stdP         = 50, math.sqrt(5)\n",
    "alpha               = 2/9\n",
    "\n",
    "\n",
    "# movAv           = movAv[~((movAv.index == 2) | (movAv.index == 4))]\n",
    "\n",
    "\n",
    "movAv['Wt']         = movAv['Xt_bar'] * 0\n",
    "k_def               = movAv.shape[0]\n",
    "\n",
    "\n",
    "\n",
    "movAv.Wt[0]         = meanP\n",
    "for i in range(1, k_def):\n",
    "    movAv.Wt[i]      = alpha * movAv.Xt_bar[i] + (1 - alpha) * movAv.Wt[i-1]\n",
    "\n",
    "UCL, LCL        = meanP + 3 * stdP * math.sqrt(alpha / (n * (2 - alpha))), meanP - 3 * stdP * math.sqrt(alpha / (n * (2 - alpha)))\n",
    "print(f'LCL = {LCL} and UCL = {UCL}')\n",
    "\n",
    "violators       = movAv.loc[(movAv['Wt'] > UCL) | (movAv['Wt'] < LCL)]\n",
    "inControl       = movAv.loc[(movAv['Wt'] < UCL) & (movAv['Wt'] > LCL)]\n",
    "coords_1     = list(zip(inControl.index + 1, inControl['Wt']))\n",
    "cd_str_1     = ' '.join(map(str, coords_1))\n",
    "\n",
    "coords_2     = list(zip(violators.index + 1, violators['Wt']))\n",
    "cd_str_2     = ' '.join(map(str, coords_2))\n",
    "\n",
    "\n",
    "before          = '\\\\begin{figure}[H] \\n \\t \\\\centering \\n \\t \\\\begin{tikzpicture} \\n \\t \\t \\\\begin{axis}[ylabel near ticks, width = 0.75\\\\textwidth, xlabel = Subgroup, ylabel = $W_t$ , grid = both, grid style = {dotted, gray}]'\n",
    "after           = '\\t \\t \\\\end{axis} \\n \\t \\\\end{tikzpicture} \\n \\\\end{figure}'\n",
    "str_scatter     = '\\t \\t \\\\addplot[only marks, color = blue] plot coordinates{' + cd_str_1 +'};'\n",
    "str_viol        = '\\t \\t \\\\addplot[only marks, color = red, mark size = 2pt] plot coordinates{' + cd_str_2 +'};'\n",
    "LCL_line        = '\\t \\t \\\\addplot[mark = none, line width = 1pt, color = ForestGreen, domain = 0:' + str(k_def+1) + ']{' + str(round(LCL, 2)) + '} node[above, pos = 0.5] {\\\\texttt{LCL = ' + str(round(LCL, 4)) +'}};'\n",
    "UCL_line        = '\\t \\t \\\\addplot[mark = none, line width = 1pt, color = ForestGreen, domain = 0:' + str(k_def+1) + ']{' + str(round(UCL, 2)) + '} node[below, pos = 0.5] {\\\\texttt{UCL = ' + str(round(UCL, 4)) +'}};'\n",
    "\n",
    "print(before,'\\n',str_scatter, '\\n',str_viol, '\\n',LCL_line, '\\n',UCL_line, '\\n', after)"
   ]
  },
  {
   "cell_type": "markdown",
   "metadata": {},
   "source": [
    "#### cumulative sum control chart"
   ]
  },
  {
   "cell_type": "code",
   "execution_count": 48,
   "metadata": {},
   "outputs": [
    {
     "name": "stdout",
     "output_type": "stream",
     "text": [
      "UCL = 15.08406443900317\n",
      "\\begin{figure}[H] \n",
      " \t \\centering \n",
      " \t \\begin{tikzpicture} \n",
      " \t \t \\begin{axis}[ylabel near ticks, width = 0.75\\textwidth, xlabel = Subgroup, ylabel = $S_i\\ \\text{and}\\ T_i$ , grid = both, grid style = {dotted, gray}] \n",
      " \t \t \\addplot[thick, only marks, mark = o, color = blue] plot coordinates{(1, 0.0) (2, 4.228311169915808) (3, 11.777352339831621) (4, 11.10981350974743) (5, 8.98841467966324) (6, 7.9555658495790516) (7, 8.961627019494864) (8, 13.774628189410674) (9, 12.253899359326486) (10, 8.299790529242298) (11, 3.2621816991581083) (12, 5.70728286907392) (13, 11.878134038989728) (14, 8.113285208905538) (15, 3.413426378821348) (16, 0.0) (17, 0.899561169915809) (18, 1.7654523398316173) (19, 0.0) (20, 6.953191169915807) (21, 9.405822339831614) (22, 6.361663509747424) (23, 7.712264679663232) (24, 4.788375849579043) (25, 5.392707019494855)}; \n",
      " \t \t \\addplot[thick, only marks, mark = o, color = red, mark size = 2pt] plot coordinates{}; \n",
      " \t \t \\addplot[thick, only marks, mark = x, color = Violet] plot coordinates{(1, 0.0) (2, 0.0) (3, 0.0) (4, 0.0) (5, 0.0) (6, 0.0) (7, 0.0) (8, 0.0) (9, 0.0) (10, 0.7918311699158089) (11, 2.6671623398316187) (12, 0.0) (13, 0.0) (14, 0.6025711699158116) (15, 2.1401523398316216) (16, 3.5597535097474324) (17, 0.0) (18, 0.0) (19, 1.673961169915809) (20, 0.0) (21, 0.0) (22, 0.0) (23, 0.0) (24, 0.0) (25, 0.0)}; \n",
      " \t \t \\addplot[thick, only marks, mark = x, color = BrickRed, mark size = 2pt] plot coordinates{}; \n",
      " \t \t \\addplot[mark = none, line width = 1pt, color = ForestGreen, domain = 0:26]{15.08} node[below, pos = 0.5] {\\texttt{UCL = 15.0841}}; \n",
      " \t \t \\end{axis} \n",
      " \t \\end{tikzpicture} \n",
      " \\end{figure}\n"
     ]
    }
   ],
   "source": [
    "movAv               = pd.DataFrame(np.reshape(np.loadtxt('moving_average.txt', delimiter=' '), (-1, 2), order='C'), columns=['Xt_bar', 'Mt']).dropna()\n",
    "k,n                 = 8, 4\n",
    "meanP, stdP         = 30, math.sqrt(40)\n",
    "alpha               = 2/9\n",
    "d, B                = 0.5, 4.77\n",
    "\n",
    "# movAv           = movAv[~((movAv.index == 2) | (movAv.index == 4))]\n",
    "movAv['Y_i']        = movAv['Xt_bar'] - meanP - (d * stdP / math.sqrt(n))\n",
    "movAv['W_i']        = -movAv['Xt_bar'] + meanP - (d * stdP / math.sqrt(n))\n",
    "\n",
    "movAv['St'],  movAv['Tt']        = movAv['Xt_bar'] * 0, movAv['Xt_bar'] * 0\n",
    "k_def               = movAv.shape[0]\n",
    "\n",
    "\n",
    "\n",
    "movAv.St[0], movAv.Tt[0]         = 0, 0\n",
    "for i in range(1, k_def):\n",
    "    movAv.St[i], movAv.Tt[i]      = max(0, movAv.St[i-1] + movAv.Y_i[i]), max(0, movAv.Tt[i-1] + movAv.W_i[i])\n",
    "\n",
    "UCL                 = B * stdP / math.sqrt(n)\n",
    "print(f'UCL = {UCL}')\n",
    "\n",
    "violators       = movAv.loc[(movAv['St'] > UCL) | (movAv['Tt'] > UCL)]\n",
    "inControl       = movAv.loc[(movAv['St'] < UCL) & (movAv['Tt'] < UCL)]\n",
    "\n",
    "coords_1     = list(zip(inControl.index + 1, inControl['St']))\n",
    "cd_str_1     = ' '.join(map(str, coords_1))\n",
    "\n",
    "coords_2     = list(zip(violators.index + 1, violators['St']))\n",
    "cd_str_2     = ' '.join(map(str, coords_2))\n",
    "\n",
    "coords_3     = list(zip(inControl.index + 1, inControl['Tt']))\n",
    "cd_str_3     = ' '.join(map(str, coords_3))\n",
    "\n",
    "coords_4     = list(zip(violators.index + 1, violators['Tt']))\n",
    "cd_str_4     = ' '.join(map(str, coords_4))\n",
    "\n",
    "\n",
    "before          = '\\\\begin{figure}[H] \\n \\t \\\\centering \\n \\t \\\\begin{tikzpicture} \\n \\t \\t \\\\begin{axis}[ylabel near ticks, width = 0.75\\\\textwidth, xlabel = Subgroup, ylabel = $S_i\\\\ \\\\text{and}\\\\ T_i$ , grid = both, grid style = {dotted, gray}]'\n",
    "after           = '\\t \\t \\\\end{axis} \\n \\t \\\\end{tikzpicture} \\n \\\\end{figure}'\n",
    "str_scatter     = '\\t \\t \\\\addplot[thick, only marks, mark = o, color = blue] plot coordinates{' + cd_str_1 +'};'\n",
    "str_viol        = '\\t \\t \\\\addplot[thick, only marks, mark = o, color = red, mark size = 2pt] plot coordinates{' + cd_str_2 +'};'\n",
    "str_scatter_1     = '\\t \\t \\\\addplot[thick, only marks, mark = x, color = Violet] plot coordinates{' + cd_str_3 +'};'\n",
    "str_viol_1        = '\\t \\t \\\\addplot[thick, only marks, mark = x, color = BrickRed, mark size = 2pt] plot coordinates{' + cd_str_4 +'};'\n",
    "UCL_line        = '\\t \\t \\\\addplot[mark = none, line width = 1pt, color = ForestGreen, domain = 0:' + str(k_def+1) + ']{' + str(round(UCL, 2)) + '} node[below, pos = 0.5] {\\\\texttt{UCL = ' + str(round(UCL, 4)) +'}};'\n",
    "\n",
    "print(before,'\\n',str_scatter, '\\n',str_viol, '\\n',str_scatter_1, '\\n',str_viol_1, '\\n',UCL_line, '\\n', after)"
   ]
  },
  {
   "cell_type": "code",
   "execution_count": 36,
   "metadata": {},
   "outputs": [
    {
     "data": {
      "text/html": [
       "<div>\n",
       "<style scoped>\n",
       "    .dataframe tbody tr th:only-of-type {\n",
       "        vertical-align: middle;\n",
       "    }\n",
       "\n",
       "    .dataframe tbody tr th {\n",
       "        vertical-align: top;\n",
       "    }\n",
       "\n",
       "    .dataframe thead th {\n",
       "        text-align: right;\n",
       "    }\n",
       "</style>\n",
       "<table border=\"1\" class=\"dataframe\">\n",
       "  <thead>\n",
       "    <tr style=\"text-align: right;\">\n",
       "      <th></th>\n",
       "      <th>Xt_bar</th>\n",
       "      <th>Mt</th>\n",
       "      <th>Y_i</th>\n",
       "      <th>W_i</th>\n",
       "      <th>St</th>\n",
       "      <th>Tt</th>\n",
       "    </tr>\n",
       "  </thead>\n",
       "  <tbody>\n",
       "    <tr>\n",
       "      <th>0</th>\n",
       "      <td>50.79806</td>\n",
       "      <td>50.79806</td>\n",
       "      <td>-0.319974</td>\n",
       "      <td>-1.916094</td>\n",
       "      <td>0.000000</td>\n",
       "      <td>0.000000</td>\n",
       "    </tr>\n",
       "    <tr>\n",
       "      <th>1</th>\n",
       "      <td>46.21413</td>\n",
       "      <td>48.50609</td>\n",
       "      <td>-4.903904</td>\n",
       "      <td>2.667836</td>\n",
       "      <td>0.000000</td>\n",
       "      <td>2.667836</td>\n",
       "    </tr>\n",
       "    <tr>\n",
       "      <th>2</th>\n",
       "      <td>51.85793</td>\n",
       "      <td>49.62337</td>\n",
       "      <td>0.739896</td>\n",
       "      <td>-2.975964</td>\n",
       "      <td>0.739896</td>\n",
       "      <td>0.000000</td>\n",
       "    </tr>\n",
       "    <tr>\n",
       "      <th>3</th>\n",
       "      <td>50.27771</td>\n",
       "      <td>49.78696</td>\n",
       "      <td>-0.840324</td>\n",
       "      <td>-1.395744</td>\n",
       "      <td>0.000000</td>\n",
       "      <td>0.000000</td>\n",
       "    </tr>\n",
       "    <tr>\n",
       "      <th>4</th>\n",
       "      <td>53.81512</td>\n",
       "      <td>50.59259</td>\n",
       "      <td>2.697086</td>\n",
       "      <td>-4.933154</td>\n",
       "      <td>2.697086</td>\n",
       "      <td>0.000000</td>\n",
       "    </tr>\n",
       "    <tr>\n",
       "      <th>5</th>\n",
       "      <td>50.67635</td>\n",
       "      <td>50.60655</td>\n",
       "      <td>-0.441684</td>\n",
       "      <td>-1.794384</td>\n",
       "      <td>2.255402</td>\n",
       "      <td>0.000000</td>\n",
       "    </tr>\n",
       "    <tr>\n",
       "      <th>6</th>\n",
       "      <td>51.39083</td>\n",
       "      <td>50.71859</td>\n",
       "      <td>0.272796</td>\n",
       "      <td>-2.508864</td>\n",
       "      <td>2.528198</td>\n",
       "      <td>0.000000</td>\n",
       "    </tr>\n",
       "  </tbody>\n",
       "</table>\n",
       "</div>"
      ],
      "text/plain": [
       "     Xt_bar        Mt       Y_i       W_i        St        Tt\n",
       "0  50.79806  50.79806 -0.319974 -1.916094  0.000000  0.000000\n",
       "1  46.21413  48.50609 -4.903904  2.667836  0.000000  2.667836\n",
       "2  51.85793  49.62337  0.739896 -2.975964  0.739896  0.000000\n",
       "3  50.27771  49.78696 -0.840324 -1.395744  0.000000  0.000000\n",
       "4  53.81512  50.59259  2.697086 -4.933154  2.697086  0.000000\n",
       "5  50.67635  50.60655 -0.441684 -1.794384  2.255402  0.000000\n",
       "6  51.39083  50.71859  0.272796 -2.508864  2.528198  0.000000"
      ]
     },
     "execution_count": 36,
     "metadata": {},
     "output_type": "execute_result"
    }
   ],
   "source": [
    "inControl"
   ]
  },
  {
   "cell_type": "code",
   "execution_count": null,
   "metadata": {},
   "outputs": [],
   "source": []
  }
 ],
 "metadata": {
  "interpreter": {
   "hash": "73e03da126b73bfff3642ec5261d56fa25c444ea595de51041687efaa60dda41"
  },
  "kernelspec": {
   "display_name": "Python 3.8.3 64-bit ('base': conda)",
   "name": "python3"
  },
  "language_info": {
   "codemirror_mode": {
    "name": "ipython",
    "version": 3
   },
   "file_extension": ".py",
   "mimetype": "text/x-python",
   "name": "python",
   "nbconvert_exporter": "python",
   "pygments_lexer": "ipython3",
   "version": "3.8.3"
  },
  "orig_nbformat": 4
 },
 "nbformat": 4,
 "nbformat_minor": 2
}
