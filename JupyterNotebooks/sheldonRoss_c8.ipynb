{
 "cells": [
  {
   "cell_type": "code",
   "execution_count": 20,
   "id": "625f011e",
   "metadata": {},
   "outputs": [
    {
     "name": "stdout",
     "output_type": "stream",
     "text": [
      "numpy version is 1.20.3\n",
      "pandas version is 1.3.1\n"
     ]
    }
   ],
   "source": [
    "import numpy as np\n",
    "import pandas as pd\n",
    "import string\n",
    "import calendar\n",
    "import re\n",
    "import math\n",
    "import sympy\n",
    "import matplotlib.pyplot as plt\n",
    "\n",
    "from fractions import Fraction\n",
    "from scipy import stats\n",
    "from scipy import special\n",
    "\n",
    "\n",
    "print(f\"numpy version is {np.__version__}\")\n",
    "print(f\"pandas version is {pd.__version__}\")"
   ]
  },
  {
   "cell_type": "markdown",
   "id": "1a656a4e",
   "metadata": {},
   "source": [
    "### Mean of a normal RV"
   ]
  },
  {
   "cell_type": "markdown",
   "id": "73054cb4",
   "metadata": {},
   "source": [
    "#### Known variance"
   ]
  },
  {
   "cell_type": "code",
   "execution_count": 138,
   "id": "25aa7f6d",
   "metadata": {},
   "outputs": [
    {
     "data": {
      "text/plain": [
       "Test Statistic     1.306395\n",
       "p value           19.141843\n",
       "Alpha              5.000000\n",
       "Sample Mean       41.500000\n",
       "Power function     0.256695\n",
       "dtype: float64"
      ]
     },
     "execution_count": 138,
     "metadata": {},
     "output_type": "execute_result"
    }
   ],
   "source": [
    "mu_0 = 37.5\n",
    "alpha = 0.05\n",
    "sigma = math.sqrt(9.375)\n",
    "\n",
    "# data = pd.Series(np.fromstring('72 68.1 69.2 72.8 71.2 72.2 70.8 74 66 70.3 70.4 76 72.5 74 71.8 69.6 75.6 70.6 76.2 77', dtype = float, sep = ' '))\n",
    "# xBar = data.mean()\n",
    "# n = data.shape[0]\n",
    "\n",
    "xBar = 41.5\n",
    "n = 1\n",
    "\n",
    "# Two-sided\n",
    "testStat = math.sqrt(n) * abs(xBar - mu_0) / sigma\n",
    "pVal = 2*(1 - stats.norm.cdf(testStat))\n",
    "\n",
    "# One-sided-lower\n",
    "# testStat = math.sqrt(n) * (xBar - mu_0) / sigma\n",
    "# pVal = stats.norm.cdf(testStat)\n",
    "\n",
    "# One-sided-upper\n",
    "# testStat = math.sqrt(n) * (xBar - mu_0) / sigma\n",
    "# pVal = (1 - stats.norm.cdf(testStat))\n",
    "\n",
    "beta = stats.norm.cdf((mu_0  - xBar) * math.sqrt(n) / sigma + stats.norm.ppf(1 - alpha/2))\n",
    "\n",
    "outputs = {'Test Statistic': testStat, 'p value': 100*pVal, 'Alpha': 100*alpha, 'Sample Mean': xBar, 'Power function': 1 - beta}\n",
    "pd.Series(outputs)"
   ]
  },
  {
   "cell_type": "markdown",
   "id": "2828e2c2",
   "metadata": {},
   "source": [
    "#### unknown variance"
   ]
  },
  {
   "cell_type": "code",
   "execution_count": 46,
   "id": "521da179",
   "metadata": {},
   "outputs": [
    {
     "data": {
      "text/plain": [
       "Test Statistic      0.740659\n",
       "p value            76.279314\n",
       "Alpha               5.000000\n",
       "Sample Mean       101.416667\n",
       "Sample Std          6.625822\n",
       "Power function      0.086083\n",
       "dtype: float64"
      ]
     },
     "execution_count": 46,
     "metadata": {},
     "output_type": "execute_result"
    }
   ],
   "source": [
    "mu_0 = 100\n",
    "alpha = 0.05\n",
    "\n",
    "\n",
    "data = pd.Series(np.fromstring('96,98,105,92,111,114,99,103,95,101,106,97', dtype = float, sep = ','))\n",
    "xBar = data.mean()\n",
    "n = data.shape[0]\n",
    "sample_std = data.std()\n",
    "\n",
    "# xBar = 200\n",
    "# n = 64\n",
    "# sample_std = 35\n",
    "\n",
    "# Two-sided\n",
    "# testStat = math.sqrt(n) * abs(xBar - mu_0) / sample_std\n",
    "# pVal = 2*(1 - stats.t.cdf(testStat, n-1))\n",
    "\n",
    "# One-sided-lower\n",
    "testStat = math.sqrt(n) * (xBar - mu_0) / sample_std\n",
    "pVal = stats.t.cdf(testStat, n-1)\n",
    "\n",
    "# One-sided-upper\n",
    "# testStat = math.sqrt(n) * (xBar - mu_0) / sample_std\n",
    "# pVal = (1 - stats.t.cdf(testStat, n-1))\n",
    "\n",
    "beta = stats.t.cdf((mu_0  - xBar) * math.sqrt(n) / sample_std + stats.t.ppf(1 - alpha/2, n-1), n-1)\n",
    "\n",
    "outputs = {'Test Statistic': testStat, 'p value': 100*pVal, 'Alpha': 100*alpha, 'Sample Mean': xBar, 'Sample Std': sample_std, 'Power function': 1 - beta}\n",
    "pd.Series(outputs)"
   ]
  },
  {
   "cell_type": "markdown",
   "id": "10661a51",
   "metadata": {},
   "source": [
    "### Equality of Means of two normal RVs"
   ]
  },
  {
   "cell_type": "markdown",
   "id": "b475a7e4",
   "metadata": {},
   "source": [
    "#### variances known"
   ]
  },
  {
   "cell_type": "code",
   "execution_count": 144,
   "id": "d8d45727",
   "metadata": {},
   "outputs": [
    {
     "data": {
      "text/plain": [
       "Test Statistic       0.222833\n",
       "p value             82.366541\n",
       "Alpha                5.000000\n",
       "Sample Mean Diff     0.017857\n",
       "Sample Comp Std      0.080137\n",
       "dtype: float64"
      ]
     },
     "execution_count": 144,
     "metadata": {},
     "output_type": "execute_result"
    }
   ],
   "source": [
    "# data1 = pd.Series(np.fromstring('122,114,130,165,144,133,139,142,150', dtype = float, sep = ','))\n",
    "# data2 = pd.Series(np.fromstring('108,125,122,140,132,120,137,128,138', dtype = float, sep = ','))\n",
    "# xBar, yBar = data1.mean(), data2.mean()\n",
    "# n, m = data1.shape[0], data2.shape[0]\n",
    "\n",
    "xBar, yBar = 39/72, 44/84\n",
    "n, m = 72, 84\n",
    "\n",
    "pooled_p = (n*xBar + m*yBar) / (n+m)\n",
    "\n",
    "\n",
    "s1, s2 = 10, 5\n",
    "alpha = 0.05\n",
    "\n",
    "\n",
    "std_comp = math.sqrt(pooled_p * (1 - pooled_p) * (1/n + 1/m))\n",
    "# std_comp = math.sqrt(s1**2 / n + s2**2 / m)\n",
    "\n",
    "# Two-sided\n",
    "testStat = abs(xBar - yBar) / std_comp\n",
    "pVal = 2*(1 - stats.norm.cdf(testStat))\n",
    "\n",
    "# One-sided-lower\n",
    "# testStat = (xBar - yBar) / std_comp\n",
    "# pVal = stats.norm.cdf(testStat)\n",
    "\n",
    "# One-sided-upper\n",
    "# testStat = (xBar - yBar) / std_comp\n",
    "# pVal = (1 - stats.norm.cdf(testStat))\n",
    "\n",
    "outputs = {'Test Statistic': testStat, 'p value': 100*pVal, 'Alpha': 100*alpha, 'Sample Mean Diff': xBar - yBar, 'Sample Comp Std': std_comp}\n",
    "pd.Series(outputs)\n"
   ]
  },
  {
   "cell_type": "code",
   "execution_count": 148,
   "id": "76e7b617",
   "metadata": {},
   "outputs": [
    {
     "data": {
      "text/plain": [
       "0.22283309232919832"
      ]
     },
     "execution_count": 148,
     "metadata": {},
     "output_type": "execute_result"
    }
   ],
   "source": [
    "(xBar - yBar) / std_comp"
   ]
  },
  {
   "cell_type": "markdown",
   "id": "2794420d",
   "metadata": {},
   "source": [
    "#### Variances unknown but equal"
   ]
  },
  {
   "cell_type": "code",
   "execution_count": 81,
   "id": "7be7c8cc",
   "metadata": {},
   "outputs": [
    {
     "data": {
      "text/plain": [
       "Test Statistic       0.871530\n",
       "p value             38.566185\n",
       "Alpha                1.000000\n",
       "Sample Mean Diff    -0.400000\n",
       "Sample Comp Std      3.726780\n",
       "dtype: float64"
      ]
     },
     "execution_count": 81,
     "metadata": {},
     "output_type": "execute_result"
    }
   ],
   "source": [
    "# data1 = pd.Series(np.fromstring('32.2,27.4,28.6,32.4,40.5,26.2,29.4,25.8,36.6,30.3,28.5,32.0', dtype = float, sep = ','))\n",
    "# data2 = pd.Series(np.fromstring('30.5,28.4,40.2,37.6,36.5,38.8,34.7,29.5,29.7,37.2,41.5,37.0', dtype = float, sep = ','))\n",
    "# xBar, yBar = data1.mean(), data2.mean()\n",
    "# n, m = data1.shape[0], data2.shape[0]\n",
    "# vx, vy = data1.var(), data2.var()\n",
    "\n",
    "xBar, yBar = 6.8, 7.2\n",
    "n, m = 53, 44\n",
    "vx, vy = 5.2, 4.9\n",
    "\n",
    "alpha = 0.01\n",
    "std_pooled = math.sqrt(((n-1)*vx + (m-1)*vy)/ (n+m-2))\n",
    "\n",
    "# Two-sided\n",
    "testStat = abs(xBar - yBar) / (std_pooled * math.sqrt(1/n + 1/m))\n",
    "pVal = 2*(1 - stats.t.cdf(testStat, n+m-2))\n",
    "\n",
    "# One-sided-lower\n",
    "# testStat = (xBar - yBar) / (std_pooled * math.sqrt(1/n + 1/m))\n",
    "# pVal = stats.t.cdf(testStat, n+m-2)\n",
    "\n",
    "# One-sided-upper\n",
    "# testStat = (xBar - yBar) / (std_pooled * math.sqrt(1/n + 1/m))\n",
    "# pVal = (1 - stats.t.cdf(testStat, n+m-2))\n",
    "\n",
    "outputs = {'Test Statistic': testStat, 'p value': 100*pVal, 'Alpha': 100*alpha, 'Sample Mean Diff': xBar - yBar, 'Sample Comp Std': std_comp}\n",
    "pd.Series(outputs)\n"
   ]
  },
  {
   "cell_type": "markdown",
   "id": "00ae7796",
   "metadata": {},
   "source": [
    "#### paired t-test"
   ]
  },
  {
   "cell_type": "code",
   "execution_count": 98,
   "id": "a7b320f6",
   "metadata": {},
   "outputs": [
    {
     "data": {
      "text/plain": [
       "Test Statistic       1.262974\n",
       "p value             24.703941\n",
       "Alpha                5.000000\n",
       "Sample Mean Diff     2.750000\n",
       "Sample Comp Std      3.726780\n",
       "dtype: float64"
      ]
     },
     "execution_count": 98,
     "metadata": {},
     "output_type": "execute_result"
    }
   ],
   "source": [
    "data1 = pd.Series(np.fromstring('74 86 98 102 78 84 79 70', dtype = float, sep = ' '))\n",
    "data2 = pd.Series(np.fromstring('70 85 90 110 71 80 69 74', dtype = float, sep = ' '))\n",
    "data3 = data1 - data2\n",
    "wBar = data3.mean()\n",
    "n = data3.shape[0]\n",
    "std_w = data3.std()\n",
    "\n",
    "# xBar, yBar = 0.015, 0.006\n",
    "# wBar = xBar - yBar\n",
    "# n = 33\n",
    "# vx, vy = 0.004**2, 0.006**2\n",
    "# std_w = math.sqrt(vx + vy)\n",
    "\n",
    "alpha = 0.05\n",
    "\n",
    "\n",
    "# Two-sided\n",
    "testStat = abs(wBar) / (std_w / math.sqrt(n))\n",
    "pVal = 2*(1 - stats.t.cdf(testStat, n-1))\n",
    "\n",
    "# One-sided-lower\n",
    "# testStat = (xBar - yBar) / (std_w / math.sqrt(n))\n",
    "# pVal = stats.t.cdf(testStat, n-1)\n",
    "\n",
    "# One-sided-upper\n",
    "# testStat = (xBar - yBar) / (std_w / math.sqrt(n))\n",
    "# pVal = (1 - stats.t.cdf(testStat, n-1))\n",
    "\n",
    "outputs = {'Test Statistic': testStat, 'p value': 100*pVal, 'Alpha': 100*alpha, 'Sample Mean Diff': wBar, 'Sample Comp Std': std_comp}\n",
    "pd.Series(outputs)"
   ]
  },
  {
   "cell_type": "markdown",
   "id": "7b99131e",
   "metadata": {},
   "source": [
    "### Variance tests"
   ]
  },
  {
   "cell_type": "markdown",
   "id": "d299efdf",
   "metadata": {},
   "source": [
    "#### Variance and mean unknown"
   ]
  },
  {
   "cell_type": "code",
   "execution_count": 5,
   "id": "fd50dadb",
   "metadata": {},
   "outputs": [
    {
     "data": {
      "text/plain": [
       "Test Statistic    9.250000e-04\n",
       "p value           1.879238e-15\n",
       "Alpha             1.000000e+00\n",
       "Sample Std        4.055175e-03\n",
       "dtype: float64"
      ]
     },
     "execution_count": 5,
     "metadata": {},
     "output_type": "execute_result"
    }
   ],
   "source": [
    "alpha = 0.01\n",
    "sigma_0 = 0.4\n",
    "\n",
    "data = pd.Series(np.fromstring('5.728 5.731 5.722 5.719 5.727 5.724 5.718 5.726 5.723 5.722', dtype = float, sep = ' '))\n",
    "n = data.shape[0]\n",
    "sample_std = data.std()\n",
    "\n",
    "# sample_std = 0.08\n",
    "# n = 50\n",
    "\n",
    "# Two-sided\n",
    "# testStat = (n-1) * sample_std ** 2 / sigma_0 ** 2\n",
    "# pVal = 2*min(1 - stats.chi2.cdf(testStat, n-1), stats.chi2.cdf(testStat, n-1))\n",
    "\n",
    "# One-sided-lower\n",
    "testStat = (n-1) * sample_std ** 2 / sigma_0 ** 2\n",
    "pVal = stats.chi2.cdf(testStat, n-1)\n",
    "\n",
    "# One-sided-upper\n",
    "# testStat = (n-1) * sample_std ** 2 / sigma_0 ** 2\n",
    "# pVal = 1 - stats.chi2.cdf(testStat, n-1)\n",
    "\n",
    "# beta = stats.norm.cdf((mu_0  - xBar) * math.sqrt(n) / sigma + stats.norm.ppf(1 - alpha/2))\n",
    "\n",
    "outputs = {'Test Statistic': testStat, 'p value': 100*pVal, 'Alpha': 100*alpha, 'Sample Std': sample_std}\n",
    "pd.Series(outputs)"
   ]
  },
  {
   "cell_type": "markdown",
   "id": "212ace1f",
   "metadata": {},
   "source": [
    "#### Equality of variances of two normal populations"
   ]
  },
  {
   "cell_type": "code",
   "execution_count": 13,
   "id": "b79e710f",
   "metadata": {},
   "outputs": [
    {
     "data": {
      "text/plain": [
       "Test Statistic    0.470840\n",
       "p value           0.070646\n",
       "Alpha             5.000000\n",
       "Sample Std A      0.564696\n",
       "Sample Std B      0.822958\n",
       "dtype: float64"
      ]
     },
     "execution_count": 13,
     "metadata": {},
     "output_type": "execute_result"
    }
   ],
   "source": [
    "alpha = 0.05\n",
    "\n",
    "# data1 = pd.Series(np.fromstring('10.62,10.58,10.33,10.72,10.44,10.74', dtype = float, sep = ','))\n",
    "# data2 = pd.Series(np.fromstring('10.50,10.52,10.58,10.62,10.55,10.51,10.53', dtype = float, sep = ','))\n",
    "# n, m = data1.shape[0], data2.shape[0]\n",
    "# sample_std_a, sample_std_b = data1.std(), data2.std()\n",
    "\n",
    "sample_std_a, sample_std_b = math.sqrt((91-75*0.948**2)/74), math.sqrt((82-75*0.652**2)/74)\n",
    "# sample_std_a, sample_std_b = 0.08\n",
    "n, m = 75, 75\n",
    "\n",
    "# Two-sided\n",
    "# testStat = sample_std_a ** 2 / sample_std_b ** 2\n",
    "# pVal = 2*min(1 - stats.f.cdf(testStat, n-1, m-1), stats.f.cdf(testStat, n-1, m-1))\n",
    "\n",
    "# One-sided-lowerat\n",
    "testStat = sample_std_a ** 2 / sample_std_b ** 2\n",
    "pVal = stats.f.cdf(testStat, n-1, m-1)\n",
    "\n",
    "# One-sided-upper\n",
    "# testStat = sample_std_a ** 2 / sample_std_b ** 2\n",
    "# pVal = 1 - stats.f.cdf(testStat, n-1, m-1)\n",
    "\n",
    "# beta = stats.norm.cdf((mu_0  - xBar) * math.sqrt(n) / sigma + stats.norm.ppf(1 - alpha/2))\n",
    "\n",
    "outputs = {'Test Statistic': testStat, 'p value': 100*pVal, 'Alpha': 100*alpha, 'Sample Std A': sample_std_a, 'Sample Std B': sample_std_b}\n",
    "pd.Series(outputs)"
   ]
  },
  {
   "cell_type": "markdown",
   "id": "11db25fe",
   "metadata": {},
   "source": [
    "### Bernoulli parameter tests"
   ]
  },
  {
   "cell_type": "markdown",
   "id": "a1c22377",
   "metadata": {},
   "source": [
    "#### Equality of two bernoulli parameters"
   ]
  },
  {
   "cell_type": "code",
   "execution_count": 152,
   "id": "050a0d0f",
   "metadata": {},
   "outputs": [
    {
     "data": {
      "text/plain": [
       "Test Statistic     0.092321\n",
       "p value           80.380621\n",
       "Alpha              5.000000\n",
       "pBar              88.111888\n",
       "qBar              87.096774\n",
       "dtype: float64"
      ]
     },
     "execution_count": 152,
     "metadata": {},
     "output_type": "execute_result"
    }
   ],
   "source": [
    "N, M = 286, 310\n",
    "X, Y = 252, 270\n",
    "\n",
    "alpha = 0.05\n",
    "\n",
    "# Two-sided\n",
    "testStat = stats.hypergeom.pmf(X, N+M, N, X+Y)\n",
    "pSum = 0\n",
    "for k in range(X+Y+1):\n",
    "    if stats.hypergeom.pmf(k, N+M, N, X+Y) <= stats.hypergeom.pmf(X, N+M, N, X+Y):\n",
    "        pSum += stats.hypergeom.pmf(k, N+M, N, X+Y)\n",
    "\n",
    "outputs = {'Test Statistic': testStat, 'p value': 100*pSum, 'Alpha': 100*alpha, 'pBar': 100*X/N, 'qBar': 100*Y/M}\n",
    "pd.Series(outputs)"
   ]
  },
  {
   "cell_type": "markdown",
   "id": "fe915b79",
   "metadata": {},
   "source": [
    "#### Single Bernoulli parameter test"
   ]
  },
  {
   "cell_type": "code",
   "execution_count": 140,
   "id": "28636f4e",
   "metadata": {
    "scrolled": true
   },
   "outputs": [
    {
     "data": {
      "text/plain": [
       "Test Statistic     0.040302\n",
       "p value           37.853702\n",
       "Alpha              5.000000\n",
       "pBar              46.153846\n",
       "dtype: float64"
      ]
     },
     "execution_count": 140,
     "metadata": {},
     "output_type": "execute_result"
    }
   ],
   "source": [
    "p_0 = 0.5\n",
    "X = 72\n",
    "N = 156\n",
    "alpha = 0.05\n",
    "\n",
    "# Two-sided\n",
    "testStat = stats.binom.pmf(X, N, p_0)\n",
    "pSum = 0\n",
    "for k in range(N+1):\n",
    "    if stats.binom.pmf(k, N, p_0) <= stats.binom.pmf(X, N, p_0):\n",
    "        pSum += stats.binom.pmf(k, N, p_0)\n",
    "        \n",
    "# One-sided upper\n",
    "# testStat = stats.binom.pmf(X, N, p_0)\n",
    "# pSum = 1 - stats.binom.cdf(X-1, N, p_0)\n",
    "        \n",
    "# One-sided lower\n",
    "# testStat = stats.binom.pmf(X, N, p_0)\n",
    "# pSum = stats.binom.cdf(X, N, p_0)\n",
    "\n",
    "outputs = {'Test Statistic': testStat, 'p value': 100*pSum, 'Alpha': 100*alpha, 'pBar': 100*X/N}\n",
    "pd.Series(outputs)"
   ]
  },
  {
   "cell_type": "markdown",
   "id": "f93903f9",
   "metadata": {},
   "source": [
    "### Poisson parameter test"
   ]
  },
  {
   "cell_type": "markdown",
   "id": "3ba75690",
   "metadata": {},
   "source": [
    "#### Single Poisson paramter test"
   ]
  },
  {
   "cell_type": "code",
   "execution_count": 161,
   "id": "32b2a33e",
   "metadata": {},
   "outputs": [
    {
     "data": {
      "text/plain": [
       "Test Statistic    2.276480e-09\n",
       "p value           1.412710e-07\n",
       "Alpha             5.000000e+00\n",
       "xBar              2.700000e+01\n",
       "dtype: float64"
      ]
     },
     "execution_count": 161,
     "metadata": {},
     "output_type": "execute_result"
    }
   ],
   "source": [
    "# data = pd.Series(np.fromstring('46, 62, 60, 58, 47, 50, 59, 49', dtype = float, sep = ', '))\n",
    "# xBar = data.mean()\n",
    "\n",
    "xBar = 27\n",
    "\n",
    "x_0 = 6.7\n",
    "\n",
    "\n",
    "alpha = 0.05\n",
    "\n",
    "# Two-sided\n",
    "testStat = stats.poisson.pmf(round(xBar), x_0)\n",
    "p = 2*min(stats.poisson.cdf(xBar, x_0), 1 - stats.poisson.cdf(xBar, x_0))\n",
    "        \n",
    "# One-sided upper\n",
    "# testStat = stats.binom.pmf(X, N, p_0)\n",
    "# pSum = 1 - stats.binom.cdf(X-1, N, p_0)\n",
    "        \n",
    "# One-sided lower\n",
    "# testStat = stats.binom.pmf(X, N, p_0)\n",
    "# pSum = stats.binom.cdf(X, N, p_0)\n",
    "\n",
    "outputs = {'Test Statistic': testStat, 'p value': 100*p, 'Alpha': 100*alpha, 'xBar': xBar}\n",
    "pd.Series(outputs)"
   ]
  },
  {
   "cell_type": "markdown",
   "id": "1f9892ce",
   "metadata": {},
   "source": [
    "#### comparing Poisson parameters"
   ]
  },
  {
   "cell_type": "code",
   "execution_count": 170,
   "id": "30306274",
   "metadata": {},
   "outputs": [
    {
     "data": {
      "text/plain": [
       "Test Statistic     0.261968\n",
       "p value           52.393579\n",
       "Alpha              5.000000\n",
       "xBar              27.000000\n",
       "dtype: float64"
      ]
     },
     "execution_count": 170,
     "metadata": {},
     "output_type": "execute_result"
    }
   ],
   "source": [
    "data1 = pd.Series(np.fromstring('24,32,29,33,40,28,34,36', dtype = float, sep = ','))\n",
    "data2 = pd.Series(np.fromstring('42,36,41', dtype = float, sep = ','))\n",
    "\n",
    "n, m = data1.shape[0], data2.shape[0]\n",
    "c = 1\n",
    "xBar = 27\n",
    "\n",
    "x_0 = 6.7\n",
    "\n",
    "p_pooled = (n/m) / (c + n/m)\n",
    "alpha = 0.05\n",
    "\n",
    "# Two-sided\n",
    "testStat = stats.binom.pmf(n, n+m, p_pooled)\n",
    "p = 2*min(stats.binom.pmf(n, n+m, p_pooled), 1 - stats.binom.pmf(n, n+m, p_pooled))\n",
    "        \n",
    "# One-sided upper\n",
    "# testStat = stats.binom.pmf(X, N, p_0)\n",
    "# pSum = 1 - stats.binom.cdf(X-1, N, p_0)\n",
    "        \n",
    "# One-sided lower\n",
    "# testStat = stats.binom.pmf(X, N, p_0)\n",
    "# pSum = stats.binom.cdf(X, N, p_0)\n",
    "\n",
    "outputs = {'Test Statistic': testStat, 'p value': 100*p, 'Alpha': 100*alpha, 'xBar': xBar}\n",
    "pd.Series(outputs)"
   ]
  },
  {
   "cell_type": "code",
   "execution_count": 171,
   "id": "84c63a97",
   "metadata": {},
   "outputs": [
    {
     "data": {
      "text/plain": [
       "0.7272727272727273"
      ]
     },
     "execution_count": 171,
     "metadata": {},
     "output_type": "execute_result"
    }
   ],
   "source": [
    "p_pooled"
   ]
  },
  {
   "cell_type": "code",
   "execution_count": null,
   "id": "d43a373f",
   "metadata": {},
   "outputs": [],
   "source": []
  }
 ],
 "metadata": {
  "kernelspec": {
   "display_name": "Python 3",
   "language": "python",
   "name": "python3"
  },
  "language_info": {
   "codemirror_mode": {
    "name": "ipython",
    "version": 3
   },
   "file_extension": ".py",
   "mimetype": "text/x-python",
   "name": "python",
   "nbconvert_exporter": "python",
   "pygments_lexer": "ipython3",
   "version": "3.8.3"
  }
 },
 "nbformat": 4,
 "nbformat_minor": 5
}
