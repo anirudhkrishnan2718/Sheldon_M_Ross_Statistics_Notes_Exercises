{
 "cells": [
  {
   "cell_type": "code",
   "execution_count": 1,
   "metadata": {},
   "outputs": [
    {
     "name": "stdout",
     "output_type": "stream",
     "text": [
      "numpy version is 1.20.3\n",
      "pandas version is 1.3.2\n"
     ]
    }
   ],
   "source": [
    "import numpy as np\n",
    "import pandas as pd\n",
    "import string\n",
    "import calendar\n",
    "import re\n",
    "import math\n",
    "import sympy\n",
    "import matplotlib.pyplot as plt\n",
    "import pprint\n",
    "import itertools\n",
    "\n",
    "from fractions import Fraction\n",
    "from scipy import stats\n",
    "from scipy import special\n",
    "\n",
    "\n",
    "print(f\"numpy version is {np.__version__}\")\n",
    "print(f\"pandas version is {pd.__version__}\")\n"
   ]
  },
  {
   "cell_type": "markdown",
   "metadata": {},
   "source": [
    "### failure rate gives probability of extra lifetime"
   ]
  },
  {
   "cell_type": "code",
   "execution_count": 35,
   "metadata": {},
   "outputs": [
    {
     "name": "stdout",
     "output_type": "stream",
     "text": [
      "Probability of age 1 surviving to age 2 is 2.3517745856009116 %\n"
     ]
    }
   ],
   "source": [
    "# symbolic functions and integration\n",
    "low, high   = 1, 2\n",
    "t           = sympy.Symbol('t')\n",
    "e_arg       = sympy.integrate(t ** 3, (t, low, high))\n",
    "surv_prob   = math.pow(math.e, -e_arg)\n",
    "\n",
    "print(f'Probability of age {low} surviving to age {high} is {surv_prob * 100} %')"
   ]
  },
  {
   "cell_type": "markdown",
   "metadata": {},
   "source": [
    "### stopping at $r^{th}$ failure"
   ]
  },
  {
   "cell_type": "code",
   "execution_count": 13,
   "metadata": {},
   "outputs": [
    {
     "data": {
      "text/plain": [
       "64.61245783508774"
      ]
     },
     "execution_count": 13,
     "metadata": {},
     "output_type": "execute_result"
    }
   ],
   "source": [
    "fail_times      = np.fromstring('.35, .73, .99, 1.40, 1.45, 1.83, 2.20, 2.72', sep=',')\n",
    "n               = 20\n",
    "r               = fail_times.shape[0]\n",
    "\n",
    "\n",
    "stopTime        = np.max(fail_times)\n",
    "timeOnTest      = (np.sum(fail_times) + (n-r) * stopTime)\n",
    "theta_hat       = timeOnTest / r\n",
    "\n",
    "\n",
    "# hypothesis testing\n",
    "sig             = 5\n",
    "theta_0         = 10\n",
    "TS              = 2 * timeOnTest / theta_0\n",
    "p_val           = 2 * min(stats.chi2.cdf(TS, 2*r), 1 - stats.chi2.cdf(TS, 2*r))\n",
    "status          = 'accepted' if (100 * p_val >= sig) else 'rejected'\n",
    "\n",
    "conf            = .95\n",
    "conf_low        = 2 * timeOnTest / (stats.chi2.ppf(0.5 * (1 + conf), 2*r))\n",
    "conf_high       = 2 * timeOnTest / (stats.chi2.ppf(1 - 0.5 * (1 + conf), 2*r))"
   ]
  },
  {
   "cell_type": "markdown",
   "metadata": {},
   "source": [
    "#### print output tables"
   ]
  },
  {
   "cell_type": "code",
   "execution_count": 118,
   "metadata": {},
   "outputs": [
    {
     "data": {
      "text/plain": [
       "44.31"
      ]
     },
     "execution_count": 118,
     "metadata": {},
     "output_type": "execute_result"
    }
   ],
   "source": [
    "outDict     ={'Total items ($n$)'                   : '{:d}'.format(n),\n",
    "            'Number failed ($r$)'                   : '{:d}'.format(r),\n",
    "            'Total time on test ($\\\\tau$)'          : '{:.2f}'.format(timeOnTest),\n",
    "            'MLE of mean ($\\\\hat{\\\\theta}$)'        : '{:.2f}'.format(theta_hat),\n",
    "            'Stop time ($T$)'                       : '{:.2f}'.format(stopTime),\n",
    "            '$p$ value \\%'                          : '{:.2f}'.format(100 * p_val),\n",
    "            }\n",
    "dfb = pd.DataFrame.from_dict(outDict, orient='index', columns = ['Value'])\n",
    "\n",
    "print(f'Confidence interval of {conf} \\% for the mean lifetime is [{round(conf_low, 2)}, {round(conf_high, 2)}]')\n",
    "print(f'Hypothesis test for $\\\\theta_0$ = {theta_0} is {status}\\n')\n",
    "\n",
    "s4          = dfb.to_latex(escape=False, column_format='@{}lr@{}')\n",
    "s4          = s4.replace('{} &    Value', '\\multicolumn{2}{c}{\\\\texttt{Stopping at \\\\emph{r} failures}}\\n')\n",
    "print('\\\\begin{table}[H]')\n",
    "print('\\\\centering')\n",
    "print(s4)\n",
    "print('\\\\end{table}')\n",
    "print('\\\\bigskip')\n"
   ]
  },
  {
   "cell_type": "markdown",
   "metadata": {},
   "source": [
    "### mean and variance of testing period"
   ]
  },
  {
   "cell_type": "code",
   "execution_count": 10,
   "metadata": {},
   "outputs": [
    {
     "name": "stdout",
     "output_type": "stream",
     "text": [
      "\\begin{table}[H]\n",
      "\\centering\n",
      "\\begin{tabular}{@{}lr@{}}\n",
      "\\toprule\n",
      "\\multicolumn{2}{c}{\\texttt{Statistics of testing period}}\n",
      " \\\\\n",
      "\\midrule\n",
      "Total items ($n$)             &     20 \\\\\n",
      "Number failed ($r$)           &     10 \\\\\n",
      "Mean lifetime ($\\theta$)      &  10.00 \\\\\n",
      "Test Period mean (exact)      &   6.69 \\\\\n",
      "Test Period variance (exact)  &   4.64 \\\\\n",
      "\\bottomrule\n",
      "\\end{tabular}\n",
      "\n",
      "\\end{table}\n",
      "\\bigskip\n"
     ]
    }
   ],
   "source": [
    "n, r                    = 20, 10\n",
    "j                       = np.arange(r) + 1\n",
    "exponMean               = 10\n",
    "testPeriod_mean_exact   = np.sum(np.divide(exponMean, n+1 - j))\n",
    "testPeriod_var_exact    = np.sum(np.divide(exponMean, n+1 - j) ** 2)\n",
    "\n",
    "\n",
    "outDict     ={'Total items ($n$)'                   : '{:d}'.format(n),\n",
    "            'Number failed ($r$)'                   : '{:d}'.format(r),\n",
    "            'Mean lifetime ($\\\\theta$)'             : '{:.2f}'.format(exponMean),\n",
    "            'Test Period mean (exact) '             : '{:.2f}'.format(testPeriod_mean_exact),\n",
    "            'Test Period variance (exact) '         : '{:.2f}'.format(testPeriod_var_exact),\n",
    "            }\n",
    "dfb = pd.DataFrame.from_dict(outDict, orient='index', columns = ['Value'])\n",
    "\n",
    "\n",
    "s4          = dfb.to_latex(escape=False, column_format='@{}lr@{}')\n",
    "s4          = s4.replace('{} &  Value', '\\multicolumn{2}{c}{\\\\texttt{Statistics of testing period}}\\n')\n",
    "print('\\\\begin{table}[H]')\n",
    "print('\\\\centering')\n",
    "print(s4)\n",
    "print('\\\\end{table}')\n",
    "print('\\\\bigskip')"
   ]
  },
  {
   "cell_type": "markdown",
   "metadata": {},
   "source": [
    "### sequential testing"
   ]
  },
  {
   "cell_type": "code",
   "execution_count": 14,
   "metadata": {},
   "outputs": [],
   "source": [
    "# fail_times      = np.fromstring('.35, .73, .99, 1.40, 1.45, 1.83, 2.20, 2.72', sep=',')\n",
    "# r               = fail_times.shape[0]\n",
    "\n",
    "r               = 16\n",
    "timeOnTest      = 300\n",
    "\n",
    "theta_hat       = timeOnTest / r\n",
    "\n",
    "\n",
    "# hypothesis testing\n",
    "sig             = 5\n",
    "theta_0         = 20\n",
    "TS              = 2 * timeOnTest / theta_0\n",
    "p_val           = 2 * min(stats.chi2.cdf(TS, 2*r), 1 - stats.chi2.cdf(TS, 2*r))\n",
    "status          = 'accepted' if (100 * p_val >= sig) else 'rejected'\n",
    "\n",
    "# confidence interval for theta\n",
    "conf            = .95\n",
    "conf_low        = 2 * timeOnTest / (stats.chi2.ppf(0.5 * (1 + conf), 2*r))\n",
    "conf_high       = 2 * timeOnTest / (stats.chi2.ppf(1 - 0.5 * (1 + conf), 2*r))"
   ]
  },
  {
   "cell_type": "markdown",
   "metadata": {},
   "source": [
    "#### print output tables"
   ]
  },
  {
   "cell_type": "code",
   "execution_count": 22,
   "metadata": {},
   "outputs": [
    {
     "name": "stdout",
     "output_type": "stream",
     "text": [
      "Confidence interval of 95.0 \\% for the mean lifetime is [12.13, 32.8]\n",
      "\n",
      "Hypothesis test for $\\theta_0$ = 20 is accepted\n",
      "\n",
      "\\begin{table}[H]\n",
      "\\centering\n",
      "\\begin{tabular}{@{}lr@{}}\n",
      "\\toprule\n",
      "\\multicolumn{2}{c}{\\texttt{Stopping at fixed time}}\n",
      " \\\\\n",
      "\\midrule\n",
      "Number failed ($r$)          &      16 \\\\\n",
      "Total time on test ($T$)     &  300.00 \\\\\n",
      "MLE of mean ($\\hat{\\theta}$) &   18.75 \\\\\n",
      "$p$ value \\%                 &   86.38 \\\\\n",
      "\\bottomrule\n",
      "\\end{tabular}\n",
      "\n",
      "\\end{table}\n",
      "\\bigskip\n"
     ]
    }
   ],
   "source": [
    "outDict     ={'Number failed ($r$)'                 : '{:d}'.format(r),\n",
    "            'Total time on test ($T$)'              : '{:.2f}'.format(timeOnTest),\n",
    "            'MLE of mean ($\\\\hat{\\\\theta}$)'        : '{:.2f}'.format(theta_hat),\n",
    "            '$p$ value \\%'                          : '{:.2f}'.format(100 * p_val)\n",
    "            }\n",
    "dfb = pd.DataFrame.from_dict(outDict, orient='index', columns = ['Value'])\n",
    "\n",
    "print(f'Confidence interval of {100 * conf} \\% for the mean lifetime is [{round(conf_low, 2)}, {round(conf_high, 2)}]\\n')\n",
    "print(f'Hypothesis test for $\\\\theta_0$ = {theta_0} is {status}\\n')\n",
    "\n",
    "s4          = dfb.to_latex(escape=False, column_format='@{}lr@{}')\n",
    "s4          = s4.replace('{} &   Value', '\\multicolumn{2}{c}{\\\\texttt{Stopping at fixed time}}\\n')\n",
    "print('\\\\begin{table}[H]')\n",
    "print('\\\\centering')\n",
    "print(s4)\n",
    "print('\\\\end{table}')\n",
    "print('\\\\bigskip')"
   ]
  },
  {
   "cell_type": "markdown",
   "metadata": {},
   "source": [
    "### simultaneous testing with fixed time stop"
   ]
  },
  {
   "cell_type": "code",
   "execution_count": 29,
   "metadata": {},
   "outputs": [
    {
     "name": "stdout",
     "output_type": "stream",
     "text": [
      "Confidence interval of 95.0 \\% for the mean lifetime is [48.47, 185.65]\n",
      "\n",
      "Hypothesis test for $\\theta_0$ = 10 is rejected\n",
      "\n",
      "\\begin{table}[H]\n",
      "\\centering\n",
      "\\begin{tabular}{@{}lr@{}}\n",
      "\\toprule\n",
      "\\multicolumn{2}{c}{\\texttt{Stopping at fixed time}}\n",
      " \\\\\n",
      "\\midrule\n",
      "Number failed ($r$)          &       9 \\\\\n",
      "Total time on test ($T$)     &  764.00 \\\\\n",
      "MLE of mean ($\\hat{\\theta}$) &   84.89 \\\\\n",
      "$p$ value \\%                 &    0.00 \\\\\n",
      "\\bottomrule\n",
      "\\end{tabular}\n",
      "\n",
      "\\end{table}\n",
      "\\bigskip\n"
     ]
    }
   ],
   "source": [
    "fail_times      = np.fromstring('15, 28.2, 46, 62.2, 76, 86, 128, 153, 197', sep=',')\n",
    "lifetimes       = np.hstack((fail_times[0], np.diff(fail_times)))\n",
    "n               = 10\n",
    "r               = fail_times.shape[0]\n",
    "stopTime        = 200\n",
    "panelSize       = 5\n",
    "\n",
    "\n",
    "if panelSize == n:\n",
    "    timeOnTest      = (n-r) * stopTime + np.sum(fail_times)\n",
    "elif panelSize < n:\n",
    "    timeOnTest      = 0\n",
    "    for j in range(panelSize + 1, lifetimes.shape[0]):\n",
    "        timeOnTest += (r+1-j) * lifetimes[j]\n",
    "    if r < n:\n",
    "        timeOnTest += (stopTime - fail_times[-1]) * (n-r)\n",
    "    timeOnTest += fail_times[panelSize] * panelSize\n",
    "    \n",
    "theta_hat       = timeOnTest / r\n",
    "\n",
    "\n",
    "# hypothesis testing\n",
    "sig             = 5\n",
    "theta_0         = 10\n",
    "TS              = 2 * timeOnTest / theta_0\n",
    "p_val           = 2 * min(stats.chi2.cdf(TS, 2*r), 1 - stats.chi2.cdf(TS, 2*r))\n",
    "status          = 'accepted' if (100 * p_val >= sig) else 'rejected'\n",
    "\n",
    "conf            = .95\n",
    "conf_low        = 2 * timeOnTest / (stats.chi2.ppf(0.5 * (1 + conf), 2*r))\n",
    "conf_high       = 2 * timeOnTest / (stats.chi2.ppf(1 - 0.5 * (1 + conf), 2*r))\n",
    "\n",
    "outDict     ={'Number failed ($r$)'                 : '{:d}'.format(r),\n",
    "            'Total time on test ($T$)'              : '{:.2f}'.format(timeOnTest),\n",
    "            'MLE of mean ($\\\\hat{\\\\theta}$)'        : '{:.2f}'.format(theta_hat),\n",
    "            '$p$ value \\%'                          : '{:.2f}'.format(100 * p_val)\n",
    "            }\n",
    "dfb = pd.DataFrame.from_dict(outDict, orient='index', columns = ['Value'])\n",
    "\n",
    "print(f'Confidence interval of {100 * conf} \\% for the mean lifetime is [{round(conf_low, 2)}, {round(conf_high, 2)}]\\n')\n",
    "print(f'Hypothesis test for $\\\\theta_0$ = {theta_0} is {status}\\n')\n",
    "\n",
    "s4          = dfb.to_latex(escape=False, column_format='@{}lr@{}')\n",
    "s4          = s4.replace('{} &   Value', '\\multicolumn{2}{c}{\\\\texttt{Stopping at fixed time}}\\n')\n",
    "print('\\\\begin{table}[H]')\n",
    "print('\\\\centering')\n",
    "print(s4)\n",
    "print('\\\\end{table}')\n",
    "print('\\\\bigskip')"
   ]
  },
  {
   "cell_type": "code",
   "execution_count": 15,
   "metadata": {},
   "outputs": [
    {
     "data": {
      "text/plain": [
       "array([15. , 13.2, 17.8, 16.2, 13.8, 10. , 42. , 25. , 44. ])"
      ]
     },
     "execution_count": 15,
     "metadata": {},
     "output_type": "execute_result"
    }
   ],
   "source": [
    "lifetimes"
   ]
  },
  {
   "cell_type": "code",
   "execution_count": 37,
   "metadata": {},
   "outputs": [
    {
     "data": {
      "text/plain": [
       "58.56666666666666"
      ]
     },
     "execution_count": 37,
     "metadata": {},
     "output_type": "execute_result"
    }
   ],
   "source": [
    "ended = np.array([1.2, 2.2, 4.1, 5.6, 8.4, 16.2, 21.7, 41, 49.3, 60.5, 94, 98])\n",
    "cont  = np.array([1.8, 11.8, 13.4, 29, 42, 42.4, 61, 99.2])\n",
    "\n",
    "(np.sum(ended) + np.sum(cont)) / ended.shape[0]\n"
   ]
  },
  {
   "cell_type": "markdown",
   "metadata": {},
   "source": [
    "### two sample problem"
   ]
  },
  {
   "cell_type": "code",
   "execution_count": 49,
   "metadata": {},
   "outputs": [
    {
     "name": "stdout",
     "output_type": "stream",
     "text": [
      "\\begin{table}[H]\n",
      "\\centering\n",
      "\\begin{tabular}{@{}lr@{}}\n",
      "\\toprule\n",
      "\\multicolumn{2}{c}{\\texttt{Two sample problem}}\n",
      " \\\\\n",
      "\\midrule\n",
      "Sample A size ($n$)              &       7 \\\\\n",
      "Sample B size ($m$)              &       7 \\\\\n",
      "Mean Lifetime A ($\\overline{X}$) &  123.17 \\\\\n",
      "Mean Lifetime B ($\\overline{Y}$) &   89.51 \\\\\n",
      "Test Statistic (F Test)          &    1.38 \\\\\n",
      "$p$ vlaue \\%                     &   68.43 \\\\\n",
      "\\bottomrule\n",
      "\\end{tabular}\n",
      "\n",
      "\\end{table}\n",
      "\\bigskip\n"
     ]
    }
   ],
   "source": [
    "fa      = np.fromstring('212, 88.5, 122.3, 116.4, 125, 132, 66', sep=',')\n",
    "fb      = np.fromstring('34.6, 54, 162, 49, 78, 121, 128', sep=',')\n",
    "\n",
    "TS_F    = (np.mean(fa) / np.mean(fb)) * (fb.shape[0] / fa.shape[0])\n",
    "\n",
    "sig     = 5\n",
    "p_val_F   = 2 * min(stats.f.cdf(TS_F, fa.shape[0], fb.shape[0]), 1 - stats.f.cdf(TS_F, fa.shape[0], fb.shape[0]))\n",
    "\n",
    "\n",
    "# output results as table\n",
    "outDict     ={'Sample A size ($n$)'                 : '{:d}'.format(fa.shape[0]),\n",
    "              'Sample B size ($m$)'                 : '{:d}'.format(fb.shape[0]),\n",
    "            'Mean Lifetime A ($\\\\overline{X}$)'     : '{:.2f}'.format(np.mean(fa)),\n",
    "            'Mean Lifetime B ($\\\\overline{Y}$)'     : '{:.2f}'.format(np.mean(fb)),\n",
    "            'Test Statistic (F Test)'               : '{:.2f}'.format(TS_F),\n",
    "            '$p$ vlaue \\% '                         : '{:.2f}'.format(100 * p_val_F)\n",
    "            }\n",
    "dfb = pd.DataFrame.from_dict(outDict, orient='index', columns = ['Value'])\n",
    "\n",
    "\n",
    "s4          = dfb.to_latex(escape=False, column_format='@{}lr@{}')\n",
    "s4          = s4.replace('{} &   Value', '\\multicolumn{2}{c}{\\\\texttt{Two sample problem}}\\n')\n",
    "print('\\\\begin{table}[H]')\n",
    "print('\\\\centering')\n",
    "print(s4)\n",
    "print('\\\\end{table}')\n",
    "print('\\\\bigskip')\n"
   ]
  },
  {
   "cell_type": "code",
   "execution_count": 40,
   "metadata": {},
   "outputs": [
    {
     "data": {
      "text/plain": [
       "100.28571428571429"
      ]
     },
     "execution_count": 40,
     "metadata": {},
     "output_type": "execute_result"
    }
   ],
   "source": [
    "702/7\n"
   ]
  },
  {
   "cell_type": "code",
   "execution_count": null,
   "metadata": {},
   "outputs": [],
   "source": []
  }
 ],
 "metadata": {
  "interpreter": {
   "hash": "73e03da126b73bfff3642ec5261d56fa25c444ea595de51041687efaa60dda41"
  },
  "kernelspec": {
   "display_name": "Python 3.8.3 64-bit ('base': conda)",
   "name": "python3"
  },
  "language_info": {
   "codemirror_mode": {
    "name": "ipython",
    "version": 3
   },
   "file_extension": ".py",
   "mimetype": "text/x-python",
   "name": "python",
   "nbconvert_exporter": "python",
   "pygments_lexer": "ipython3",
   "version": "3.8.3"
  },
  "orig_nbformat": 4
 },
 "nbformat": 4,
 "nbformat_minor": 2
}
