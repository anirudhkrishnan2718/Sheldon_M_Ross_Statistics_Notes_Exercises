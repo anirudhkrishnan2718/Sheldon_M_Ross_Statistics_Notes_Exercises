{
 "cells": [
  {
   "cell_type": "code",
   "execution_count": 16,
   "id": "2cdaf81e-9f8e-40fe-bcba-7fc35bb9c4da",
   "metadata": {},
   "outputs": [
    {
     "name": "stdout",
     "output_type": "stream",
     "text": [
      "numpy version is 1.20.3\n",
      "pandas version is 1.3.1\n"
     ]
    }
   ],
   "source": [
    "import numpy as np\n",
    "import pandas as pd\n",
    "import string\n",
    "import calendar\n",
    "import re\n",
    "import math\n",
    "\n",
    "from fractions import Fraction\n",
    "from scipy import stats\n",
    "\n",
    "\n",
    "print(f\"numpy version is {np.__version__}\")\n",
    "print(f\"pandas version is {pd.__version__}\")"
   ]
  },
  {
   "cell_type": "code",
   "execution_count": 14,
   "id": "abb4e156-ad7c-4bdf-9f88-78bb3a834655",
   "metadata": {},
   "outputs": [
    {
     "name": "stdout",
     "output_type": "stream",
     "text": [
      "4289142502257615/72057594037927936\n"
     ]
    }
   ],
   "source": [
    "a1 = Fraction(15 / 252)\n",
    "print(a1)"
   ]
  },
  {
   "cell_type": "code",
   "execution_count": 10,
   "id": "92348ef9-e83a-4a87-b62c-a7dc458debe2",
   "metadata": {},
   "outputs": [
    {
     "data": {
      "text/plain": [
       "15"
      ]
     },
     "execution_count": 10,
     "metadata": {},
     "output_type": "execute_result"
    }
   ],
   "source": [
    "math.comb(6, 4)"
   ]
  },
  {
   "cell_type": "code",
   "execution_count": 11,
   "id": "e102d005-d42f-4e46-94d3-0458489a1a4a",
   "metadata": {},
   "outputs": [
    {
     "data": {
      "text/plain": [
       "252"
      ]
     },
     "execution_count": 11,
     "metadata": {},
     "output_type": "execute_result"
    }
   ],
   "source": [
    "math.comb(10, 5)"
   ]
  },
  {
   "cell_type": "code",
   "execution_count": 15,
   "id": "c973d17b-fc3b-43c2-b96b-f449011d8d0e",
   "metadata": {},
   "outputs": [
    {
     "data": {
      "text/plain": [
       "0.05952380952380952"
      ]
     },
     "execution_count": 15,
     "metadata": {},
     "output_type": "execute_result"
    }
   ],
   "source": [
    "4289142502257615/72057594037927936"
   ]
  },
  {
   "cell_type": "code",
   "execution_count": 18,
   "id": "79de17a8-2a21-4577-9e0a-d51cc1cfa41b",
   "metadata": {},
   "outputs": [
    {
     "data": {
      "text/plain": [
       "0.003968253968253968"
      ]
     },
     "execution_count": 18,
     "metadata": {},
     "output_type": "execute_result"
    }
   ],
   "source": [
    "1/252"
   ]
  },
  {
   "cell_type": "code",
   "execution_count": 22,
   "id": "fd3f5d76-a7b5-423b-9743-d879c5a21c55",
   "metadata": {},
   "outputs": [
    {
     "data": {
      "text/plain": [
       "0.38400000000000006"
      ]
     },
     "execution_count": 22,
     "metadata": {},
     "output_type": "execute_result"
    }
   ],
   "source": [
    "pow(0.8, 4) - pow(0.4, 4)"
   ]
  },
  {
   "cell_type": "code",
   "execution_count": 24,
   "id": "7f4c20b5-e056-43cd-9f87-b745d276d5ab",
   "metadata": {},
   "outputs": [
    {
     "data": {
      "text/plain": [
       "0.38340049956420363"
      ]
     },
     "execution_count": 24,
     "metadata": {},
     "output_type": "execute_result"
    }
   ],
   "source": [
    "math.exp(-0.5) - math.exp(-1.5)"
   ]
  },
  {
   "cell_type": "code",
   "execution_count": 25,
   "id": "466c92d0-109c-4acc-b769-add22c8c6658",
   "metadata": {},
   "outputs": [
    {
     "data": {
      "text/plain": [
       "-0.6321205588285577"
      ]
     },
     "execution_count": 25,
     "metadata": {},
     "output_type": "execute_result"
    }
   ],
   "source": [
    "math.exp(-1) - math.exp(0)"
   ]
  },
  {
   "cell_type": "code",
   "execution_count": 26,
   "id": "b6ba70c9-6517-4d91-97ad-4b5f654bff38",
   "metadata": {},
   "outputs": [
    {
     "data": {
      "text/plain": [
       "0.3292181069958848"
      ]
     },
     "execution_count": 26,
     "metadata": {},
     "output_type": "execute_result"
    }
   ],
   "source": [
    "80/243"
   ]
  },
  {
   "cell_type": "code",
   "execution_count": 29,
   "id": "a42b38c1-14ba-4c97-917c-4c7cb4a907f7",
   "metadata": {},
   "outputs": [
    {
     "data": {
      "text/plain": [
       "0.018315638888734186"
      ]
     },
     "execution_count": 29,
     "metadata": {},
     "output_type": "execute_result"
    }
   ],
   "source": [
    "pow(math.e, -4)"
   ]
  },
  {
   "cell_type": "code",
   "execution_count": 1,
   "id": "de0cab68-eea0-4246-8d41-858abb8958f8",
   "metadata": {},
   "outputs": [
    {
     "data": {
      "text/plain": [
       "0.125"
      ]
     },
     "execution_count": 1,
     "metadata": {},
     "output_type": "execute_result"
    }
   ],
   "source": [
    "0.25*0.35 + 0.125*0.3"
   ]
  },
  {
   "cell_type": "code",
   "execution_count": 16,
   "id": "b5884ffd-e907-460a-bb86-35314c900212",
   "metadata": {},
   "outputs": [
    {
     "data": {
      "text/plain": [
       "0.4166666666666667"
      ]
     },
     "execution_count": 16,
     "metadata": {},
     "output_type": "execute_result"
    }
   ],
   "source": [
    "5/12"
   ]
  },
  {
   "cell_type": "code",
   "execution_count": 17,
   "id": "36f8ee6a-ab10-4272-8f14-effe5f5543c5",
   "metadata": {},
   "outputs": [
    {
     "data": {
      "text/html": [
       "<div>\n",
       "<style scoped>\n",
       "    .dataframe tbody tr th:only-of-type {\n",
       "        vertical-align: middle;\n",
       "    }\n",
       "\n",
       "    .dataframe tbody tr th {\n",
       "        vertical-align: top;\n",
       "    }\n",
       "\n",
       "    .dataframe thead th {\n",
       "        text-align: right;\n",
       "    }\n",
       "</style>\n",
       "<table border=\"1\" class=\"dataframe\">\n",
       "  <thead>\n",
       "    <tr style=\"text-align: right;\">\n",
       "      <th></th>\n",
       "      <th>x</th>\n",
       "      <th>Px</th>\n",
       "      <th>xPx</th>\n",
       "    </tr>\n",
       "  </thead>\n",
       "  <tbody>\n",
       "    <tr>\n",
       "      <th>0</th>\n",
       "      <td>1</td>\n",
       "      <td>0.500000</td>\n",
       "      <td>0.500000</td>\n",
       "    </tr>\n",
       "    <tr>\n",
       "      <th>1</th>\n",
       "      <td>2</td>\n",
       "      <td>0.277778</td>\n",
       "      <td>0.555556</td>\n",
       "    </tr>\n",
       "    <tr>\n",
       "      <th>2</th>\n",
       "      <td>3</td>\n",
       "      <td>0.138889</td>\n",
       "      <td>0.416667</td>\n",
       "    </tr>\n",
       "    <tr>\n",
       "      <th>3</th>\n",
       "      <td>4</td>\n",
       "      <td>0.059524</td>\n",
       "      <td>0.238095</td>\n",
       "    </tr>\n",
       "    <tr>\n",
       "      <th>4</th>\n",
       "      <td>5</td>\n",
       "      <td>0.019841</td>\n",
       "      <td>0.099206</td>\n",
       "    </tr>\n",
       "    <tr>\n",
       "      <th>5</th>\n",
       "      <td>6</td>\n",
       "      <td>0.003968</td>\n",
       "      <td>0.023810</td>\n",
       "    </tr>\n",
       "  </tbody>\n",
       "</table>\n",
       "</div>"
      ],
      "text/plain": [
       "   x        Px       xPx\n",
       "0  1  0.500000  0.500000\n",
       "1  2  0.277778  0.555556\n",
       "2  3  0.138889  0.416667\n",
       "3  4  0.059524  0.238095\n",
       "4  5  0.019841  0.099206\n",
       "5  6  0.003968  0.023810"
      ]
     },
     "execution_count": 17,
     "metadata": {},
     "output_type": "execute_result"
    }
   ],
   "source": [
    "d20 = { 'x' :np.arange(1, 7), 'Px' : [1/2, 25/90, 100/720, 15/252, 5/252, 1/252]}\n",
    "df20 = pd.DataFrame(d20)\n",
    "df20['xPx'] = (df20['x'] * df20['Px'])\n",
    "df20"
   ]
  },
  {
   "cell_type": "code",
   "execution_count": 18,
   "id": "6ec36721-63e6-4a5f-ba81-2499c607aaf4",
   "metadata": {},
   "outputs": [
    {
     "data": {
      "text/plain": [
       "1.8333333333333335"
      ]
     },
     "execution_count": 18,
     "metadata": {},
     "output_type": "execute_result"
    }
   ],
   "source": [
    "df20['xPx'].sum()"
   ]
  },
  {
   "cell_type": "code",
   "execution_count": 19,
   "id": "669c1d87-f2c4-4b99-bbd2-ced8fdca5d44",
   "metadata": {},
   "outputs": [
    {
     "data": {
      "text/html": [
       "<div>\n",
       "<style scoped>\n",
       "    .dataframe tbody tr th:only-of-type {\n",
       "        vertical-align: middle;\n",
       "    }\n",
       "\n",
       "    .dataframe tbody tr th {\n",
       "        vertical-align: top;\n",
       "    }\n",
       "\n",
       "    .dataframe thead th {\n",
       "        text-align: right;\n",
       "    }\n",
       "</style>\n",
       "<table border=\"1\" class=\"dataframe\">\n",
       "  <thead>\n",
       "    <tr style=\"text-align: right;\">\n",
       "      <th></th>\n",
       "      <th>x</th>\n",
       "      <th>Px</th>\n",
       "      <th>xPx</th>\n",
       "    </tr>\n",
       "  </thead>\n",
       "  <tbody>\n",
       "    <tr>\n",
       "      <th>0</th>\n",
       "      <td>40</td>\n",
       "      <td>0.270270</td>\n",
       "      <td>10.810811</td>\n",
       "    </tr>\n",
       "    <tr>\n",
       "      <th>1</th>\n",
       "      <td>33</td>\n",
       "      <td>0.222973</td>\n",
       "      <td>7.358108</td>\n",
       "    </tr>\n",
       "    <tr>\n",
       "      <th>2</th>\n",
       "      <td>25</td>\n",
       "      <td>0.168919</td>\n",
       "      <td>4.222973</td>\n",
       "    </tr>\n",
       "    <tr>\n",
       "      <th>3</th>\n",
       "      <td>50</td>\n",
       "      <td>0.337838</td>\n",
       "      <td>16.891892</td>\n",
       "    </tr>\n",
       "  </tbody>\n",
       "</table>\n",
       "</div>"
      ],
      "text/plain": [
       "    x        Px        xPx\n",
       "0  40  0.270270  10.810811\n",
       "1  33  0.222973   7.358108\n",
       "2  25  0.168919   4.222973\n",
       "3  50  0.337838  16.891892"
      ]
     },
     "execution_count": 19,
     "metadata": {},
     "output_type": "execute_result"
    }
   ],
   "source": [
    "d21 = { 'x' :[40, 33, 25, 50], 'Px' : [40/148, 33/148, 25/148, 50/148]}\n",
    "df21 = pd.DataFrame(d21)\n",
    "df21['xPx'] = (df21['x'] * df21['Px'])\n",
    "df21"
   ]
  },
  {
   "cell_type": "code",
   "execution_count": 20,
   "id": "bd9f167e-673d-493f-9bec-3450ea3af01d",
   "metadata": {},
   "outputs": [
    {
     "data": {
      "text/plain": [
       "39.28378378378378"
      ]
     },
     "execution_count": 20,
     "metadata": {},
     "output_type": "execute_result"
    }
   ],
   "source": [
    "df21['xPx'].sum()"
   ]
  },
  {
   "cell_type": "code",
   "execution_count": 23,
   "id": "de54793f-9b32-4dc0-91f3-6a37a0d96267",
   "metadata": {},
   "outputs": [
    {
     "name": "stdout",
     "output_type": "stream",
     "text": [
      "[0.6 1.2]\n"
     ]
    }
   ],
   "source": [
    "a2 = np.array([[2, 1], [3, 1]])\n",
    "b2 = np.array([12/5, 3])\n",
    "x2 = np.linalg.solve(a2, b2)\n",
    "print(x2)"
   ]
  },
  {
   "cell_type": "code",
   "execution_count": 24,
   "id": "2abdbd73-3519-4892-90ec-b2048d82c730",
   "metadata": {},
   "outputs": [
    {
     "data": {
      "text/plain": [
       "28.284271247461902"
      ]
     },
     "execution_count": 24,
     "metadata": {},
     "output_type": "execute_result"
    }
   ],
   "source": [
    "20 * math.sqrt(2)"
   ]
  },
  {
   "cell_type": "code",
   "execution_count": 25,
   "id": "68f4c3f2-59e7-4334-bfff-d6cb2ad68156",
   "metadata": {},
   "outputs": [
    {
     "data": {
      "text/plain": [
       "160"
      ]
     },
     "execution_count": 25,
     "metadata": {},
     "output_type": "execute_result"
    }
   ],
   "source": [
    "4+28+16*8"
   ]
  },
  {
   "cell_type": "code",
   "execution_count": 31,
   "id": "3bbbf688-12dc-434a-8428-974865be544e",
   "metadata": {},
   "outputs": [],
   "source": [
    "list23 = []\n",
    "for k in np.arange(1, 11):\n",
    "    val = math.comb(17, k) * math.comb(23, 10-k) / math.comb(40, 10)\n",
    "    list23.append([k, val])"
   ]
  },
  {
   "cell_type": "code",
   "execution_count": 38,
   "id": "eeff6df4-6b59-46cb-9755-f921df501daa",
   "metadata": {},
   "outputs": [
    {
     "data": {
      "text/plain": [
       "4.250000000000001"
      ]
     },
     "execution_count": 38,
     "metadata": {},
     "output_type": "execute_result"
    }
   ],
   "source": [
    "df33 = pd.DataFrame(list23)\n",
    "(df33[0] * df33[1]).sum()"
   ]
  },
  {
   "cell_type": "code",
   "execution_count": 14,
   "id": "5e1594dd-8a37-4073-9e01-2f09778fb108",
   "metadata": {},
   "outputs": [
    {
     "data": {
      "text/plain": [
       "285"
      ]
     },
     "execution_count": 14,
     "metadata": {},
     "output_type": "execute_result"
    }
   ],
   "source": [
    "19*5*3"
   ]
  },
  {
   "cell_type": "code",
   "execution_count": 13,
   "id": "a828f3aa-9724-4757-b958-227e3749042b",
   "metadata": {},
   "outputs": [
    {
     "data": {
      "text/plain": [
       "271"
      ]
     },
     "execution_count": 13,
     "metadata": {},
     "output_type": "execute_result"
    }
   ],
   "source": [
    "pow(10, 3) - pow(9, 3)"
   ]
  },
  {
   "cell_type": "code",
   "execution_count": 19,
   "id": "33c95695-f2e4-4117-b00e-63b9b19dac0b",
   "metadata": {},
   "outputs": [
    {
     "data": {
      "text/plain": [
       "9.000000000000057"
      ]
     },
     "execution_count": 19,
     "metadata": {},
     "output_type": "execute_result"
    }
   ],
   "source": [
    "np.polyval([1/3, -4, 0, 0], 9) - np.polyval([1/3, -4, 0, 0], 8) + np.polyval([-1/3, 5, 0, 0], 10) - np.polyval([-1/3, 5, 0, 0], 9)"
   ]
  },
  {
   "cell_type": "code",
   "execution_count": 22,
   "id": "edc10f9a-4f1d-4ca2-ac7b-406248267d48",
   "metadata": {},
   "outputs": [
    {
     "data": {
      "text/plain": [
       "81.16666666666686"
      ]
     },
     "execution_count": 22,
     "metadata": {},
     "output_type": "execute_result"
    }
   ],
   "source": [
    "np.polyval([1/4,-8/3, 0, 0, 0], 9) - np.polyval([1/4,-8/3, 0, 0, 0], 8) + np.polyval([-1/4, 10/3, 0, 0, 0], 10) - np.polyval([-1/4, 10/3, 0, 0, 0], 9)"
   ]
  },
  {
   "cell_type": "code",
   "execution_count": 30,
   "id": "e22ec831-c1ec-42f4-bce8-5cc529bdd01f",
   "metadata": {},
   "outputs": [
    {
     "data": {
      "text/plain": [
       "2"
      ]
     },
     "execution_count": 30,
     "metadata": {},
     "output_type": "execute_result"
    }
   ],
   "source": [
    "974 - (81*12)"
   ]
  },
  {
   "cell_type": "code",
   "execution_count": 32,
   "id": "6107ceb3-7fee-430b-b6c1-dd38590fb82f",
   "metadata": {},
   "outputs": [
    {
     "data": {
      "text/plain": [
       "0.03125"
      ]
     },
     "execution_count": 32,
     "metadata": {},
     "output_type": "execute_result"
    }
   ],
   "source": [
    "np.polyval([1/2, -8, 0], 8.25) - np.polyval([1/2, -8, 0], 8)"
   ]
  },
  {
   "cell_type": "code",
   "execution_count": 33,
   "id": "145b9339-c3d9-493a-af3c-08b897ca56a9",
   "metadata": {},
   "outputs": [
    {
     "data": {
      "text/plain": [
       "Fraction(1, 32)"
      ]
     },
     "execution_count": 33,
     "metadata": {},
     "output_type": "execute_result"
    }
   ],
   "source": [
    "Fraction(0.03125)"
   ]
  },
  {
   "cell_type": "code",
   "execution_count": 38,
   "id": "07609fd7-277f-48d5-8ab1-ee8cbc39b1cd",
   "metadata": {},
   "outputs": [
    {
     "data": {
      "text/plain": [
       "0.9875000000000114"
      ]
     },
     "execution_count": 38,
     "metadata": {},
     "output_type": "execute_result"
    }
   ],
   "source": [
    "p1 = [-1/15, -0.35 + 8/15, 8*0.35]\n",
    "p2 = [-1/15, 1.65+8/15, -8*1.65]\n",
    "p3 = [1/15, -1.65-2/3, 16.5]\n",
    "np.polyval(np.polyint(p1), 8.25) - np.polyval(np.polyint(p1), 8) + np.polyval(np.polyint(p2), 9) - np.polyval(np.polyint(p2), 8.25) + np.polyval(np.polyint(p3), 10) - np.polyval(np.polyint(p3), 9)\n"
   ]
  },
  {
   "cell_type": "code",
   "execution_count": 42,
   "id": "bdf2bf5a-23c6-4e6b-90a1-faa4db8e4577",
   "metadata": {},
   "outputs": [
    {
     "data": {
      "text/plain": [
       "0.2"
      ]
     },
     "execution_count": 42,
     "metadata": {},
     "output_type": "execute_result"
    }
   ],
   "source": [
    "p4 = [-1.5, 0, 1.5, 0, 0]\n",
    "np.polyval(np.polyint(p4), 1) - np.polyval(np.polyint(p4), 0)"
   ]
  },
  {
   "cell_type": "code",
   "execution_count": 60,
   "id": "8caaf957-54e8-4456-843b-a6cc0c248386",
   "metadata": {},
   "outputs": [
    {
     "data": {
      "text/plain": [
       "0.09999999999999998"
      ]
     },
     "execution_count": 60,
     "metadata": {},
     "output_type": "execute_result"
    }
   ],
   "source": [
    "p5 = [0.5, 0, -1.5, 1, 0]\n",
    "np.polyval(np.polyint(p5), 1) - np.polyval(np.polyint(p5), 0)"
   ]
  },
  {
   "cell_type": "code",
   "execution_count": 67,
   "id": "cca83939-c291-4150-9a59-1da4adc7dcde",
   "metadata": {},
   "outputs": [
    {
     "data": {
      "text/plain": [
       "Fraction(-13, 95)"
      ]
     },
     "execution_count": 67,
     "metadata": {},
     "output_type": "execute_result"
    }
   ],
   "source": [
    "Fraction((0.1 - 9/64) / (19/64)).limit_denominator()"
   ]
  },
  {
   "cell_type": "code",
   "execution_count": 72,
   "id": "76d9fdf5-95d6-4889-a1be-a2c153032c81",
   "metadata": {},
   "outputs": [
    {
     "data": {
      "text/plain": [
       "416"
      ]
     },
     "execution_count": 72,
     "metadata": {},
     "output_type": "execute_result"
    }
   ],
   "source": [
    "16+64+336"
   ]
  },
  {
   "cell_type": "code",
   "execution_count": null,
   "id": "2c2f5e74-998e-4d0e-a235-b39d065adb55",
   "metadata": {},
   "outputs": [],
   "source": []
  }
 ],
 "metadata": {
  "kernelspec": {
   "display_name": "Python 3",
   "language": "python",
   "name": "python3"
  },
  "language_info": {
   "codemirror_mode": {
    "name": "ipython",
    "version": 3
   },
   "file_extension": ".py",
   "mimetype": "text/x-python",
   "name": "python",
   "nbconvert_exporter": "python",
   "pygments_lexer": "ipython3",
   "version": "3.8.3"
  }
 },
 "nbformat": 4,
 "nbformat_minor": 5
}
