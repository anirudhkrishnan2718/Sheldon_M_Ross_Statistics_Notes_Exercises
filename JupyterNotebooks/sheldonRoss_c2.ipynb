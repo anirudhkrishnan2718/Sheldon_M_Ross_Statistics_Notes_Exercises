{
 "cells": [
  {
   "cell_type": "code",
   "execution_count": 1,
   "id": "28ac9e5c-5397-41e6-a82b-58f1c5ae55d7",
   "metadata": {},
   "outputs": [
    {
     "name": "stdout",
     "output_type": "stream",
     "text": [
      "numpy version is 1.20.3\n",
      "pandas version is 1.2.5\n"
     ]
    }
   ],
   "source": [
    "import numpy as np\n",
    "import pandas as pd\n",
    "import string\n",
    "import calendar\n",
    "import re\n",
    "from scipy import stats\n",
    "\n",
    "print(f\"numpy version is {np.__version__}\")\n",
    "print(f\"pandas version is {pd.__version__}\")"
   ]
  },
  {
   "cell_type": "code",
   "execution_count": 2,
   "id": "3ce7c268-e18a-4333-97e2-053ad4d3823b",
   "metadata": {},
   "outputs": [
    {
     "name": "stdout",
     "output_type": "stream",
     "text": [
      "    Year  Departures  Accidents  Fatalities\n",
      "0   1985         6.1          4         197\n",
      "1   1996         7.9          3         342\n",
      "2   1986         6.4          2           5\n",
      "3   1997         9.9          3           3\n",
      "4   1987         6.6          4         231\n",
      "5   1998        10.5          1           1\n",
      "6   1988         6.7          3         285\n",
      "7   1999        10.9          2          12\n",
      "8   1989         6.6         11         278\n",
      "9   2000        11.1          2          89\n",
      "10  1990         7.8          6          39\n",
      "11  2001        10.6          6         531\n",
      "12  1991         7.5          4          62\n",
      "13  2002        10.3          0           0\n",
      "14  1992         7.5          4          33\n",
      "15  2003        10.2          2          22\n",
      "16  1993         7.7          1           1\n",
      "17  2004        10.8          1          13\n",
      "18  1994         7.8          4         239\n",
      "19  2005        10.9          3          22\n",
      "20  1995         8.1          2         166\n",
      "21  2006        11.2          2          50\n"
     ]
    }
   ],
   "source": [
    "df1 = pd.read_csv('ntsbdataset.txt', delimiter = ' ')\n",
    "print(df1)"
   ]
  },
  {
   "cell_type": "code",
   "execution_count": 3,
   "id": "4e6b6281-d95b-4bf1-b2de-f44fadddb0e2",
   "metadata": {},
   "outputs": [
    {
     "name": "stdout",
     "output_type": "stream",
     "text": [
      "    Accidents  Relative Accidents  cumulative relative frequency\n",
      "0           1            0.045455                           0.05\n",
      "1           3            0.136364                           0.18\n",
      "2           6            0.272727                           0.45\n",
      "3           4            0.181818                           0.64\n",
      "4           5            0.227273                           0.86\n",
      "6           2            0.090909                           0.95\n",
      "11          1            0.045455                           1.00\n"
     ]
    }
   ],
   "source": [
    "s1 = df1[\"Accidents\"].value_counts()\n",
    "s2 = s1.sort_index()\n",
    "s3 = pd.DataFrame(s2)\n",
    "s3[\"Relative Accidents\"] = s3[\"Accidents\"] / s3[\"Accidents\"].sum()\n",
    "s3[\"cumulative relative frequency\"] = (s3[\"Relative Accidents\"].cumsum()).round(2)\n",
    "print(s3)"
   ]
  },
  {
   "cell_type": "code",
   "execution_count": 4,
   "id": "dd4e1dcf-36a5-41e6-98de-f97584123e19",
   "metadata": {},
   "outputs": [
    {
     "data": {
      "text/plain": [
       "{(0, 0.05), (1, 0.18), (2, 0.45), (3, 0.64), (4, 0.86), (6, 0.95), (11, 1.0)}"
      ]
     },
     "execution_count": 4,
     "metadata": {},
     "output_type": "execute_result"
    }
   ],
   "source": [
    "set(zip(s3.index, s3[\"cumulative relative frequency\"]))"
   ]
  },
  {
   "cell_type": "code",
   "execution_count": 5,
   "id": "a7a63693-4d40-402c-8d3f-fb50c1ccfbb0",
   "metadata": {},
   "outputs": [
    {
     "data": {
      "text/plain": [
       "3.1818181818181817"
      ]
     },
     "execution_count": 5,
     "metadata": {},
     "output_type": "execute_result"
    }
   ],
   "source": [
    "df1[\"Accidents\"].mean()"
   ]
  },
  {
   "cell_type": "code",
   "execution_count": 6,
   "id": "26e5ddbb-bde1-4437-9769-aac2737baf62",
   "metadata": {},
   "outputs": [
    {
     "data": {
      "text/plain": [
       "3.0"
      ]
     },
     "execution_count": 6,
     "metadata": {},
     "output_type": "execute_result"
    }
   ],
   "source": [
    "df1[\"Accidents\"].median()"
   ]
  },
  {
   "cell_type": "code",
   "execution_count": 7,
   "id": "12e9b0f5-6d41-4945-9e9b-e3ef591acc0b",
   "metadata": {},
   "outputs": [
    {
     "data": {
      "text/plain": [
       "0    2\n",
       "dtype: int64"
      ]
     },
     "execution_count": 7,
     "metadata": {},
     "output_type": "execute_result"
    }
   ],
   "source": [
    "df1[\"Accidents\"].mode()"
   ]
  },
  {
   "cell_type": "code",
   "execution_count": 8,
   "id": "08935db2-b64b-4c66-8f8a-509bca1c44ea",
   "metadata": {},
   "outputs": [
    {
     "data": {
      "text/plain": [
       "2.3224856068314814"
      ]
     },
     "execution_count": 8,
     "metadata": {},
     "output_type": "execute_result"
    }
   ],
   "source": [
    "df1[\"Accidents\"].std()"
   ]
  },
  {
   "cell_type": "code",
   "execution_count": 9,
   "id": "a545d10d-4ae2-482f-b9c2-a857be9bf9c2",
   "metadata": {},
   "outputs": [
    {
     "data": {
      "image/png": "[encoded data removed]",
      "text/plain": [
       "<Figure size 432x288 with 1 Axes>"
      ]
     },
     "metadata": {
      "needs_background": "light"
     },
     "output_type": "display_data"
    }
   ],
   "source": [
    "df1[\"Fatalities\"].hist(bins = [0, 100, 200, 300, 400, 500, 600])\n",
    "h1, c1 = np.histogram(df1[\"Fatalities\"], bins = [0, 100, 200, 300, 400, 500, 600])\n"
   ]
  },
  {
   "cell_type": "code",
   "execution_count": 10,
   "id": "ea3763b8-d977-4985-b4b2-be8dbd029590",
   "metadata": {},
   "outputs": [
    {
     "name": "stdout",
     "output_type": "stream",
     "text": [
      "   Col1  Col2\n",
      "0   500     1\n",
      "1   200     4\n",
      "2   400     0\n",
      "3   100     2\n",
      "4     0    14\n",
      "5   300     1\n"
     ]
    },
    {
     "data": {
      "text/html": [
       "<div>\n",
       "<style scoped>\n",
       "    .dataframe tbody tr th:only-of-type {\n",
       "        vertical-align: middle;\n",
       "    }\n",
       "\n",
       "    .dataframe tbody tr th {\n",
       "        vertical-align: top;\n",
       "    }\n",
       "\n",
       "    .dataframe thead th {\n",
       "        text-align: right;\n",
       "    }\n",
       "</style>\n",
       "<table border=\"1\" class=\"dataframe\">\n",
       "  <thead>\n",
       "    <tr style=\"text-align: right;\">\n",
       "      <th></th>\n",
       "      <th>Col1</th>\n",
       "      <th>Col2</th>\n",
       "    </tr>\n",
       "  </thead>\n",
       "  <tbody>\n",
       "    <tr>\n",
       "      <th>4</th>\n",
       "      <td>0</td>\n",
       "      <td>14</td>\n",
       "    </tr>\n",
       "    <tr>\n",
       "      <th>3</th>\n",
       "      <td>100</td>\n",
       "      <td>2</td>\n",
       "    </tr>\n",
       "    <tr>\n",
       "      <th>1</th>\n",
       "      <td>200</td>\n",
       "      <td>4</td>\n",
       "    </tr>\n",
       "    <tr>\n",
       "      <th>5</th>\n",
       "      <td>300</td>\n",
       "      <td>1</td>\n",
       "    </tr>\n",
       "    <tr>\n",
       "      <th>2</th>\n",
       "      <td>400</td>\n",
       "      <td>0</td>\n",
       "    </tr>\n",
       "    <tr>\n",
       "      <th>0</th>\n",
       "      <td>500</td>\n",
       "      <td>1</td>\n",
       "    </tr>\n",
       "  </tbody>\n",
       "</table>\n",
       "</div>"
      ],
      "text/plain": [
       "   Col1  Col2\n",
       "4     0    14\n",
       "3   100     2\n",
       "1   200     4\n",
       "5   300     1\n",
       "2   400     0\n",
       "0   500     1"
      ]
     },
     "execution_count": 10,
     "metadata": {},
     "output_type": "execute_result"
    }
   ],
   "source": [
    "df2 = pd.DataFrame(set(zip(c1, h1)), columns = [\"Col1\", \"Col2\"])\n",
    "print(df2)\n",
    "df2.sort_values(df2.columns[0])"
   ]
  },
  {
   "cell_type": "code",
   "execution_count": 11,
   "id": "fef57610-fa00-41a5-84e4-925ed0e606dd",
   "metadata": {},
   "outputs": [
    {
     "data": {
      "text/plain": [
       "{(0, 14), (100, 2), (200, 4), (300, 1), (400, 0), (500, 1)}"
      ]
     },
     "execution_count": 11,
     "metadata": {},
     "output_type": "execute_result"
    }
   ],
   "source": [
    "set(zip(df2[\"Col1\"], df2[\"Col2\"]))"
   ]
  },
  {
   "cell_type": "code",
   "execution_count": 12,
   "id": "d0907560-1bd2-42e5-97f6-e7fc3e1c8f2b",
   "metadata": {},
   "outputs": [
    {
     "data": {
      "text/plain": [
       "119.13636363636364"
      ]
     },
     "execution_count": 12,
     "metadata": {},
     "output_type": "execute_result"
    }
   ],
   "source": [
    "df1[\"Fatalities\"].mean()"
   ]
  },
  {
   "cell_type": "code",
   "execution_count": 13,
   "id": "c4bf9efb-4744-467c-a9ca-a045fb426301",
   "metadata": {},
   "outputs": [
    {
     "data": {
      "text/plain": [
       "44.5"
      ]
     },
     "execution_count": 13,
     "metadata": {},
     "output_type": "execute_result"
    }
   ],
   "source": [
    "df1[\"Fatalities\"].median()"
   ]
  },
  {
   "cell_type": "code",
   "execution_count": 14,
   "id": "95cb472d-7f86-4d81-8a0b-590ca2ceb4c5",
   "metadata": {},
   "outputs": [
    {
     "data": {
      "text/plain": [
       "144.78499509684974"
      ]
     },
     "execution_count": 14,
     "metadata": {},
     "output_type": "execute_result"
    }
   ],
   "source": [
    "df1[\"Fatalities\"].std()"
   ]
  },
  {
   "cell_type": "code",
   "execution_count": null,
   "id": "32286db7",
   "metadata": {},
   "outputs": [],
   "source": []
  },
  {
   "cell_type": "code",
   "execution_count": 15,
   "id": "fd37159f-4ef7-49d0-ae65-6b7ec8d6646b",
   "metadata": {},
   "outputs": [
    {
     "name": "stdout",
     "output_type": "stream",
     "text": [
      "\\begin{table}[H]\n",
      "\\centering\n",
      "\\begin{tabular}{rrrr}\n",
      "\\toprule\n",
      " Year &  Departures &  Accidents &  Fatalities \\\\\n",
      "\\midrule\n",
      " 1985 &         6.1 &          4 &         197 \\\\\n",
      " 1996 &         7.9 &          3 &         342 \\\\\n",
      " 1986 &         6.4 &          2 &           5 \\\\\n",
      " 1997 &         9.9 &          3 &           3 \\\\\n",
      " 1987 &         6.6 &          4 &         231 \\\\\n",
      " 1998 &        10.5 &          1 &           1 \\\\\n",
      " 1988 &         6.7 &          3 &         285 \\\\\n",
      " 1999 &        10.9 &          2 &          12 \\\\\n",
      " 1989 &         6.6 &         11 &         278 \\\\\n",
      " 2000 &        11.1 &          2 &          89 \\\\\n",
      " 1990 &         7.8 &          6 &          39 \\\\\n",
      " 2001 &        10.6 &          6 &         531 \\\\\n",
      " 1991 &         7.5 &          4 &          62 \\\\\n",
      " 2002 &        10.3 &          0 &           0 \\\\\n",
      " 1992 &         7.5 &          4 &          33 \\\\\n",
      " 2003 &        10.2 &          2 &          22 \\\\\n",
      " 1993 &         7.7 &          1 &           1 \\\\\n",
      " 2004 &        10.8 &          1 &          13 \\\\\n",
      " 1994 &         7.8 &          4 &         239 \\\\\n",
      " 2005 &        10.9 &          3 &          22 \\\\\n",
      " 1995 &         8.1 &          2 &         166 \\\\\n",
      " 2006 &        11.2 &          2 &          50 \\\\\n",
      "\\bottomrule\n",
      "\\end{tabular}\n",
      "\\end{table}\n",
      "\n"
     ]
    }
   ],
   "source": [
    "print(df1.to_latex(index = False, position = 'H'))"
   ]
  },
  {
   "cell_type": "code",
   "execution_count": 16,
   "id": "39a40e62",
   "metadata": {},
   "outputs": [
    {
     "name": "stdout",
     "output_type": "stream",
     "text": [
      "   First_digit  Proportion_of_data\n",
      "0            1               0.301\n",
      "1            2               0.176\n",
      "2            3               0.125\n",
      "3            4               0.097\n",
      "4            5               0.079\n",
      "5            6               0.067\n",
      "6            7               0.058\n",
      "7            8               0.051\n",
      "8            9               0.046\n"
     ]
    }
   ],
   "source": [
    "df3 = pd.read_csv('benford', delimiter = ' ')\n",
    "print(df3)"
   ]
  },
  {
   "cell_type": "code",
   "execution_count": 17,
   "id": "5cc51742",
   "metadata": {},
   "outputs": [
    {
     "name": "stdout",
     "output_type": "stream",
     "text": [
      "\\begin{table}[H]\n",
      "\\centering\n",
      "\\begin{tabular}{rr}\n",
      "\\toprule\n",
      " First\\_digit &  Proportion\\_of\\_data \\\\\n",
      "\\midrule\n",
      "           1 &               0.301 \\\\\n",
      "           2 &               0.176 \\\\\n",
      "           3 &               0.125 \\\\\n",
      "           4 &               0.097 \\\\\n",
      "           5 &               0.079 \\\\\n",
      "           6 &               0.067 \\\\\n",
      "           7 &               0.058 \\\\\n",
      "           8 &               0.051 \\\\\n",
      "           9 &               0.046 \\\\\n",
      "\\bottomrule\n",
      "\\end{tabular}\n",
      "\\end{table}\n",
      "\n"
     ]
    }
   ],
   "source": [
    "print(df3.to_latex(index = False, position = 'H'))"
   ]
  },
  {
   "cell_type": "code",
   "execution_count": 18,
   "id": "b09c63e1",
   "metadata": {},
   "outputs": [
    {
     "name": "stdout",
     "output_type": "stream",
     "text": [
      "(1, 0.301) (2, 0.176) (3, 0.125) (4, 0.097) (5, 0.079) (6, 0.067) (7, 0.058) (8, 0.051) (9, 0.046)\n"
     ]
    }
   ],
   "source": [
    "print(*list(zip(df3['First_digit'],df3['Proportion_of_data'])))"
   ]
  },
  {
   "cell_type": "code",
   "execution_count": 19,
   "id": "8a416a06",
   "metadata": {},
   "outputs": [
    {
     "name": "stdout",
     "output_type": "stream",
     "text": [
      "    StartAge  EndAge  Males  Females\n",
      "0          0       5    120       67\n",
      "1          5      10    184      120\n",
      "2         10      15     44       22\n",
      "3         15      20     24       15\n",
      "4         20      30     23       25\n",
      "5         30      40     50       22\n",
      "6         40      50     60       40\n",
      "7         50      60    102       76\n",
      "8         60      70    167      104\n",
      "9         70      80    150       90\n",
      "10        80     100     49       27\n"
     ]
    }
   ],
   "source": [
    "df4 = pd.read_csv('MaleFemaleAge', sep = ' |–', engine = 'python', header = None, names = [\"StartAge\", \"EndAge\",  \"Males\", \"Females\"])\n",
    "print(df4)"
   ]
  },
  {
   "cell_type": "code",
   "execution_count": 20,
   "id": "6623301f",
   "metadata": {},
   "outputs": [
    {
     "name": "stdout",
     "output_type": "stream",
     "text": [
      "    StartAge  EndAge  Males  Females  MidAge\n",
      "0          0       5    120       67     2.5\n",
      "1          5      10    184      120     7.5\n",
      "2         10      15     44       22    12.5\n",
      "3         15      20     24       15    17.5\n",
      "4         20      30     23       25    25.0\n",
      "5         30      40     50       22    35.0\n",
      "6         40      50     60       40    45.0\n",
      "7         50      60    102       76    55.0\n",
      "8         60      70    167      104    65.0\n",
      "9         70      80    150       90    75.0\n",
      "10        80     100     49       27    90.0\n"
     ]
    }
   ],
   "source": [
    "minVal = min(df4[\"EndAge\"] - df4[\"StartAge\"])\n",
    "df4[\"MidAge\"] = 0.5 * (df4[\"StartAge\"] + df4[\"EndAge\"])\n",
    "print(df4)"
   ]
  },
  {
   "cell_type": "code",
   "execution_count": 21,
   "id": "ff15d041",
   "metadata": {},
   "outputs": [
    {
     "name": "stdout",
     "output_type": "stream",
     "text": [
      "40.90441932168551\n",
      "40.98684210526316\n"
     ]
    }
   ],
   "source": [
    "meanMales = (df4[\"MidAge\"] * df4[\"Males\"])/(df4[\"Males\"].sum())\n",
    "print(meanMales.sum())\n",
    "meanFeMales = (df4[\"MidAge\"] * df4[\"Females\"])/(df4[\"Females\"].sum())\n",
    "print(meanFeMales.sum())"
   ]
  },
  {
   "cell_type": "code",
   "execution_count": 22,
   "id": "ffdd5d2d",
   "metadata": {},
   "outputs": [
    {
     "name": "stdout",
     "output_type": "stream",
     "text": [
      "\\begin{table}[H]\n",
      "\\centering\n",
      "\\begin{tabular}{rrrrr}\n",
      "\\toprule\n",
      " StartAge &  EndAge &  Males &  Females &  MidAge \\\\\n",
      "\\midrule\n",
      "        0 &       5 &    120 &       67 &     2.5 \\\\\n",
      "        5 &      10 &    184 &      120 &     7.5 \\\\\n",
      "       10 &      15 &     44 &       22 &    12.5 \\\\\n",
      "       15 &      20 &     24 &       15 &    17.5 \\\\\n",
      "       20 &      30 &     23 &       25 &    25.0 \\\\\n",
      "       30 &      40 &     50 &       22 &    35.0 \\\\\n",
      "       40 &      50 &     60 &       40 &    45.0 \\\\\n",
      "       50 &      60 &    102 &       76 &    55.0 \\\\\n",
      "       60 &      70 &    167 &      104 &    65.0 \\\\\n",
      "       70 &      80 &    150 &       90 &    75.0 \\\\\n",
      "       80 &     100 &     49 &       27 &    90.0 \\\\\n",
      "\\bottomrule\n",
      "\\end{tabular}\n",
      "\\end{table}\n",
      "\n"
     ]
    }
   ],
   "source": [
    "print(df4.to_latex(index = False, position = 'H'))"
   ]
  },
  {
   "cell_type": "code",
   "execution_count": 25,
   "id": "22d7bfe1",
   "metadata": {},
   "outputs": [
    {
     "data": {
      "text/html": [
       "<div>\n",
       "<style scoped>\n",
       "    .dataframe tbody tr th:only-of-type {\n",
       "        vertical-align: middle;\n",
       "    }\n",
       "\n",
       "    .dataframe tbody tr th {\n",
       "        vertical-align: top;\n",
       "    }\n",
       "\n",
       "    .dataframe thead th {\n",
       "        text-align: right;\n",
       "    }\n",
       "</style>\n",
       "<table border=\"1\" class=\"dataframe\">\n",
       "  <thead>\n",
       "    <tr style=\"text-align: right;\">\n",
       "      <th></th>\n",
       "      <th>StartAge</th>\n",
       "      <th>EndAge</th>\n",
       "      <th>Males</th>\n",
       "      <th>Females</th>\n",
       "      <th>MidAge</th>\n",
       "    </tr>\n",
       "  </thead>\n",
       "  <tbody>\n",
       "    <tr>\n",
       "      <th>0</th>\n",
       "      <td>0</td>\n",
       "      <td>5</td>\n",
       "      <td>120</td>\n",
       "      <td>67</td>\n",
       "      <td>2.5</td>\n",
       "    </tr>\n",
       "    <tr>\n",
       "      <th>1</th>\n",
       "      <td>5</td>\n",
       "      <td>10</td>\n",
       "      <td>184</td>\n",
       "      <td>120</td>\n",
       "      <td>7.5</td>\n",
       "    </tr>\n",
       "    <tr>\n",
       "      <th>2</th>\n",
       "      <td>10</td>\n",
       "      <td>15</td>\n",
       "      <td>44</td>\n",
       "      <td>22</td>\n",
       "      <td>12.5</td>\n",
       "    </tr>\n",
       "    <tr>\n",
       "      <th>3</th>\n",
       "      <td>15</td>\n",
       "      <td>20</td>\n",
       "      <td>24</td>\n",
       "      <td>15</td>\n",
       "      <td>17.5</td>\n",
       "    </tr>\n",
       "    <tr>\n",
       "      <th>4</th>\n",
       "      <td>20</td>\n",
       "      <td>30</td>\n",
       "      <td>23</td>\n",
       "      <td>25</td>\n",
       "      <td>25.0</td>\n",
       "    </tr>\n",
       "    <tr>\n",
       "      <th>5</th>\n",
       "      <td>30</td>\n",
       "      <td>40</td>\n",
       "      <td>50</td>\n",
       "      <td>22</td>\n",
       "      <td>35.0</td>\n",
       "    </tr>\n",
       "    <tr>\n",
       "      <th>6</th>\n",
       "      <td>40</td>\n",
       "      <td>50</td>\n",
       "      <td>60</td>\n",
       "      <td>40</td>\n",
       "      <td>45.0</td>\n",
       "    </tr>\n",
       "    <tr>\n",
       "      <th>7</th>\n",
       "      <td>50</td>\n",
       "      <td>60</td>\n",
       "      <td>102</td>\n",
       "      <td>76</td>\n",
       "      <td>55.0</td>\n",
       "    </tr>\n",
       "    <tr>\n",
       "      <th>8</th>\n",
       "      <td>60</td>\n",
       "      <td>70</td>\n",
       "      <td>167</td>\n",
       "      <td>104</td>\n",
       "      <td>65.0</td>\n",
       "    </tr>\n",
       "    <tr>\n",
       "      <th>9</th>\n",
       "      <td>70</td>\n",
       "      <td>80</td>\n",
       "      <td>150</td>\n",
       "      <td>90</td>\n",
       "      <td>75.0</td>\n",
       "    </tr>\n",
       "    <tr>\n",
       "      <th>10</th>\n",
       "      <td>80</td>\n",
       "      <td>100</td>\n",
       "      <td>49</td>\n",
       "      <td>27</td>\n",
       "      <td>90.0</td>\n",
       "    </tr>\n",
       "  </tbody>\n",
       "</table>\n",
       "</div>"
      ],
      "text/plain": [
       "    StartAge  EndAge  Males  Females  MidAge\n",
       "0          0       5    120       67     2.5\n",
       "1          5      10    184      120     7.5\n",
       "2         10      15     44       22    12.5\n",
       "3         15      20     24       15    17.5\n",
       "4         20      30     23       25    25.0\n",
       "5         30      40     50       22    35.0\n",
       "6         40      50     60       40    45.0\n",
       "7         50      60    102       76    55.0\n",
       "8         60      70    167      104    65.0\n",
       "9         70      80    150       90    75.0\n",
       "10        80     100     49       27    90.0"
      ]
     },
     "execution_count": 25,
     "metadata": {},
     "output_type": "execute_result"
    }
   ],
   "source": [
    "df4"
   ]
  },
  {
   "cell_type": "code",
   "execution_count": 49,
   "id": "9736ba2a",
   "metadata": {},
   "outputs": [
    {
     "name": "stdout",
     "output_type": "stream",
     "text": [
      "486.5\n"
     ]
    },
    {
     "data": {
      "text/html": [
       "<div>\n",
       "<style scoped>\n",
       "    .dataframe tbody tr th:only-of-type {\n",
       "        vertical-align: middle;\n",
       "    }\n",
       "\n",
       "    .dataframe tbody tr th {\n",
       "        vertical-align: top;\n",
       "    }\n",
       "\n",
       "    .dataframe thead th {\n",
       "        text-align: right;\n",
       "    }\n",
       "</style>\n",
       "<table border=\"1\" class=\"dataframe\">\n",
       "  <thead>\n",
       "    <tr style=\"text-align: right;\">\n",
       "      <th></th>\n",
       "      <th>StartAge</th>\n",
       "      <th>EndAge</th>\n",
       "      <th>Males</th>\n",
       "      <th>Females</th>\n",
       "      <th>MidAge</th>\n",
       "      <th>Males_weighted_sum</th>\n",
       "      <th>Males_cum</th>\n",
       "      <th>Females_cum</th>\n",
       "    </tr>\n",
       "  </thead>\n",
       "  <tbody>\n",
       "    <tr>\n",
       "      <th>0</th>\n",
       "      <td>0</td>\n",
       "      <td>5</td>\n",
       "      <td>120</td>\n",
       "      <td>67</td>\n",
       "      <td>2.5</td>\n",
       "      <td>300.0</td>\n",
       "      <td>120</td>\n",
       "      <td>67</td>\n",
       "    </tr>\n",
       "    <tr>\n",
       "      <th>1</th>\n",
       "      <td>5</td>\n",
       "      <td>10</td>\n",
       "      <td>184</td>\n",
       "      <td>120</td>\n",
       "      <td>7.5</td>\n",
       "      <td>1680.0</td>\n",
       "      <td>304</td>\n",
       "      <td>187</td>\n",
       "    </tr>\n",
       "    <tr>\n",
       "      <th>2</th>\n",
       "      <td>10</td>\n",
       "      <td>15</td>\n",
       "      <td>44</td>\n",
       "      <td>22</td>\n",
       "      <td>12.5</td>\n",
       "      <td>2230.0</td>\n",
       "      <td>348</td>\n",
       "      <td>209</td>\n",
       "    </tr>\n",
       "    <tr>\n",
       "      <th>3</th>\n",
       "      <td>15</td>\n",
       "      <td>20</td>\n",
       "      <td>24</td>\n",
       "      <td>15</td>\n",
       "      <td>17.5</td>\n",
       "      <td>2650.0</td>\n",
       "      <td>372</td>\n",
       "      <td>224</td>\n",
       "    </tr>\n",
       "    <tr>\n",
       "      <th>4</th>\n",
       "      <td>20</td>\n",
       "      <td>30</td>\n",
       "      <td>23</td>\n",
       "      <td>25</td>\n",
       "      <td>25.0</td>\n",
       "      <td>3225.0</td>\n",
       "      <td>395</td>\n",
       "      <td>249</td>\n",
       "    </tr>\n",
       "    <tr>\n",
       "      <th>5</th>\n",
       "      <td>30</td>\n",
       "      <td>40</td>\n",
       "      <td>50</td>\n",
       "      <td>22</td>\n",
       "      <td>35.0</td>\n",
       "      <td>4975.0</td>\n",
       "      <td>445</td>\n",
       "      <td>271</td>\n",
       "    </tr>\n",
       "    <tr>\n",
       "      <th>6</th>\n",
       "      <td>40</td>\n",
       "      <td>50</td>\n",
       "      <td>60</td>\n",
       "      <td>40</td>\n",
       "      <td>45.0</td>\n",
       "      <td>7675.0</td>\n",
       "      <td>505</td>\n",
       "      <td>311</td>\n",
       "    </tr>\n",
       "    <tr>\n",
       "      <th>7</th>\n",
       "      <td>50</td>\n",
       "      <td>60</td>\n",
       "      <td>102</td>\n",
       "      <td>76</td>\n",
       "      <td>55.0</td>\n",
       "      <td>13285.0</td>\n",
       "      <td>607</td>\n",
       "      <td>387</td>\n",
       "    </tr>\n",
       "    <tr>\n",
       "      <th>8</th>\n",
       "      <td>60</td>\n",
       "      <td>70</td>\n",
       "      <td>167</td>\n",
       "      <td>104</td>\n",
       "      <td>65.0</td>\n",
       "      <td>24140.0</td>\n",
       "      <td>774</td>\n",
       "      <td>491</td>\n",
       "    </tr>\n",
       "    <tr>\n",
       "      <th>9</th>\n",
       "      <td>70</td>\n",
       "      <td>80</td>\n",
       "      <td>150</td>\n",
       "      <td>90</td>\n",
       "      <td>75.0</td>\n",
       "      <td>35390.0</td>\n",
       "      <td>924</td>\n",
       "      <td>581</td>\n",
       "    </tr>\n",
       "    <tr>\n",
       "      <th>10</th>\n",
       "      <td>80</td>\n",
       "      <td>100</td>\n",
       "      <td>49</td>\n",
       "      <td>27</td>\n",
       "      <td>90.0</td>\n",
       "      <td>39800.0</td>\n",
       "      <td>973</td>\n",
       "      <td>608</td>\n",
       "    </tr>\n",
       "  </tbody>\n",
       "</table>\n",
       "</div>"
      ],
      "text/plain": [
       "    StartAge  EndAge  Males  Females  MidAge  Males_weighted_sum  Males_cum  \\\n",
       "0          0       5    120       67     2.5               300.0        120   \n",
       "1          5      10    184      120     7.5              1680.0        304   \n",
       "2         10      15     44       22    12.5              2230.0        348   \n",
       "3         15      20     24       15    17.5              2650.0        372   \n",
       "4         20      30     23       25    25.0              3225.0        395   \n",
       "5         30      40     50       22    35.0              4975.0        445   \n",
       "6         40      50     60       40    45.0              7675.0        505   \n",
       "7         50      60    102       76    55.0             13285.0        607   \n",
       "8         60      70    167      104    65.0             24140.0        774   \n",
       "9         70      80    150       90    75.0             35390.0        924   \n",
       "10        80     100     49       27    90.0             39800.0        973   \n",
       "\n",
       "    Females_cum  \n",
       "0            67  \n",
       "1           187  \n",
       "2           209  \n",
       "3           224  \n",
       "4           249  \n",
       "5           271  \n",
       "6           311  \n",
       "7           387  \n",
       "8           491  \n",
       "9           581  \n",
       "10          608  "
      ]
     },
     "execution_count": 49,
     "metadata": {},
     "output_type": "execute_result"
    }
   ],
   "source": [
    "df4[\"Males_cum\"] = df4[\"Males\"].cumsum()\n",
    "df4[\"Females_cum\"] = df4[\"Females\"].cumsum()\n",
    "print(0.5 * df4[\"Males\"].sum())\n",
    "df4"
   ]
  },
  {
   "cell_type": "code",
   "execution_count": 43,
   "id": "f0075a7b",
   "metadata": {},
   "outputs": [
    {
     "name": "stdout",
     "output_type": "stream",
     "text": [
      "243.25\n"
     ]
    },
    {
     "data": {
      "text/plain": [
       "8.349184782608695"
      ]
     },
     "execution_count": 43,
     "metadata": {},
     "output_type": "execute_result"
    }
   ],
   "source": [
    "print(0.25 * df4[\"Males\"].sum())\n",
    "5 + 5*((243.25 - 120) / (304 - 120))"
   ]
  },
  {
   "cell_type": "code",
   "execution_count": 45,
   "id": "5c7b4dbd",
   "metadata": {},
   "outputs": [
    {
     "name": "stdout",
     "output_type": "stream",
     "text": [
      "486.5\n"
     ]
    },
    {
     "data": {
      "text/plain": [
       "46.916666666666664"
      ]
     },
     "execution_count": 45,
     "metadata": {},
     "output_type": "execute_result"
    }
   ],
   "source": [
    "print(0.5 * df4[\"Males\"].sum())\n",
    "40 + 10*((486.5 - 445) / (505 - 445))"
   ]
  },
  {
   "cell_type": "code",
   "execution_count": 47,
   "id": "685d8abc",
   "metadata": {},
   "outputs": [
    {
     "name": "stdout",
     "output_type": "stream",
     "text": [
      "729.75\n"
     ]
    },
    {
     "data": {
      "text/plain": [
       "67.3502994011976"
      ]
     },
     "execution_count": 47,
     "metadata": {},
     "output_type": "execute_result"
    }
   ],
   "source": [
    "print(0.75 * df4[\"Males\"].sum())\n",
    "60 + 10*((729.75 - 607) / (774 - 607))"
   ]
  },
  {
   "cell_type": "code",
   "execution_count": 50,
   "id": "89f1792e",
   "metadata": {},
   "outputs": [
    {
     "name": "stdout",
     "output_type": "stream",
     "text": [
      "152.0\n"
     ]
    },
    {
     "data": {
      "text/plain": [
       "8.541666666666668"
      ]
     },
     "execution_count": 50,
     "metadata": {},
     "output_type": "execute_result"
    }
   ],
   "source": [
    "print(0.25 * df4[\"Females\"].sum())\n",
    "5 + 5*((152 - 67) / (187 - 67))"
   ]
  },
  {
   "cell_type": "code",
   "execution_count": 52,
   "id": "345e0b5d",
   "metadata": {},
   "outputs": [
    {
     "name": "stdout",
     "output_type": "stream",
     "text": [
      "304.0\n"
     ]
    },
    {
     "data": {
      "text/plain": [
       "48.25"
      ]
     },
     "execution_count": 52,
     "metadata": {},
     "output_type": "execute_result"
    }
   ],
   "source": [
    "print(0.5 * df4[\"Females\"].sum())\n",
    "40 + 10*((304 - 271) / (311 - 271))"
   ]
  },
  {
   "cell_type": "code",
   "execution_count": 54,
   "id": "0fffaac9",
   "metadata": {},
   "outputs": [
    {
     "name": "stdout",
     "output_type": "stream",
     "text": [
      "456.0\n"
     ]
    },
    {
     "data": {
      "text/plain": [
       "66.63461538461539"
      ]
     },
     "execution_count": 54,
     "metadata": {},
     "output_type": "execute_result"
    }
   ],
   "source": [
    "print(0.75 * df4[\"Females\"].sum())\n",
    "60 + 10*((456 - 387) / (491 - 387))"
   ]
  },
  {
   "cell_type": "code",
   "execution_count": 55,
   "id": "bd02d21c",
   "metadata": {},
   "outputs": [],
   "source": [
    "s4 = pd.Series([9.2, 14.1, 9.8, 12.4, 16.0, 12.6, 22.7, 18.9, 21.0, 14.5, 20.4, 16.9])"
   ]
  },
  {
   "cell_type": "code",
   "execution_count": 56,
   "id": "3fcb02d7",
   "metadata": {},
   "outputs": [
    {
     "data": {
      "text/plain": [
       "15.708333333333334"
      ]
     },
     "execution_count": 56,
     "metadata": {},
     "output_type": "execute_result"
    }
   ],
   "source": [
    "s4.mean()"
   ]
  },
  {
   "cell_type": "code",
   "execution_count": 57,
   "id": "c813b77c",
   "metadata": {},
   "outputs": [
    {
     "data": {
      "text/plain": [
       "4.39534016334517"
      ]
     },
     "execution_count": 57,
     "metadata": {},
     "output_type": "execute_result"
    }
   ],
   "source": [
    "s4.std()"
   ]
  },
  {
   "cell_type": "code",
   "execution_count": 58,
   "id": "86cc9dc7",
   "metadata": {},
   "outputs": [
    {
     "data": {
      "text/plain": [
       "213"
      ]
     },
     "execution_count": 58,
     "metadata": {},
     "output_type": "execute_result"
    }
   ],
   "source": [
    "5*104 - (307)"
   ]
  },
  {
   "cell_type": "code",
   "execution_count": 59,
   "id": "e381a64b",
   "metadata": {},
   "outputs": [
    {
     "data": {
      "text/plain": [
       "22715"
      ]
     },
     "execution_count": 59,
     "metadata": {},
     "output_type": "execute_result"
    }
   ],
   "source": [
    "64 + 5*104*104 - 102*102 - 10000 - 105*105"
   ]
  },
  {
   "cell_type": "code",
   "execution_count": 63,
   "id": "16375466",
   "metadata": {},
   "outputs": [
    {
     "name": "stdout",
     "output_type": "stream",
     "text": [
      "[110.40512484 102.59487516]\n"
     ]
    }
   ],
   "source": [
    "coeffs1 = [2, -2*213, 213*213 -22715]\n",
    "r1 = np.roots(coeffs1)\n",
    "print(r1)"
   ]
  },
  {
   "cell_type": "code",
   "execution_count": 66,
   "id": "64741fd8",
   "metadata": {},
   "outputs": [
    {
     "name": "stdout",
     "output_type": "stream",
     "text": [
      "     0    1    2    3    4    5    6    7\n",
      "0  112  121  126  108  141  104  136  134\n",
      "1  121  118  143  116  108  122  127  140\n",
      "2  113  117  126  130  134  120  131  133\n",
      "3  118  125  151  147  137  140  132  119\n",
      "4  110  124  132  152  135  130  136  128\n"
     ]
    }
   ],
   "source": [
    "s5 = pd.read_csv('transistorLives.txt', header = None)\n",
    "print(s5)"
   ]
  },
  {
   "cell_type": "code",
   "execution_count": 76,
   "id": "04e7923f",
   "metadata": {},
   "outputs": [
    {
     "data": {
      "text/plain": [
       "count     40.000000\n",
       "mean     127.425000\n",
       "std       11.873019\n",
       "min      104.000000\n",
       "25%      118.750000\n",
       "50%      127.500000\n",
       "75%      135.250000\n",
       "max      152.000000\n",
       "dtype: float64"
      ]
     },
     "execution_count": 76,
     "metadata": {},
     "output_type": "execute_result"
    }
   ],
   "source": [
    "s6 = pd.Series(s5.values.flatten())\n",
    "s6.describe()"
   ]
  },
  {
   "cell_type": "code",
   "execution_count": 88,
   "id": "e37ffad7",
   "metadata": {},
   "outputs": [],
   "source": [
    "a = s6.value_counts(bins = range(100, 165, 5))"
   ]
  },
  {
   "cell_type": "code",
   "execution_count": 97,
   "id": "df9dd91c",
   "metadata": {},
   "outputs": [],
   "source": [
    "b = a.sort_index()"
   ]
  },
  {
   "cell_type": "code",
   "execution_count": 117,
   "id": "37830625",
   "metadata": {},
   "outputs": [
    {
     "name": "stdout",
     "output_type": "stream",
     "text": [
      "(100, 0.025) (105, 0.1) (110, 0.15) (115, 0.3) (120, 0.425) (125, 0.575) (130, 0.75) (135, 0.875) (140, 0.925) (145, 0.95) (150, 1.0) (155, 1.0)\n"
     ]
    }
   ],
   "source": [
    "c = list(set(zip(range(100, 165, 5), b.values.cumsum() / 40)))\n",
    "c.sort()\n",
    "print(*c)"
   ]
  },
  {
   "cell_type": "code",
   "execution_count": 120,
   "id": "ed1645ba",
   "metadata": {},
   "outputs": [
    {
     "name": "stdout",
     "output_type": "stream",
     "text": [
      "7\n"
     ]
    },
    {
     "data": {
      "text/plain": [
       "(99.999, 105.0]    1\n",
       "(105.0, 110.0]     3\n",
       "(110.0, 115.0]     2\n",
       "(115.0, 120.0]     6\n",
       "(120.0, 125.0]     5\n",
       "(125.0, 130.0]     6\n",
       "(130.0, 135.0]     7\n",
       "(135.0, 140.0]     5\n",
       "(140.0, 145.0]     2\n",
       "(145.0, 150.0]     1\n",
       "(150.0, 155.0]     2\n",
       "(155.0, 160.0]     0\n",
       "dtype: int64"
      ]
     },
     "execution_count": 120,
     "metadata": {},
     "output_type": "execute_result"
    }
   ],
   "source": [
    "modeVal = np.max(b.values)\n",
    "print(modeVal)\n",
    "b"
   ]
  },
  {
   "cell_type": "code",
   "execution_count": 122,
   "id": "deb43008",
   "metadata": {},
   "outputs": [
    {
     "ename": "SyntaxError",
     "evalue": "invalid syntax (<ipython-input-122-0c0d79a355aa>, line 1)",
     "output_type": "error",
     "traceback": [
      "\u001b[1;36m  File \u001b[1;32m\"<ipython-input-122-0c0d79a355aa>\"\u001b[1;36m, line \u001b[1;32m1\u001b[0m\n\u001b[1;33m    s6 = pd.Series([18.2 21.2 23.1 18.5 15.6\u001b[0m\n\u001b[1;37m                         ^\u001b[0m\n\u001b[1;31mSyntaxError\u001b[0m\u001b[1;31m:\u001b[0m invalid syntax\n"
     ]
    }
   ],
   "source": [
    "s6 = pd.Series("
   ]
  },
  {
   "cell_type": "code",
   "execution_count": 168,
   "id": "ffff0c9f",
   "metadata": {},
   "outputs": [
    {
     "name": "stdout",
     "output_type": "stream",
     "text": [
      "18.977999999999998 19.3\n",
      "6.252771428571429\n"
     ]
    },
    {
     "data": {
      "text/plain": [
       "count    50.000000\n",
       "mean     18.978000\n",
       "std       2.500554\n",
       "min      13.400000\n",
       "25%      17.525000\n",
       "50%      19.300000\n",
       "75%      20.575000\n",
       "max      24.000000\n",
       "dtype: float64"
      ]
     },
     "execution_count": 168,
     "metadata": {},
     "output_type": "execute_result"
    }
   ],
   "source": [
    "s7 = pd.read_csv('Shrinkage.txt', header = None, sep = ' ')\n",
    "s8 = pd.Series(s7.values.flatten())\n",
    "print(s8.mean(), s8.median())\n",
    "print(s8.std() ** 2)\n",
    "int(17.45)\n",
    "s8.describe()"
   ]
  },
  {
   "cell_type": "code",
   "execution_count": 189,
   "id": "2c70d8d7",
   "metadata": {},
   "outputs": [],
   "source": [
    "h7 = s8.value_counts(bins = range(13, 25))\n",
    "h8 = h7.sort_index()\n",
    "df9 = pd.DataFrame(h8, columns = [\"Frequency\"])"
   ]
  },
  {
   "cell_type": "code",
   "execution_count": 181,
   "id": "cfda8973",
   "metadata": {},
   "outputs": [
    {
     "name": "stdout",
     "output_type": "stream",
     "text": [
      "(13, 2) (14, 2) (15, 3) (16, 4) (17, 6) (18, 7) (19, 6) (20, 10) (21, 5) (22, 1) (23, 4)\n"
     ]
    }
   ],
   "source": [
    "print(*list(zip(range(13, 25), h8.values)))"
   ]
  },
  {
   "cell_type": "code",
   "execution_count": 198,
   "id": "8bba3104",
   "metadata": {},
   "outputs": [
    {
     "name": "stdout",
     "output_type": "stream",
     "text": [
      "\\begin{table}[H]\n",
      "\\centering\n",
      "\\begin{tabular}{rr}\n",
      "\\toprule\n",
      " Midpoints &  Frequency \\\\\n",
      "\\midrule\n",
      "      13.5 &          2 \\\\\n",
      "      14.5 &          2 \\\\\n",
      "      15.5 &          3 \\\\\n",
      "      16.5 &          4 \\\\\n",
      "      17.5 &          6 \\\\\n",
      "      18.5 &          7 \\\\\n",
      "      19.5 &          6 \\\\\n",
      "      20.5 &         10 \\\\\n",
      "      21.5 &          5 \\\\\n",
      "      22.5 &          1 \\\\\n",
      "      23.5 &          4 \\\\\n",
      "\\bottomrule\n",
      "\\end{tabular}\n",
      "\\end{table}\n",
      "\n"
     ]
    }
   ],
   "source": [
    "df9[\"Midpoints\"] = np.arange(13.5, 24, 1.0).tolist()\n",
    "print(df9.to_latex(index = False, position = 'H', columns = [\"Midpoints\", \"Frequency\"]))"
   ]
  },
  {
   "cell_type": "code",
   "execution_count": 200,
   "id": "b3417717",
   "metadata": {},
   "outputs": [
    {
     "name": "stdout",
     "output_type": "stream",
     "text": [
      "18.979999999999997\n"
     ]
    }
   ],
   "source": [
    "meanVal9 = (df9[\"Midpoints\"] * df9[\"Frequency\"]) / (df9[\"Frequency\"].sum())\n",
    "print(meanVal9.sum())"
   ]
  },
  {
   "cell_type": "code",
   "execution_count": 202,
   "id": "e04b1820",
   "metadata": {},
   "outputs": [
    {
     "data": {
      "text/plain": [
       "(12.999, 14.0]     2\n",
       "(14.0, 15.0]       4\n",
       "(15.0, 16.0]       7\n",
       "(16.0, 17.0]      11\n",
       "(17.0, 18.0]      17\n",
       "(18.0, 19.0]      24\n",
       "(19.0, 20.0]      30\n",
       "(20.0, 21.0]      40\n",
       "(21.0, 22.0]      45\n",
       "(22.0, 23.0]      46\n",
       "(23.0, 24.0]      50\n",
       "Name: Frequency, dtype: int64"
      ]
     },
     "execution_count": 202,
     "metadata": {},
     "output_type": "execute_result"
    }
   ],
   "source": [
    "df9[\"Frequency\"].cumsum()"
   ]
  },
  {
   "cell_type": "code",
   "execution_count": 203,
   "id": "53473a86",
   "metadata": {},
   "outputs": [
    {
     "data": {
      "text/plain": [
       "19.833333333333332"
      ]
     },
     "execution_count": 203,
     "metadata": {},
     "output_type": "execute_result"
    }
   ],
   "source": [
    "19 + 5/6"
   ]
  },
  {
   "cell_type": "code",
   "execution_count": 205,
   "id": "f0458212",
   "metadata": {},
   "outputs": [
    {
     "data": {
      "text/html": [
       "<div>\n",
       "<style scoped>\n",
       "    .dataframe tbody tr th:only-of-type {\n",
       "        vertical-align: middle;\n",
       "    }\n",
       "\n",
       "    .dataframe tbody tr th {\n",
       "        vertical-align: top;\n",
       "    }\n",
       "\n",
       "    .dataframe thead th {\n",
       "        text-align: right;\n",
       "    }\n",
       "</style>\n",
       "<table border=\"1\" class=\"dataframe\">\n",
       "  <thead>\n",
       "    <tr style=\"text-align: right;\">\n",
       "      <th></th>\n",
       "      <th>Frequency</th>\n",
       "      <th>Midpoints</th>\n",
       "      <th>StdDev</th>\n",
       "    </tr>\n",
       "  </thead>\n",
       "  <tbody>\n",
       "    <tr>\n",
       "      <th>(12.999, 14.0]</th>\n",
       "      <td>2</td>\n",
       "      <td>13.5</td>\n",
       "      <td>60.0608</td>\n",
       "    </tr>\n",
       "    <tr>\n",
       "      <th>(14.0, 15.0]</th>\n",
       "      <td>2</td>\n",
       "      <td>14.5</td>\n",
       "      <td>40.1408</td>\n",
       "    </tr>\n",
       "    <tr>\n",
       "      <th>(15.0, 16.0]</th>\n",
       "      <td>3</td>\n",
       "      <td>15.5</td>\n",
       "      <td>36.3312</td>\n",
       "    </tr>\n",
       "    <tr>\n",
       "      <th>(16.0, 17.0]</th>\n",
       "      <td>4</td>\n",
       "      <td>16.5</td>\n",
       "      <td>24.6016</td>\n",
       "    </tr>\n",
       "    <tr>\n",
       "      <th>(17.0, 18.0]</th>\n",
       "      <td>6</td>\n",
       "      <td>17.5</td>\n",
       "      <td>13.1424</td>\n",
       "    </tr>\n",
       "    <tr>\n",
       "      <th>(18.0, 19.0]</th>\n",
       "      <td>7</td>\n",
       "      <td>18.5</td>\n",
       "      <td>1.6128</td>\n",
       "    </tr>\n",
       "    <tr>\n",
       "      <th>(19.0, 20.0]</th>\n",
       "      <td>6</td>\n",
       "      <td>19.5</td>\n",
       "      <td>1.6224</td>\n",
       "    </tr>\n",
       "    <tr>\n",
       "      <th>(20.0, 21.0]</th>\n",
       "      <td>10</td>\n",
       "      <td>20.5</td>\n",
       "      <td>23.1040</td>\n",
       "    </tr>\n",
       "    <tr>\n",
       "      <th>(21.0, 22.0]</th>\n",
       "      <td>5</td>\n",
       "      <td>21.5</td>\n",
       "      <td>31.7520</td>\n",
       "    </tr>\n",
       "    <tr>\n",
       "      <th>(22.0, 23.0]</th>\n",
       "      <td>1</td>\n",
       "      <td>22.5</td>\n",
       "      <td>12.3904</td>\n",
       "    </tr>\n",
       "    <tr>\n",
       "      <th>(23.0, 24.0]</th>\n",
       "      <td>4</td>\n",
       "      <td>23.5</td>\n",
       "      <td>81.7216</td>\n",
       "    </tr>\n",
       "  </tbody>\n",
       "</table>\n",
       "</div>"
      ],
      "text/plain": [
       "                Frequency  Midpoints   StdDev\n",
       "(12.999, 14.0]          2       13.5  60.0608\n",
       "(14.0, 15.0]            2       14.5  40.1408\n",
       "(15.0, 16.0]            3       15.5  36.3312\n",
       "(16.0, 17.0]            4       16.5  24.6016\n",
       "(17.0, 18.0]            6       17.5  13.1424\n",
       "(18.0, 19.0]            7       18.5   1.6128\n",
       "(19.0, 20.0]            6       19.5   1.6224\n",
       "(20.0, 21.0]           10       20.5  23.1040\n",
       "(21.0, 22.0]            5       21.5  31.7520\n",
       "(22.0, 23.0]            1       22.5  12.3904\n",
       "(23.0, 24.0]            4       23.5  81.7216"
      ]
     },
     "execution_count": 205,
     "metadata": {},
     "output_type": "execute_result"
    }
   ],
   "source": [
    "df9[\"StdDev\"] = df9[\"Frequency\"] * (df9[\"Midpoints\"] - 18.98) * (df9[\"Midpoints\"] - 18.98)\n",
    "df9"
   ]
  },
  {
   "cell_type": "code",
   "execution_count": 206,
   "id": "b7f9c65e",
   "metadata": {},
   "outputs": [
    {
     "data": {
      "text/plain": [
       "6.5296"
      ]
     },
     "execution_count": 206,
     "metadata": {},
     "output_type": "execute_result"
    }
   ],
   "source": [
    "df9[\"StdDev\"].sum() / 50"
   ]
  },
  {
   "cell_type": "code",
   "execution_count": 2,
   "id": "fdaf8a54",
   "metadata": {},
   "outputs": [],
   "source": [
    "df10 = pd.Series([3, 4, 7, 2, 9, 6])"
   ]
  },
  {
   "cell_type": "code",
   "execution_count": 4,
   "id": "8f3aa49d-ca17-4336-97bb-5b5595e0d3aa",
   "metadata": {},
   "outputs": [
    {
     "data": {
      "text/plain": [
       "5.166666666666667"
      ]
     },
     "execution_count": 4,
     "metadata": {},
     "output_type": "execute_result"
    }
   ],
   "source": [
    "df10.mean()"
   ]
  },
  {
   "cell_type": "code",
   "execution_count": 8,
   "id": "e48f91b2-01fa-484b-b000-102aa2259ab3",
   "metadata": {},
   "outputs": [
    {
     "data": {
      "text/plain": [
       "6.966666666666667"
      ]
     },
     "execution_count": 8,
     "metadata": {},
     "output_type": "execute_result"
    }
   ],
   "source": [
    "df10.std() ** 2"
   ]
  },
  {
   "cell_type": "code",
   "execution_count": 40,
   "id": "fa6e2fa5-efdc-4515-b027-ed6ffced40af",
   "metadata": {},
   "outputs": [
    {
     "name": "stdout",
     "output_type": "stream",
     "text": [
      "Mean recursive = 5.166666666666667 and Variance recursive = 6.966666666666668\n"
     ]
    }
   ],
   "source": [
    "meanRec = df10.values[0]\n",
    "stdRec = 0\n",
    "for idx, val in enumerate(df10.values[1:]):\n",
    "    updateVal = (val - meanRec)/(2 + idx)\n",
    "    meanRec = meanRec + updateVal\n",
    "    stdRec = ((1 - (1/(1 + idx))) * stdRec) + (2 + idx) * updateVal * updateVal\n",
    "\n",
    "print(f\"Mean recursive = {meanRec} and Variance recursive = {stdRec}\")"
   ]
  },
  {
   "cell_type": "code",
   "execution_count": 27,
   "id": "8c3d87eb-af71-49cc-9e77-d315c6610a3b",
   "metadata": {},
   "outputs": [
    {
     "data": {
      "text/plain": [
       "4.1617999999999995"
      ]
     },
     "execution_count": 27,
     "metadata": {},
     "output_type": "execute_result"
    }
   ],
   "source": [
    "3 * 1.16*1.16 + (0.5  * 0.5 * 0.5)"
   ]
  },
  {
   "cell_type": "code",
   "execution_count": 75,
   "id": "d027291a-9b1f-450b-846d-2180923de5b5",
   "metadata": {},
   "outputs": [
    {
     "data": {
      "text/plain": [
       "45.99999999999999"
      ]
     },
     "execution_count": 75,
     "metadata": {},
     "output_type": "execute_result"
    }
   ],
   "source": [
    "df11 = pd.read_csv('WeatherMonthly.txt', sep = ' ', engine = 'python', header = None, names = ['January',\n",
    " 'February',\n",
    " 'March',\n",
    " 'April',\n",
    " 'May',\n",
    " 'June',\n",
    " 'July',\n",
    " 'August',\n",
    " 'September',\n",
    " 'October',\n",
    " 'November',\n",
    " 'December',\n",
    " 'AnnualAvg'])\n",
    "df11 = df11.apply(pd.to_numeric, errors='coerce')"
   ]
  },
  {
   "cell_type": "code",
   "execution_count": 76,
   "id": "c34b66fa-7eb8-41b5-98fa-0869976b13d1",
   "metadata": {},
   "outputs": [
    {
     "data": {
      "text/plain": [
       "45.99999999999999"
      ]
     },
     "execution_count": 76,
     "metadata": {},
     "output_type": "execute_result"
    }
   ],
   "source": [
    "df11[\"January\"].quantile(0.9, interpolation = 'linear')"
   ]
  },
  {
   "cell_type": "code",
   "execution_count": 77,
   "id": "72f4ab37-a00f-4adc-aa85-a8df5483a4dd",
   "metadata": {},
   "outputs": [
    {
     "data": {
      "text/plain": [
       "70.45"
      ]
     },
     "execution_count": 77,
     "metadata": {},
     "output_type": "execute_result"
    }
   ],
   "source": [
    "df11[\"July\"].quantile(0.75, interpolation = 'linear')"
   ]
  },
  {
   "cell_type": "code",
   "execution_count": 93,
   "id": "26742a2d-a167-4a7f-bbfa-6cf87ec53c03",
   "metadata": {},
   "outputs": [
    {
     "data": {
      "text/html": [
       "<div>\n",
       "<style scoped>\n",
       "    .dataframe tbody tr th:only-of-type {\n",
       "        vertical-align: middle;\n",
       "    }\n",
       "\n",
       "    .dataframe tbody tr th {\n",
       "        vertical-align: top;\n",
       "    }\n",
       "\n",
       "    .dataframe thead th {\n",
       "        text-align: right;\n",
       "    }\n",
       "</style>\n",
       "<table border=\"1\" class=\"dataframe\">\n",
       "  <thead>\n",
       "    <tr style=\"text-align: right;\">\n",
       "      <th></th>\n",
       "      <th>0</th>\n",
       "    </tr>\n",
       "  </thead>\n",
       "  <tbody>\n",
       "    <tr>\n",
       "      <th>count</th>\n",
       "      <td>39.000000</td>\n",
       "    </tr>\n",
       "    <tr>\n",
       "      <th>mean</th>\n",
       "      <td>82.282051</td>\n",
       "    </tr>\n",
       "    <tr>\n",
       "      <th>std</th>\n",
       "      <td>10.755534</td>\n",
       "    </tr>\n",
       "    <tr>\n",
       "      <th>min</th>\n",
       "      <td>60.000000</td>\n",
       "    </tr>\n",
       "    <tr>\n",
       "      <th>25%</th>\n",
       "      <td>74.000000</td>\n",
       "    </tr>\n",
       "    <tr>\n",
       "      <th>50%</th>\n",
       "      <td>85.000000</td>\n",
       "    </tr>\n",
       "    <tr>\n",
       "      <th>75%</th>\n",
       "      <td>91.500000</td>\n",
       "    </tr>\n",
       "    <tr>\n",
       "      <th>max</th>\n",
       "      <td>98.000000</td>\n",
       "    </tr>\n",
       "  </tbody>\n",
       "</table>\n",
       "</div>"
      ],
      "text/plain": [
       "               0\n",
       "count  39.000000\n",
       "mean   82.282051\n",
       "std    10.755534\n",
       "min    60.000000\n",
       "25%    74.000000\n",
       "50%    85.000000\n",
       "75%    91.500000\n",
       "max    98.000000"
      ]
     },
     "execution_count": 93,
     "metadata": {},
     "output_type": "execute_result"
    }
   ],
   "source": [
    "s12 = pd.read_csv('DeathAges.txt', sep = ',', header = None).T\n",
    "s12.describe()"
   ]
  },
  {
   "cell_type": "code",
   "execution_count": 89,
   "id": "7c27a31e-7b4e-4b3f-8cb9-db2d81a32c37",
   "metadata": {},
   "outputs": [
    {
     "ename": "TypeError",
     "evalue": "describe() got an unexpected keyword argument 'axis'",
     "output_type": "error",
     "traceback": [
      "\u001b[1;31m---------------------------------------------------------------------------\u001b[0m",
      "\u001b[1;31mTypeError\u001b[0m                                 Traceback (most recent call last)",
      "\u001b[1;32m<ipython-input-89-a0cc9dc591b8>\u001b[0m in \u001b[0;36m<module>\u001b[1;34m\u001b[0m\n\u001b[1;32m----> 1\u001b[1;33m \u001b[0ms12\u001b[0m\u001b[1;33m.\u001b[0m\u001b[0mdescribe\u001b[0m\u001b[1;33m(\u001b[0m\u001b[0maxis\u001b[0m \u001b[1;33m=\u001b[0m \u001b[1;36m0\u001b[0m\u001b[1;33m)\u001b[0m\u001b[1;33m\u001b[0m\u001b[1;33m\u001b[0m\u001b[0m\n\u001b[0m",
      "\u001b[1;31mTypeError\u001b[0m: describe() got an unexpected keyword argument 'axis'"
     ]
    }
   ],
   "source": [
    "s12.describe(axis = 0)"
   ]
  },
  {
   "cell_type": "code",
   "execution_count": 94,
   "id": "6548f60a-4a2c-49d1-b0c6-0d66f498931d",
   "metadata": {},
   "outputs": [
    {
     "data": {
      "text/plain": [
       "count     12.000000\n",
       "mean      84.916667\n",
       "std       30.473411\n",
       "min       33.000000\n",
       "25%       60.250000\n",
       "50%       95.500000\n",
       "75%      113.250000\n",
       "max      114.000000\n",
       "dtype: float64"
      ]
     },
     "execution_count": 94,
     "metadata": {},
     "output_type": "execute_result"
    }
   ],
   "source": [
    "s13 = pd.Series([114, 114, 114, 113, 111, 97, 94, 66, 63, 52, 48, 33])\n",
    "s13.describe()"
   ]
  },
  {
   "cell_type": "code",
   "execution_count": 95,
   "id": "8fc5ff84-0ad9-42e5-85ec-7b9c119bd19f",
   "metadata": {},
   "outputs": [
    {
     "data": {
      "text/plain": [
       "928.628787878788"
      ]
     },
     "execution_count": 95,
     "metadata": {},
     "output_type": "execute_result"
    }
   ],
   "source": [
    "s13.std() ** 2"
   ]
  },
  {
   "cell_type": "code",
   "execution_count": 127,
   "id": "09b643de-a029-4853-8b40-a6d2b7933d09",
   "metadata": {},
   "outputs": [],
   "source": [
    "s12 = pd.read_csv('particulates.txt', sep = ',', header = None).T\n",
    "s12.columns = [\"Concentrations\"]"
   ]
  },
  {
   "cell_type": "code",
   "execution_count": 147,
   "id": "e5b712a6-ce4a-48e8-9736-3948f64d0750",
   "metadata": {},
   "outputs": [],
   "source": []
  },
  {
   "cell_type": "code",
   "execution_count": 173,
   "id": "9bca4f79-5c7a-479d-8c8d-8863d0a13330",
   "metadata": {},
   "outputs": [
    {
     "data": {
      "text/plain": [
       "(-0.001, 20.0]    10\n",
       "(20.0, 40.0]       9\n",
       "(40.0, 60.0]       3\n",
       "(60.0, 80.0]       5\n",
       "(80.0, 100.0]      5\n",
       "(100.0, 120.0]     2\n",
       "(120.0, 140.0]     1\n",
       "(140.0, 160.0]     0\n",
       "(160.0, 180.0]     0\n",
       "(180.0, 200.0]     0\n",
       "(200.0, 220.0]     1\n",
       "(220.0, 240.0]     0\n",
       "(240.0, 260.0]     0\n",
       "(260.0, 280.0]     0\n",
       "Name: Concentrations, dtype: int64"
      ]
     },
     "execution_count": 173,
     "metadata": {},
     "output_type": "execute_result"
    }
   ],
   "source": [
    "s13 = s12[\"Concentrations\"].value_counts(bins = np.arange(0, 300, 20))\n",
    "s14 = s13.sort_index()\n",
    "s14"
   ]
  },
  {
   "cell_type": "code",
   "execution_count": 174,
   "id": "cde283d0-a4c2-4ad9-b3cc-40918bb4d8bc",
   "metadata": {},
   "outputs": [
    {
     "name": "stdout",
     "output_type": "stream",
     "text": [
      "(0, 10) (20, 9) (40, 3) (60, 5) (80, 5) (100, 2) (120, 1) (140, 0) (160, 0) (180, 0) (200, 1) (220, 0) (240, 0) (260, 0)\n"
     ]
    }
   ],
   "source": [
    "c1 = list(set(zip(np.arange(0, 300, 20), s14.values)))\n",
    "c1.sort()\n",
    "print(*c1)"
   ]
  },
  {
   "cell_type": "code",
   "execution_count": 165,
   "id": "53378fd6-734b-45b6-9fa1-a1f072eca10d",
   "metadata": {
    "tags": []
   },
   "outputs": [
    {
     "data": {
      "text/html": [
       "<div>\n",
       "<style scoped>\n",
       "    .dataframe tbody tr th:only-of-type {\n",
       "        vertical-align: middle;\n",
       "    }\n",
       "\n",
       "    .dataframe tbody tr th {\n",
       "        vertical-align: top;\n",
       "    }\n",
       "\n",
       "    .dataframe thead th {\n",
       "        text-align: right;\n",
       "    }\n",
       "</style>\n",
       "<table border=\"1\" class=\"dataframe\">\n",
       "  <thead>\n",
       "    <tr style=\"text-align: right;\">\n",
       "      <th></th>\n",
       "      <th>Concentrations</th>\n",
       "    </tr>\n",
       "  </thead>\n",
       "  <tbody>\n",
       "    <tr>\n",
       "      <th>count</th>\n",
       "      <td>36.000000</td>\n",
       "    </tr>\n",
       "    <tr>\n",
       "      <th>mean</th>\n",
       "      <td>51.722222</td>\n",
       "    </tr>\n",
       "    <tr>\n",
       "      <th>std</th>\n",
       "      <td>44.960688</td>\n",
       "    </tr>\n",
       "    <tr>\n",
       "      <th>min</th>\n",
       "      <td>5.000000</td>\n",
       "    </tr>\n",
       "    <tr>\n",
       "      <th>25%</th>\n",
       "      <td>17.750000</td>\n",
       "    </tr>\n",
       "    <tr>\n",
       "      <th>50%</th>\n",
       "      <td>35.000000</td>\n",
       "    </tr>\n",
       "    <tr>\n",
       "      <th>75%</th>\n",
       "      <td>80.250000</td>\n",
       "    </tr>\n",
       "    <tr>\n",
       "      <th>max</th>\n",
       "      <td>220.000000</td>\n",
       "    </tr>\n",
       "  </tbody>\n",
       "</table>\n",
       "</div>"
      ],
      "text/plain": [
       "       Concentrations\n",
       "count       36.000000\n",
       "mean        51.722222\n",
       "std         44.960688\n",
       "min          5.000000\n",
       "25%         17.750000\n",
       "50%         35.000000\n",
       "75%         80.250000\n",
       "max        220.000000"
      ]
     },
     "execution_count": 165,
     "metadata": {},
     "output_type": "execute_result"
    }
   ],
   "source": [
    "s12.describe()"
   ]
  },
  {
   "cell_type": "code",
   "execution_count": 180,
   "id": "01738936-6bea-43d0-930b-c2c7bfc92c67",
   "metadata": {},
   "outputs": [
    {
     "name": "stdout",
     "output_type": "stream",
     "text": [
      "[array([  0,  40,  80, 120, 160, 200, 240])]\n"
     ]
    }
   ],
   "source": [
    "a = [np.arange(0, 260, 40)]\n",
    "print(a)"
   ]
  },
  {
   "cell_type": "code",
   "execution_count": 226,
   "id": "c728d039-a69a-45a1-9497-97e07dcb9a37",
   "metadata": {},
   "outputs": [],
   "source": [
    "file1 = open('waterEvap.txt', 'r')\n",
    "Lines1 = file1.readlines()\n",
    "\n",
    "allnum = []\n",
    "for idx, ln in enumerate(Lines1):\n",
    "    currentNum = re.split(', |\\n', ln)\n",
    "    \n",
    "    for j in currentNum:\n",
    "        if j != '':\n",
    "            allnum.append(idx * 0.1 + 0.01 * int(j))"
   ]
  },
  {
   "cell_type": "code",
   "execution_count": 231,
   "id": "0ef77a37-6133-47cb-90b1-ad061a5adec7",
   "metadata": {},
   "outputs": [
    {
     "data": {
      "text/plain": [
       "0.3476363636363635"
      ]
     },
     "execution_count": 231,
     "metadata": {},
     "output_type": "execute_result"
    }
   ],
   "source": [
    "n1 = np.array(allnum)\n",
    "n1.round(decimals = 2)\n",
    "s14 = pd.Series(n1)\n",
    "s14.mean()"
   ]
  },
  {
   "cell_type": "code",
   "execution_count": 232,
   "id": "e9775152-41da-4049-ae1e-47da2b2f1820",
   "metadata": {},
   "outputs": [
    {
     "data": {
      "text/plain": [
       "count    55.000000\n",
       "mean      0.347636\n",
       "std       0.117630\n",
       "min       0.020000\n",
       "25%       0.275000\n",
       "50%       0.350000\n",
       "75%       0.440000\n",
       "max       0.560000\n",
       "dtype: float64"
      ]
     },
     "execution_count": 232,
     "metadata": {},
     "output_type": "execute_result"
    }
   ],
   "source": [
    "s14.describe()"
   ]
  },
  {
   "cell_type": "code",
   "execution_count": 247,
   "id": "5e934001-6dd5-4726-bf03-85fcc9b7d470",
   "metadata": {},
   "outputs": [
    {
     "data": {
      "text/plain": [
       "(-0.001, 0.1]     2\n",
       "(0.1, 0.2]        2\n",
       "(0.2, 0.3]       13\n",
       "(0.3, 0.4]       18\n",
       "(0.4, 0.5]       17\n",
       "(0.5, 0.6]        3\n",
       "dtype: int64"
      ]
     },
     "execution_count": 247,
     "metadata": {},
     "output_type": "execute_result"
    }
   ],
   "source": [
    "s15 = s14.value_counts(bins = np.arange(0, 0.70, 0.1))\n",
    "s16 = s15.sort_index()\n",
    "s16"
   ]
  },
  {
   "cell_type": "code",
   "execution_count": 257,
   "id": "44960a25-44e0-40ba-bd7a-271f61583df4",
   "metadata": {},
   "outputs": [
    {
     "data": {
      "text/plain": [
       "<AxesSubplot:>"
      ]
     },
     "execution_count": 257,
     "metadata": {},
     "output_type": "execute_result"
    },
    {
     "data": {
      "image/png": "[encoded data removed]",
      "text/plain": [
       "<Figure size 432x288 with 1 Axes>"
      ]
     },
     "metadata": {
      "needs_background": "light"
     },
     "output_type": "display_data"
    }
   ],
   "source": [
    "s14.hist(bins = np.arange(0, 0.70, 0.1))"
   ]
  },
  {
   "cell_type": "code",
   "execution_count": 262,
   "id": "def356f3-6923-44a7-8b0f-4fcb3b76a6c0",
   "metadata": {},
   "outputs": [
    {
     "name": "stdout",
     "output_type": "stream",
     "text": [
      "(0.0, 2) (0.1, 2) (0.2, 13) (0.30000000000000004, 18) (0.4, 17) (0.5, 3)\n"
     ]
    }
   ],
   "source": [
    "c1 = list(set(zip(np.arange(0, 0.6, 0.1), s16.values)))\n",
    "c1.sort()\n",
    "print(*c1)"
   ]
  },
  {
   "cell_type": "code",
   "execution_count": 296,
   "id": "de506056-ec73-4897-b289-f8a24a234b05",
   "metadata": {},
   "outputs": [
    {
     "data": {
      "text/plain": [
       "9     0.24\n",
       "10    0.25\n",
       "11    0.25\n",
       "12    0.25\n",
       "13    0.26\n",
       "14    0.29\n",
       "15    0.30\n",
       "16    0.30\n",
       "17    0.32\n",
       "18    0.32\n",
       "19    0.32\n",
       "20    0.33\n",
       "21    0.33\n",
       "22    0.33\n",
       "23    0.33\n",
       "24    0.34\n",
       "25    0.34\n",
       "26    0.35\n",
       "27    0.35\n",
       "28    0.35\n",
       "29    0.36\n",
       "30    0.36\n",
       "31    0.37\n",
       "32    0.38\n",
       "33    0.39\n",
       "34    0.40\n",
       "35    0.41\n",
       "36    0.42\n",
       "37    0.42\n",
       "38    0.42\n",
       "39    0.43\n",
       "40    0.44\n",
       "41    0.44\n",
       "42    0.44\n",
       "43    0.45\n",
       "44    0.45\n",
       "45    0.45\n",
       "dtype: float64"
      ]
     },
     "execution_count": 296,
     "metadata": {},
     "output_type": "execute_result"
    }
   ],
   "source": [
    "s14[(s14 < s14.mean() + s14.std()) & (s14 > s14.mean() - s14.std())]"
   ]
  },
  {
   "cell_type": "code",
   "execution_count": 268,
   "id": "008c013d-4a06-4edb-a09e-8b0f5eca5f4f",
   "metadata": {},
   "outputs": [
    {
     "data": {
      "text/plain": [
       "9"
      ]
     },
     "execution_count": 268,
     "metadata": {},
     "output_type": "execute_result"
    }
   ],
   "source": [
    "len(s14[s14 < s14.mean() - s14.std()])"
   ]
  },
  {
   "cell_type": "code",
   "execution_count": 282,
   "id": "d4b72fdf-1a66-48a2-bc4f-a77339ae9b0e",
   "metadata": {},
   "outputs": [
    {
     "data": {
      "text/plain": [
       "0.6727272727272727"
      ]
     },
     "execution_count": 282,
     "metadata": {},
     "output_type": "execute_result"
    }
   ],
   "source": [
    "37/55"
   ]
  },
  {
   "cell_type": "code",
   "execution_count": 301,
   "id": "8f048a03-60e0-4caa-8c26-c6f5e8787190",
   "metadata": {},
   "outputs": [
    {
     "data": {
      "text/html": [
       "<div>\n",
       "<style scoped>\n",
       "    .dataframe tbody tr th:only-of-type {\n",
       "        vertical-align: middle;\n",
       "    }\n",
       "\n",
       "    .dataframe tbody tr th {\n",
       "        vertical-align: top;\n",
       "    }\n",
       "\n",
       "    .dataframe thead th {\n",
       "        text-align: right;\n",
       "    }\n",
       "</style>\n",
       "<table border=\"1\" class=\"dataframe\">\n",
       "  <thead>\n",
       "    <tr style=\"text-align: right;\">\n",
       "      <th></th>\n",
       "      <th>GPAS</th>\n",
       "    </tr>\n",
       "  </thead>\n",
       "  <tbody>\n",
       "    <tr>\n",
       "      <th>0</th>\n",
       "      <td>3.46</td>\n",
       "    </tr>\n",
       "    <tr>\n",
       "      <th>1</th>\n",
       "      <td>3.72</td>\n",
       "    </tr>\n",
       "    <tr>\n",
       "      <th>2</th>\n",
       "      <td>3.95</td>\n",
       "    </tr>\n",
       "    <tr>\n",
       "      <th>3</th>\n",
       "      <td>3.55</td>\n",
       "    </tr>\n",
       "    <tr>\n",
       "      <th>4</th>\n",
       "      <td>3.62</td>\n",
       "    </tr>\n",
       "    <tr>\n",
       "      <th>5</th>\n",
       "      <td>3.80</td>\n",
       "    </tr>\n",
       "    <tr>\n",
       "      <th>6</th>\n",
       "      <td>3.86</td>\n",
       "    </tr>\n",
       "    <tr>\n",
       "      <th>7</th>\n",
       "      <td>3.71</td>\n",
       "    </tr>\n",
       "    <tr>\n",
       "      <th>8</th>\n",
       "      <td>3.56</td>\n",
       "    </tr>\n",
       "    <tr>\n",
       "      <th>9</th>\n",
       "      <td>3.49</td>\n",
       "    </tr>\n",
       "    <tr>\n",
       "      <th>10</th>\n",
       "      <td>3.96</td>\n",
       "    </tr>\n",
       "    <tr>\n",
       "      <th>11</th>\n",
       "      <td>3.90</td>\n",
       "    </tr>\n",
       "    <tr>\n",
       "      <th>12</th>\n",
       "      <td>3.70</td>\n",
       "    </tr>\n",
       "    <tr>\n",
       "      <th>13</th>\n",
       "      <td>3.61</td>\n",
       "    </tr>\n",
       "    <tr>\n",
       "      <th>14</th>\n",
       "      <td>3.72</td>\n",
       "    </tr>\n",
       "    <tr>\n",
       "      <th>15</th>\n",
       "      <td>3.65</td>\n",
       "    </tr>\n",
       "    <tr>\n",
       "      <th>16</th>\n",
       "      <td>3.48</td>\n",
       "    </tr>\n",
       "    <tr>\n",
       "      <th>17</th>\n",
       "      <td>3.87</td>\n",
       "    </tr>\n",
       "    <tr>\n",
       "      <th>18</th>\n",
       "      <td>3.82</td>\n",
       "    </tr>\n",
       "    <tr>\n",
       "      <th>19</th>\n",
       "      <td>3.91</td>\n",
       "    </tr>\n",
       "    <tr>\n",
       "      <th>20</th>\n",
       "      <td>3.69</td>\n",
       "    </tr>\n",
       "    <tr>\n",
       "      <th>21</th>\n",
       "      <td>3.67</td>\n",
       "    </tr>\n",
       "    <tr>\n",
       "      <th>22</th>\n",
       "      <td>3.72</td>\n",
       "    </tr>\n",
       "    <tr>\n",
       "      <th>23</th>\n",
       "      <td>3.66</td>\n",
       "    </tr>\n",
       "    <tr>\n",
       "      <th>24</th>\n",
       "      <td>3.79</td>\n",
       "    </tr>\n",
       "    <tr>\n",
       "      <th>25</th>\n",
       "      <td>3.75</td>\n",
       "    </tr>\n",
       "    <tr>\n",
       "      <th>26</th>\n",
       "      <td>3.93</td>\n",
       "    </tr>\n",
       "    <tr>\n",
       "      <th>27</th>\n",
       "      <td>3.74</td>\n",
       "    </tr>\n",
       "    <tr>\n",
       "      <th>28</th>\n",
       "      <td>3.50</td>\n",
       "    </tr>\n",
       "    <tr>\n",
       "      <th>29</th>\n",
       "      <td>3.83</td>\n",
       "    </tr>\n",
       "  </tbody>\n",
       "</table>\n",
       "</div>"
      ],
      "text/plain": [
       "    GPAS\n",
       "0   3.46\n",
       "1   3.72\n",
       "2   3.95\n",
       "3   3.55\n",
       "4   3.62\n",
       "5   3.80\n",
       "6   3.86\n",
       "7   3.71\n",
       "8   3.56\n",
       "9   3.49\n",
       "10  3.96\n",
       "11  3.90\n",
       "12  3.70\n",
       "13  3.61\n",
       "14  3.72\n",
       "15  3.65\n",
       "16  3.48\n",
       "17  3.87\n",
       "18  3.82\n",
       "19  3.91\n",
       "20  3.69\n",
       "21  3.67\n",
       "22  3.72\n",
       "23  3.66\n",
       "24  3.79\n",
       "25  3.75\n",
       "26  3.93\n",
       "27  3.74\n",
       "28  3.50\n",
       "29  3.83"
      ]
     },
     "execution_count": 301,
     "metadata": {},
     "output_type": "execute_result"
    }
   ],
   "source": [
    "s20 = pd.read_csv('gpas.txt', sep = ',', header = None).T\n",
    "s20.columns = [\"GPAS\"]\n",
    "s20"
   ]
  },
  {
   "cell_type": "code",
   "execution_count": 305,
   "id": "c38c6e61-134e-4f70-a194-68eec3672780",
   "metadata": {},
   "outputs": [
    {
     "data": {
      "text/plain": [
       "0     3.46\n",
       "1     3.72\n",
       "2     3.95\n",
       "3     3.55\n",
       "4     3.62\n",
       "5     3.80\n",
       "6     3.86\n",
       "7     3.71\n",
       "8     3.56\n",
       "9     3.49\n",
       "10    3.96\n",
       "11    3.90\n",
       "12    3.70\n",
       "13    3.61\n",
       "14    3.72\n",
       "15    3.65\n",
       "16    3.48\n",
       "17    3.87\n",
       "18    3.82\n",
       "19    3.91\n",
       "20    3.69\n",
       "21    3.67\n",
       "22    3.72\n",
       "23    3.66\n",
       "24    3.79\n",
       "25    3.75\n",
       "26    3.93\n",
       "27    3.74\n",
       "28    3.50\n",
       "29    3.83\n",
       "Name: GPAS, dtype: float64"
      ]
     },
     "execution_count": 305,
     "metadata": {},
     "output_type": "execute_result"
    }
   ],
   "source": [
    "s21 = pd.Series(s20[\"GPAS\"])\n",
    "s21"
   ]
  },
  {
   "cell_type": "code",
   "execution_count": 310,
   "id": "9593da90-6df6-46b3-b9af-bbd88bbf75b2",
   "metadata": {},
   "outputs": [
    {
     "data": {
      "text/plain": [
       "0.8"
      ]
     },
     "execution_count": 310,
     "metadata": {},
     "output_type": "execute_result"
    }
   ],
   "source": [
    "lowLim = s21.mean() - 1.5 * s21.std()\n",
    "upLim = s21.mean() + 1.5 * s21.std()\n",
    "len(s21[(s21 < upLim) & (s21 > lowLim)]) / len(s21)\n"
   ]
  },
  {
   "cell_type": "code",
   "execution_count": 318,
   "id": "c397cb81-4dd1-42d6-9128-e2d7f06e12f1",
   "metadata": {},
   "outputs": [
    {
     "name": "stdout",
     "output_type": "stream",
     "text": [
      "3.4293233648040187\n",
      "4.0120099685293145\n"
     ]
    },
    {
     "data": {
      "text/plain": [
       "0     3.46\n",
       "1     3.72\n",
       "2     3.95\n",
       "3     3.55\n",
       "4     3.62\n",
       "5     3.80\n",
       "6     3.86\n",
       "7     3.71\n",
       "8     3.56\n",
       "9     3.49\n",
       "10    3.96\n",
       "11    3.90\n",
       "12    3.70\n",
       "13    3.61\n",
       "14    3.72\n",
       "15    3.65\n",
       "16    3.48\n",
       "17    3.87\n",
       "18    3.82\n",
       "19    3.91\n",
       "20    3.69\n",
       "21    3.67\n",
       "22    3.72\n",
       "23    3.66\n",
       "24    3.79\n",
       "25    3.75\n",
       "26    3.93\n",
       "27    3.74\n",
       "28    3.50\n",
       "29    3.83\n",
       "Name: GPAS, dtype: float64"
      ]
     },
     "execution_count": 318,
     "metadata": {},
     "output_type": "execute_result"
    }
   ],
   "source": [
    "lowLim1 = s21.mean() - 2 * s21.std()\n",
    "print(lowLim1)\n",
    "upLim1 = s21.mean() + 2 * s21.std()\n",
    "print(upLim1)\n",
    "len(s21[(s21 < upLim1) & (s21 > lowLim1)]) / len(s21)\n",
    "s21"
   ]
  },
  {
   "cell_type": "code",
   "execution_count": 353,
   "id": "71a446ed-c5ad-49a4-bfa2-2cdb0fcc7388",
   "metadata": {},
   "outputs": [
    {
     "name": "stdout",
     "output_type": "stream",
     "text": [
      "(3.399, 3.45]    0\n",
      "(3.45, 3.5]      3\n",
      "(3.5, 3.55]      1\n",
      "(3.55, 3.6]      2\n",
      "(3.6, 3.65]      2\n",
      "(3.65, 3.7]      4\n",
      "(3.7, 3.75]      6\n",
      "(3.75, 3.8]      2\n",
      "(3.8, 3.85]      3\n",
      "(3.85, 3.9]      2\n",
      "(3.9, 3.95]      3\n",
      "(3.95, 4.0]      2\n",
      "Name: GPAS, dtype: int64\n"
     ]
    }
   ],
   "source": [
    "s22 = s21.value_counts(bins = np.arange(3.4, 4.05, 0.05))\n",
    "s23 = s22.sort_index()\n",
    "print(s23)"
   ]
  },
  {
   "cell_type": "code",
   "execution_count": 346,
   "id": "59fef919-f566-4fbb-96ed-034de3a8d202",
   "metadata": {},
   "outputs": [
    {
     "name": "stdout",
     "output_type": "stream",
     "text": [
      "(3.4, 0) (3.4499999999999997, 3) (3.4999999999999996, 1) (3.5499999999999994, 2) (3.599999999999999, 2) (3.649999999999999, 4) (3.699999999999999, 6) (3.7499999999999987, 2) (3.7999999999999985, 3) (3.8499999999999983, 2) (3.899999999999998, 3) (3.949999999999998, 2)\n"
     ]
    }
   ],
   "source": [
    "r4 = np.arange(3.4, 4.05, 0.05)\n",
    "r4.tolist()\n",
    "np.round(r4, 2).tolist()\n",
    "c4 = list(zip(r4, s23.values))\n",
    "print(*c4)"
   ]
  },
  {
   "cell_type": "code",
   "execution_count": 352,
   "id": "6f01b64d-edb5-40a1-b50c-1020cec72547",
   "metadata": {},
   "outputs": [
    {
     "data": {
      "image/png": "[encoded data removed]",
      "text/plain": [
       "<Figure size 432x288 with 1 Axes>"
      ]
     },
     "metadata": {
      "needs_background": "light"
     },
     "output_type": "display_data"
    }
   ],
   "source": []
  },
  {
   "cell_type": "code",
   "execution_count": 366,
   "id": "57a68f7c-c85e-4c29-a81e-a862731ff6e4",
   "metadata": {},
   "outputs": [
    {
     "name": "stdout",
     "output_type": "stream",
     "text": [
      "0.5\n"
     ]
    }
   ],
   "source": [
    "a = stats.norm.cdf(0, loc = 0, scale = 1)\n",
    "print(a)"
   ]
  },
  {
   "cell_type": "code",
   "execution_count": 375,
   "id": "11f29ff3-d49a-4cad-8e1c-6a3aebb20d77",
   "metadata": {},
   "outputs": [
    {
     "data": {
      "text/plain": [
       "86.63855974622838"
      ]
     },
     "execution_count": 375,
     "metadata": {},
     "output_type": "execute_result"
    }
   ],
   "source": [
    "100* (1 - 2*stats.norm.sf(abs(1.5)))"
   ]
  },
  {
   "cell_type": "code",
   "execution_count": 376,
   "id": "0b8ffdc1-21aa-4b5b-8a77-8bef3f932f8c",
   "metadata": {},
   "outputs": [
    {
     "data": {
      "text/plain": [
       "count     40.000000\n",
       "mean     127.425000\n",
       "std       11.873019\n",
       "min      104.000000\n",
       "25%      118.750000\n",
       "50%      127.500000\n",
       "75%      135.250000\n",
       "max      152.000000\n",
       "dtype: float64"
      ]
     },
     "execution_count": 376,
     "metadata": {},
     "output_type": "execute_result"
    }
   ],
   "source": [
    "s25 = pd.read_csv('transistorLives.txt', header = None)\n",
    "s26 = pd.Series(s25.values.flatten())\n",
    "s26.describe()"
   ]
  },
  {
   "cell_type": "code",
   "execution_count": 380,
   "id": "2996532f-b9a5-45e5-8e37-f78383b8b912",
   "metadata": {},
   "outputs": [
    {
     "data": {
      "text/plain": [
       "(99.999, 105.0]    1\n",
       "(105.0, 110.0]     3\n",
       "(110.0, 115.0]     2\n",
       "(115.0, 120.0]     6\n",
       "(120.0, 125.0]     5\n",
       "(125.0, 130.0]     6\n",
       "(130.0, 135.0]     7\n",
       "(135.0, 140.0]     5\n",
       "(140.0, 145.0]     2\n",
       "(145.0, 150.0]     1\n",
       "(150.0, 155.0]     2\n",
       "dtype: int64"
      ]
     },
     "execution_count": 380,
     "metadata": {},
     "output_type": "execute_result"
    }
   ],
   "source": [
    "r5 = np.arange(100, 160, 5)\n",
    "s27 = s26.value_counts(bins = r5)\n",
    "s28 = s27.sort_index()\n",
    "s28"
   ]
  },
  {
   "cell_type": "code",
   "execution_count": 381,
   "id": "f5b95c5d-83b4-452f-8599-52606eba9c62",
   "metadata": {},
   "outputs": [
    {
     "name": "stdout",
     "output_type": "stream",
     "text": [
      "(100, 1) (105, 3) (110, 2) (115, 6) (120, 5) (125, 6) (130, 7) (135, 5) (140, 2) (145, 1) (150, 2)\n"
     ]
    }
   ],
   "source": [
    "c5 = list(zip(r5, s28.values))\n",
    "print(*c5)"
   ]
  },
  {
   "cell_type": "code",
   "execution_count": 382,
   "id": "4ae32c1c-230a-4b40-8f45-85258b28269a",
   "metadata": {},
   "outputs": [
    {
     "name": "stdout",
     "output_type": "stream",
     "text": [
      "109.61547089552683\n",
      "145.23452910447315\n"
     ]
    },
    {
     "data": {
      "text/plain": [
       "0.85"
      ]
     },
     "execution_count": 382,
     "metadata": {},
     "output_type": "execute_result"
    }
   ],
   "source": [
    "lowLim2 = s26.mean() - 1.5 * s26.std()\n",
    "print(lowLim2)\n",
    "upLim2 = s26.mean() + 1.5 * s26.std()\n",
    "print(upLim2)\n",
    "len(s26[(s26 < upLim2) & (s26 > lowLim2)]) / len(s26)"
   ]
  },
  {
   "cell_type": "code",
   "execution_count": 383,
   "id": "9c1066bb-a87d-4b44-a1c4-9a29fd66b9ed",
   "metadata": {},
   "outputs": [],
   "source": [
    "df29 = pd.read_csv('SalaryvsHeight.txt', sep = ' ', engine = 'python', header = None, names = ['Height', 'Salary'])"
   ]
  },
  {
   "cell_type": "code",
   "execution_count": 387,
   "id": "a150d8b8-18d3-4e30-998c-0bfaa0c9ac7b",
   "metadata": {},
   "outputs": [
    {
     "data": {
      "text/plain": [
       "<AxesSubplot:xlabel='Height', ylabel='Salary'>"
      ]
     },
     "execution_count": 387,
     "metadata": {},
     "output_type": "execute_result"
    },
    {
     "data": {
      "image/png": "[encoded data removed]",
      "text/plain": [
       "<Figure size 432x288 with 1 Axes>"
      ]
     },
     "metadata": {
      "needs_background": "light"
     },
     "output_type": "display_data"
    }
   ],
   "source": [
    "df29.plot.scatter(x = 'Height', y = 'Salary')\n"
   ]
  },
  {
   "cell_type": "code",
   "execution_count": 388,
   "id": "7d8a60de-686f-4a6d-baea-89f6b7babb7e",
   "metadata": {},
   "outputs": [
    {
     "name": "stdout",
     "output_type": "stream",
     "text": [
      "(64, 91) (65, 94) (66, 88) (67, 103) (69, 77) (70, 96) (72, 105) (72, 88) (74, 122) (74, 102) (75, 90) (76, 114)\n"
     ]
    }
   ],
   "source": []
  },
  {
   "cell_type": "code",
   "execution_count": 392,
   "id": "3bf5ead4-275e-4ac9-91d3-05cf5ea5e3b3",
   "metadata": {},
   "outputs": [
    {
     "data": {
      "text/plain": [
       "0.4838458705291898"
      ]
     },
     "execution_count": 392,
     "metadata": {},
     "output_type": "execute_result"
    }
   ],
   "source": [
    "df29['Salary'].corr(df29[\"Height\"], method = 'pearson')"
   ]
  },
  {
   "cell_type": "code",
   "execution_count": 394,
   "id": "d783549f-acf5-4a23-b810-608beba3e7ba",
   "metadata": {},
   "outputs": [
    {
     "data": {
      "text/plain": [
       "0.7428881774899726"
      ]
     },
     "execution_count": 394,
     "metadata": {},
     "output_type": "execute_result"
    }
   ],
   "source": [
    "df30 = pd.read_csv('studyHours.txt', sep = ' ', engine = 'python', header = None, names = ['Hours', 'GPA'])\n",
    "df30[\"Hours\"].corr(df30[\"GPA\"])"
   ]
  },
  {
   "cell_type": "code",
   "execution_count": 421,
   "id": "d60259d8-4416-448e-9724-3adce56c2c8c",
   "metadata": {},
   "outputs": [
    {
     "data": {
      "text/html": [
       "<div>\n",
       "<style scoped>\n",
       "    .dataframe tbody tr th:only-of-type {\n",
       "        vertical-align: middle;\n",
       "    }\n",
       "\n",
       "    .dataframe tbody tr th {\n",
       "        vertical-align: top;\n",
       "    }\n",
       "\n",
       "    .dataframe thead th {\n",
       "        text-align: right;\n",
       "    }\n",
       "</style>\n",
       "<table border=\"1\" class=\"dataframe\">\n",
       "  <thead>\n",
       "    <tr style=\"text-align: right;\">\n",
       "      <th></th>\n",
       "      <th>Incomes</th>\n",
       "      <th>Income_cumu</th>\n",
       "      <th>Lorenz Val</th>\n",
       "      <th>Eq_line</th>\n",
       "    </tr>\n",
       "  </thead>\n",
       "  <tbody>\n",
       "    <tr>\n",
       "      <th>0</th>\n",
       "      <td>0</td>\n",
       "      <td>0</td>\n",
       "      <td>0.00</td>\n",
       "      <td>0.00</td>\n",
       "    </tr>\n",
       "    <tr>\n",
       "      <th>1</th>\n",
       "      <td>25</td>\n",
       "      <td>25</td>\n",
       "      <td>0.10</td>\n",
       "      <td>0.17</td>\n",
       "    </tr>\n",
       "    <tr>\n",
       "      <th>2</th>\n",
       "      <td>32</td>\n",
       "      <td>57</td>\n",
       "      <td>0.23</td>\n",
       "      <td>0.33</td>\n",
       "    </tr>\n",
       "    <tr>\n",
       "      <th>3</th>\n",
       "      <td>38</td>\n",
       "      <td>95</td>\n",
       "      <td>0.39</td>\n",
       "      <td>0.50</td>\n",
       "    </tr>\n",
       "    <tr>\n",
       "      <th>4</th>\n",
       "      <td>40</td>\n",
       "      <td>135</td>\n",
       "      <td>0.55</td>\n",
       "      <td>0.67</td>\n",
       "    </tr>\n",
       "    <tr>\n",
       "      <th>5</th>\n",
       "      <td>50</td>\n",
       "      <td>185</td>\n",
       "      <td>0.76</td>\n",
       "      <td>0.83</td>\n",
       "    </tr>\n",
       "    <tr>\n",
       "      <th>6</th>\n",
       "      <td>60</td>\n",
       "      <td>245</td>\n",
       "      <td>1.00</td>\n",
       "      <td>1.00</td>\n",
       "    </tr>\n",
       "  </tbody>\n",
       "</table>\n",
       "</div>"
      ],
      "text/plain": [
       "   Incomes  Income_cumu  Lorenz Val  Eq_line\n",
       "0        0            0        0.00     0.00\n",
       "1       25           25        0.10     0.17\n",
       "2       32           57        0.23     0.33\n",
       "3       38           95        0.39     0.50\n",
       "4       40          135        0.55     0.67\n",
       "5       50          185        0.76     0.83\n",
       "6       60          245        1.00     1.00"
      ]
     },
     "execution_count": 421,
     "metadata": {},
     "output_type": "execute_result"
    }
   ],
   "source": [
    "df31 = pd.DataFrame(np.sort(np.array([0, 25,32,60,40,38,50])), columns = [\"Incomes\"])\n",
    "df31[\"Income_cumu\"] = df31[\"Incomes\"].cumsum()\n",
    "df31[\"Lorenz Val\"] = (df31[\"Income_cumu\"] / df31[\"Incomes\"].sum()).round(2)\n",
    "df31[\"Eq_line\"] = (np.arange(0, len(df31.index)) / (len(df31.index) - 1)).round(2)\n",
    "df31"
   ]
  },
  {
   "cell_type": "code",
   "execution_count": 422,
   "id": "0efd9e9d-f14e-4595-b729-000316c0cfc2",
   "metadata": {},
   "outputs": [
    {
     "name": "stdout",
     "output_type": "stream",
     "text": [
      "(0.0, 0.0) (0.17, 0.1) (0.33, 0.23) (0.5, 0.39) (0.67, 0.55) (0.83, 0.76) (1.0, 1.0)\n"
     ]
    }
   ],
   "source": [
    "c7 = list(zip(df31[\"Eq_line\"], df31[\"Lorenz Val\"]))\n",
    "print(*c7)"
   ]
  },
  {
   "cell_type": "code",
   "execution_count": 425,
   "id": "2e5682b9-87df-4b9d-94cd-a7dc02580d7b",
   "metadata": {},
   "outputs": [
    {
     "data": {
      "text/plain": [
       "0.15666666666666662"
      ]
     },
     "execution_count": 425,
     "metadata": {},
     "output_type": "execute_result"
    }
   ],
   "source": [
    "1 - 2 * np.trapz(df31[\"Lorenz Val\"], dx = (1/6))"
   ]
  },
  {
   "cell_type": "code",
   "execution_count": 440,
   "id": "9be99bde-ad53-448d-937a-c527a236fc60",
   "metadata": {},
   "outputs": [
    {
     "name": "stdout",
     "output_type": "stream",
     "text": [
      "[ 30  30  50  50  50  50  60  60  60  60  60  90  90  90  90 100 100 100\n",
      " 120 120]\n"
     ]
    }
   ],
   "source": [
    "df32 = pd.read_csv('gini_income.txt', sep = ' ', engine = 'python', header = None, names = ['Income', 'Frequency'])\n",
    "\n",
    "allIncomes = np.array([])\n",
    "a32 = np.array(list(zip(df32[\"Income\"], df32[\"Frequency\"])))\n",
    "a33 = np.repeat(a32[:, 0], a32[:, 1])\n",
    "print(a33)"
   ]
  },
  {
   "cell_type": "code",
   "execution_count": 442,
   "id": "f5aa9319-2f3e-4595-85ea-c809788b6a5e",
   "metadata": {},
   "outputs": [
    {
     "data": {
      "text/html": [
       "<div>\n",
       "<style scoped>\n",
       "    .dataframe tbody tr th:only-of-type {\n",
       "        vertical-align: middle;\n",
       "    }\n",
       "\n",
       "    .dataframe tbody tr th {\n",
       "        vertical-align: top;\n",
       "    }\n",
       "\n",
       "    .dataframe thead th {\n",
       "        text-align: right;\n",
       "    }\n",
       "</style>\n",
       "<table border=\"1\" class=\"dataframe\">\n",
       "  <thead>\n",
       "    <tr style=\"text-align: right;\">\n",
       "      <th></th>\n",
       "      <th>Incomes1</th>\n",
       "      <th>Income_cumu1</th>\n",
       "      <th>Lorenz Val1</th>\n",
       "      <th>Eq_line1</th>\n",
       "    </tr>\n",
       "  </thead>\n",
       "  <tbody>\n",
       "    <tr>\n",
       "      <th>0</th>\n",
       "      <td>30</td>\n",
       "      <td>30</td>\n",
       "      <td>0.02</td>\n",
       "      <td>0.00</td>\n",
       "    </tr>\n",
       "    <tr>\n",
       "      <th>1</th>\n",
       "      <td>30</td>\n",
       "      <td>60</td>\n",
       "      <td>0.04</td>\n",
       "      <td>0.05</td>\n",
       "    </tr>\n",
       "    <tr>\n",
       "      <th>2</th>\n",
       "      <td>50</td>\n",
       "      <td>110</td>\n",
       "      <td>0.08</td>\n",
       "      <td>0.11</td>\n",
       "    </tr>\n",
       "    <tr>\n",
       "      <th>3</th>\n",
       "      <td>50</td>\n",
       "      <td>160</td>\n",
       "      <td>0.11</td>\n",
       "      <td>0.16</td>\n",
       "    </tr>\n",
       "    <tr>\n",
       "      <th>4</th>\n",
       "      <td>50</td>\n",
       "      <td>210</td>\n",
       "      <td>0.14</td>\n",
       "      <td>0.21</td>\n",
       "    </tr>\n",
       "    <tr>\n",
       "      <th>5</th>\n",
       "      <td>50</td>\n",
       "      <td>260</td>\n",
       "      <td>0.18</td>\n",
       "      <td>0.26</td>\n",
       "    </tr>\n",
       "    <tr>\n",
       "      <th>6</th>\n",
       "      <td>60</td>\n",
       "      <td>320</td>\n",
       "      <td>0.22</td>\n",
       "      <td>0.32</td>\n",
       "    </tr>\n",
       "    <tr>\n",
       "      <th>7</th>\n",
       "      <td>60</td>\n",
       "      <td>380</td>\n",
       "      <td>0.26</td>\n",
       "      <td>0.37</td>\n",
       "    </tr>\n",
       "    <tr>\n",
       "      <th>8</th>\n",
       "      <td>60</td>\n",
       "      <td>440</td>\n",
       "      <td>0.30</td>\n",
       "      <td>0.42</td>\n",
       "    </tr>\n",
       "    <tr>\n",
       "      <th>9</th>\n",
       "      <td>60</td>\n",
       "      <td>500</td>\n",
       "      <td>0.34</td>\n",
       "      <td>0.47</td>\n",
       "    </tr>\n",
       "    <tr>\n",
       "      <th>10</th>\n",
       "      <td>60</td>\n",
       "      <td>560</td>\n",
       "      <td>0.38</td>\n",
       "      <td>0.53</td>\n",
       "    </tr>\n",
       "    <tr>\n",
       "      <th>11</th>\n",
       "      <td>90</td>\n",
       "      <td>650</td>\n",
       "      <td>0.45</td>\n",
       "      <td>0.58</td>\n",
       "    </tr>\n",
       "    <tr>\n",
       "      <th>12</th>\n",
       "      <td>90</td>\n",
       "      <td>740</td>\n",
       "      <td>0.51</td>\n",
       "      <td>0.63</td>\n",
       "    </tr>\n",
       "    <tr>\n",
       "      <th>13</th>\n",
       "      <td>90</td>\n",
       "      <td>830</td>\n",
       "      <td>0.57</td>\n",
       "      <td>0.68</td>\n",
       "    </tr>\n",
       "    <tr>\n",
       "      <th>14</th>\n",
       "      <td>90</td>\n",
       "      <td>920</td>\n",
       "      <td>0.63</td>\n",
       "      <td>0.74</td>\n",
       "    </tr>\n",
       "    <tr>\n",
       "      <th>15</th>\n",
       "      <td>100</td>\n",
       "      <td>1020</td>\n",
       "      <td>0.70</td>\n",
       "      <td>0.79</td>\n",
       "    </tr>\n",
       "    <tr>\n",
       "      <th>16</th>\n",
       "      <td>100</td>\n",
       "      <td>1120</td>\n",
       "      <td>0.77</td>\n",
       "      <td>0.84</td>\n",
       "    </tr>\n",
       "    <tr>\n",
       "      <th>17</th>\n",
       "      <td>100</td>\n",
       "      <td>1220</td>\n",
       "      <td>0.84</td>\n",
       "      <td>0.89</td>\n",
       "    </tr>\n",
       "    <tr>\n",
       "      <th>18</th>\n",
       "      <td>120</td>\n",
       "      <td>1340</td>\n",
       "      <td>0.92</td>\n",
       "      <td>0.95</td>\n",
       "    </tr>\n",
       "    <tr>\n",
       "      <th>19</th>\n",
       "      <td>120</td>\n",
       "      <td>1460</td>\n",
       "      <td>1.00</td>\n",
       "      <td>1.00</td>\n",
       "    </tr>\n",
       "  </tbody>\n",
       "</table>\n",
       "</div>"
      ],
      "text/plain": [
       "    Incomes1  Income_cumu1  Lorenz Val1  Eq_line1\n",
       "0         30            30         0.02      0.00\n",
       "1         30            60         0.04      0.05\n",
       "2         50           110         0.08      0.11\n",
       "3         50           160         0.11      0.16\n",
       "4         50           210         0.14      0.21\n",
       "5         50           260         0.18      0.26\n",
       "6         60           320         0.22      0.32\n",
       "7         60           380         0.26      0.37\n",
       "8         60           440         0.30      0.42\n",
       "9         60           500         0.34      0.47\n",
       "10        60           560         0.38      0.53\n",
       "11        90           650         0.45      0.58\n",
       "12        90           740         0.51      0.63\n",
       "13        90           830         0.57      0.68\n",
       "14        90           920         0.63      0.74\n",
       "15       100          1020         0.70      0.79\n",
       "16       100          1120         0.77      0.84\n",
       "17       100          1220         0.84      0.89\n",
       "18       120          1340         0.92      0.95\n",
       "19       120          1460         1.00      1.00"
      ]
     },
     "execution_count": 442,
     "metadata": {},
     "output_type": "execute_result"
    }
   ],
   "source": [
    "df32 = pd.DataFrame(a33, columns = [\"Incomes1\"])\n",
    "df32[\"Income_cumu1\"] = df32[\"Incomes1\"].cumsum()\n",
    "df32[\"Lorenz Val1\"] = (df32[\"Income_cumu1\"] / df32[\"Incomes1\"].sum()).round(2)\n",
    "df32[\"Eq_line1\"] = (np.arange(0, len(df32.index)) / (len(df32.index) - 1)).round(2)\n",
    "df32"
   ]
  },
  {
   "cell_type": "code",
   "execution_count": 443,
   "id": "8b9ef154-9055-4c94-b885-ba1ffb026a08",
   "metadata": {},
   "outputs": [
    {
     "name": "stdout",
     "output_type": "stream",
     "text": [
      "(0.0, 0.02) (0.05, 0.04) (0.11, 0.08) (0.16, 0.11) (0.21, 0.14) (0.26, 0.18) (0.32, 0.22) (0.37, 0.26) (0.42, 0.3) (0.47, 0.34) (0.53, 0.38) (0.58, 0.45) (0.63, 0.51) (0.68, 0.57) (0.74, 0.63) (0.79, 0.7) (0.84, 0.77) (0.89, 0.84) (0.95, 0.92) (1.0, 1.0)\n"
     ]
    }
   ],
   "source": [
    "c8 = list(zip(df32[\"Eq_line1\"], df32[\"Lorenz Val1\"]))\n",
    "print(*c8)"
   ]
  },
  {
   "cell_type": "code",
   "execution_count": 445,
   "id": "d1b06d84-10b4-41aa-90c3-5343f8b884e8",
   "metadata": {},
   "outputs": [
    {
     "data": {
      "text/plain": [
       "0.16315789473684217"
      ]
     },
     "execution_count": 445,
     "metadata": {},
     "output_type": "execute_result"
    }
   ],
   "source": [
    "1 - 2 * np.trapz(df32[\"Lorenz Val1\"], dx = (1/19))"
   ]
  },
  {
   "cell_type": "code",
   "execution_count": null,
   "id": "9fa610e3-cb5b-41d1-af76-133c57482acb",
   "metadata": {},
   "outputs": [],
   "source": []
  }
 ],
 "metadata": {
  "kernelspec": {
   "display_name": "Python 3",
   "language": "python",
   "name": "python3"
  },
  "language_info": {
   "codemirror_mode": {
    "name": "ipython",
    "version": 3
   },
   "file_extension": ".py",
   "mimetype": "text/x-python",
   "name": "python",
   "nbconvert_exporter": "python",
   "pygments_lexer": "ipython3",
   "version": "3.8.3"
  }
 },
 "nbformat": 4,
 "nbformat_minor": 5
}
