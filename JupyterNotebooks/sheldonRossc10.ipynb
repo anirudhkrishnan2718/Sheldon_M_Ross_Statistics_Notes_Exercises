{
 "cells": [
  {
   "cell_type": "code",
   "execution_count": 1,
   "source": [
    "import numpy as np\r\n",
    "import pandas as pd\r\n",
    "import string\r\n",
    "import calendar\r\n",
    "import re\r\n",
    "import math\r\n",
    "import sympy\r\n",
    "import matplotlib.pyplot as plt\r\n",
    "import pprint\r\n",
    "\r\n",
    "from fractions import Fraction\r\n",
    "from scipy import stats\r\n",
    "from scipy import special\r\n",
    "\r\n",
    "\r\n",
    "print(f\"numpy version is {np.__version__}\")\r\n",
    "print(f\"pandas version is {pd.__version__}\")\r\n"
   ],
   "outputs": [
    {
     "output_type": "stream",
     "name": "stdout",
     "text": [
      "numpy version is 1.20.3\n",
      "pandas version is 1.3.2\n"
     ]
    }
   ],
   "metadata": {}
  },
  {
   "cell_type": "code",
   "execution_count": 75,
   "source": [
    "def getDiscreteProbsExpon(input_ranges, meanIn):\r\n",
    "    prob_out = []\r\n",
    "    for i in input_ranges:\r\n",
    "        if i[0] == '<':\r\n",
    "            high = float(i[1:])\r\n",
    "            prob_out.append(stats.expon.cdf(high, scale = meanIn))\r\n",
    "        elif i[0] == '>':\r\n",
    "            low = float(i[1:])\r\n",
    "            prob_out.append(1 - stats.expon.cdf(low, scale = meanIn))\r\n",
    "        else:\r\n",
    "            low, high = i.split('-')\r\n",
    "            prob_out.append(stats.expon.cdf(float(high), scale = meanIn) - stats.expon.cdf(float(low), scale = meanIn))\r\n",
    "    return np.array(prob_out)"
   ],
   "outputs": [],
   "metadata": {}
  },
  {
   "cell_type": "markdown",
   "source": [
    "### Goodness of fit test with all parameters specified"
   ],
   "metadata": {}
  },
  {
   "cell_type": "code",
   "execution_count": 80,
   "source": [
    "# manual data entry\r\n",
    "\r\n",
    "prob        = np.array([0.4, 0.3, 0.2, 0.1])\r\n",
    "names       = ['Top', 'High', 'Medium', 'Low']\r\n",
    "X           = np.array([234, 117, 81, 68])\r\n",
    "\r\n",
    "# read data from text file\r\n",
    "# rawData     = np.loadtxt('GOF_test_specified.txt', dtype = ('str', 'str'), delimiter= ' ')\r\n",
    "# names       = np.squeeze(rawData[:, 0]).astype(str)\r\n",
    "# X           = np.squeeze(rawData[:, 1]).astype(int)\r\n",
    "\r\n",
    "\r\n",
    "\r\n",
    "# probabilities of the assumed distribution function\r\n",
    "\r\n",
    "# Uniform\r\n",
    "# prob        = (np.ones(X.shape[0]) * 1/6).round(4)\r\n",
    "\r\n",
    "# Poisson\r\n",
    "# poisMean = 4.2\r\n",
    "# prob = stats.poisson.pmf(names, poisMean)\r\n",
    "\r\n",
    "# Exponential\r\n",
    "# exponMean   = 50\r\n",
    "# prob        = getDiscreteProbsExpon(names, exponMean)\r\n",
    "\r\n",
    "\r\n",
    "sig         = 5\r\n",
    "n           = X.sum()\r\n",
    "k           = prob.shape[0]\r\n",
    "\r\n",
    "testStat    = -n + np.divide((X ** 2) , n * prob).sum()\r\n",
    "pVal        = 1 - stats.chi2.cdf(testStat, k - 1)\r\n",
    "hypo        = 'rejected' if pVal < 0.01 * sig else 'accepted'\r\n",
    "\r\n"
   ],
   "outputs": [],
   "metadata": {}
  },
  {
   "cell_type": "markdown",
   "source": [
    "#### output as table"
   ],
   "metadata": {}
  },
  {
   "cell_type": "code",
   "execution_count": 81,
   "source": [
    "outDict     ={'Test Statistic'          : '{:.2e}'.format(testStat),\r\n",
    "            '$p$ value \\%'               : '{:.2f}'.format(100 * pVal),\r\n",
    "            'Significance ($\\\\alpha$) \\%': '{:.2f}'.format(sig),\r\n",
    "            'null hypothesis ($H_0$)'   : hypo,\r\n",
    "            'minimum $n p_i$'           : '{:.0f}'.format(min(np.multiply(prob, n)))\r\n",
    "            }\r\n",
    "dfb = pd.DataFrame.from_dict(outDict, orient='index', columns = ['Value'])\r\n",
    "\r\n",
    "df                      = pd.DataFrame(np.vstack((X.astype(str), prob.round(4))).T, columns= ['$X_i$', '$p_i$'], index=names)\r\n",
    "df                      = df.append(pd.Series({'$X_i$' : n, '$p_i$' : 1}, name = 'Total'))"
   ],
   "outputs": [],
   "metadata": {}
  },
  {
   "cell_type": "code",
   "execution_count": 82,
   "source": [
    "s3          = df.to_latex(escape=False, column_format='@{}lrr@{}')\r\n",
    "s3          = s3.replace('Total', '\\midrule\\nTotal')\r\n",
    "s3          = s3.replace('{} &', 'Grade &')\r\n",
    "s4          = dfb.to_latex(escape=False, column_format='@{}lr@{}')\r\n",
    "s4          = s4.replace('{} &     Value', '\\multicolumn{2}{c}{\\\\texttt{Goodness of Fit Test}}')\r\n",
    "\r\n",
    "print('\\\\begin{table}[H]')\r\n",
    "print('\\\\centering')\r\n",
    "print('\\\\begin{minipage}{0.4\\\\textwidth}')\r\n",
    "print('\\\\centering')\r\n",
    "print(s3)\r\n",
    "print('\\\\end{minipage}')\r\n",
    "print('\\\\begin{minipage}{0.4\\\\textwidth}')\r\n",
    "print('\\\\centering')\r\n",
    "print(s4)\r\n",
    "print('\\\\end{minipage}')\r\n",
    "print('\\\\end{table}')\r\n",
    "print('\\\\bigskip')\r\n"
   ],
   "outputs": [
    {
     "output_type": "stream",
     "name": "stdout",
     "text": [
      "\\begin{table}[H]\n",
      "\\centering\n",
      "\\begin{minipage}{0.4\\textwidth}\n",
      "\\centering\n",
      "\\begin{tabular}{@{}lrr@{}}\n",
      "\\toprule\n",
      "Grade & $X_i$ & $p_i$ \\\\\n",
      "\\midrule\n",
      "Top    &   234 &   0.4 \\\\\n",
      "High   &   117 &   0.3 \\\\\n",
      "Medium &    81 &   0.2 \\\\\n",
      "Low    &    68 &   0.1 \\\\\n",
      "\\midrule\n",
      "Total  &   500 &     1 \\\\\n",
      "\\bottomrule\n",
      "\\end{tabular}\n",
      "\n",
      "\\end{minipage}\n",
      "\\begin{minipage}{0.4\\textwidth}\n",
      "\\centering\n",
      "\\begin{tabular}{@{}lr@{}}\n",
      "\\toprule\n",
      "\\multicolumn{2}{c}{\\texttt{Goodness of Fit Test}} \\\\\n",
      "\\midrule\n",
      "Test Statistic             &  2.31e+01 \\\\\n",
      "$p$ value \\%               &      0.00 \\\\\n",
      "Significance ($\\alpha$) \\% &      5.00 \\\\\n",
      "null hypothesis ($H_0$)    &  rejected \\\\\n",
      "minimum $n p_i$            &        50 \\\\\n",
      "\\bottomrule\n",
      "\\end{tabular}\n",
      "\n",
      "\\end{minipage}\n",
      "\\end{table}\n",
      "\\bigskip\n"
     ]
    }
   ],
   "metadata": {}
  },
  {
   "cell_type": "code",
   "execution_count": 11,
   "source": [],
   "outputs": [
    {
     "output_type": "execute_result",
     "data": {
      "text/plain": [
       "0.0026949434242697717"
      ]
     },
     "metadata": {},
     "execution_count": 11
    }
   ],
   "metadata": {}
  },
  {
   "cell_type": "code",
   "execution_count": 72,
   "source": [
    "rawData     = np.loadtxt('GOF_test_specified.txt', dtype = ('str', 'str'), delimiter= ' ')\r\n",
    "names       = np.squeeze(rawData[:, 0]).astype(str)\r\n",
    "X           = np.squeeze(rawData[:, 1]).astype(int)\r\n",
    "\r\n"
   ],
   "outputs": [
    {
     "output_type": "execute_result",
     "data": {
      "text/plain": [
       "[0.4511883639059735,\n",
       " 0.2476174241818243,\n",
       " 0.13589532369061563,\n",
       " 0.16529888822158656]"
      ]
     },
     "metadata": {},
     "execution_count": 72
    }
   ],
   "metadata": {}
  },
  {
   "cell_type": "code",
   "execution_count": 60,
   "source": [
    "stats.expon.cdf(30, scale=50)"
   ],
   "outputs": [
    {
     "output_type": "execute_result",
     "data": {
      "text/plain": [
       "0.4511883639059735"
      ]
     },
     "metadata": {},
     "execution_count": 60
    }
   ],
   "metadata": {}
  },
  {
   "cell_type": "code",
   "execution_count": 56,
   "source": [
    "names"
   ],
   "outputs": [
    {
     "output_type": "execute_result",
     "data": {
      "text/plain": [
       "array(['<30', '30-60', '60-90', '>90'], dtype='<U5')"
      ]
     },
     "metadata": {},
     "execution_count": 56
    }
   ],
   "metadata": {}
  },
  {
   "cell_type": "code",
   "execution_count": null,
   "source": [],
   "outputs": [],
   "metadata": {}
  }
 ],
 "metadata": {
  "orig_nbformat": 4,
  "language_info": {
   "name": "python",
   "version": "3.8.3",
   "mimetype": "text/x-python",
   "codemirror_mode": {
    "name": "ipython",
    "version": 3
   },
   "pygments_lexer": "ipython3",
   "nbconvert_exporter": "python",
   "file_extension": ".py"
  },
  "kernelspec": {
   "name": "python3",
   "display_name": "Python 3.8.3 64-bit ('base': conda)"
  },
  "interpreter": {
   "hash": "73e03da126b73bfff3642ec5261d56fa25c444ea595de51041687efaa60dda41"
  }
 },
 "nbformat": 4,
 "nbformat_minor": 2
}